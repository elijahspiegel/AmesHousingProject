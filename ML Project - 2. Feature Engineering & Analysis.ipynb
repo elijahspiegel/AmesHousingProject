{
 "cells": [
  {
   "cell_type": "markdown",
   "id": "b569494a",
   "metadata": {},
   "source": [
    "# 2. Feature Engineering & Analysis"
   ]
  },
  {
   "cell_type": "markdown",
   "id": "ae57bf2f",
   "metadata": {},
   "source": [
    "Note: This notebook is **Part 2** of a three notebook series:\n",
    "\n",
    "- Part 1: ML Project - 1. Exploratory Data Analysis\n",
    "- Part 2: ML Project - 2. Feature Engineering & Analysis\n",
    "- Part 3: ML Project - 3. Modeling\n",
    "\n",
    "**Part 2** focuses on processing the data that is exported from `ML Project - 1. Exploratory Data Analysis` and analyzing features which will be modeled in the subsequent notebook, Part 3."
   ]
  },
  {
   "cell_type": "markdown",
   "id": "b9ebbd41",
   "metadata": {},
   "source": [
    "## 2.1. Pre-Processing"
   ]
  },
  {
   "cell_type": "markdown",
   "id": "b6fc40aa",
   "metadata": {},
   "source": [
    "**2.1.a.** Import required libraries."
   ]
  },
  {
   "cell_type": "code",
   "execution_count": 4,
   "id": "a81f76ea",
   "metadata": {},
   "outputs": [],
   "source": [
    "import numpy as np\n",
    "import pandas as pd\n",
    "import seaborn as sns\n",
    "from sklearn.ensemble import RandomForestRegressor\n",
    "from sklearn.model_selection import GridSearchCV\n",
    "from sklearn.tree import export_graphviz\n",
    "from sklearn import preprocessing"
   ]
  },
  {
   "cell_type": "markdown",
   "id": "6d461574",
   "metadata": {},
   "source": [
    "**2.1.b.** Read in cleaned dataframe."
   ]
  },
  {
   "cell_type": "code",
   "execution_count": 5,
   "id": "03e901d9",
   "metadata": {
    "scrolled": false
   },
   "outputs": [
    {
     "name": "stdout",
     "output_type": "stream",
     "text": [
      "(2579, 90)\n"
     ]
    },
    {
     "data": {
      "text/plain": [
       "Index(['PID', 'GrLivArea', 'SalePrice', 'MSSubClass', 'MSZoning',\n",
       "       'LotFrontage', 'LotArea', 'Street', 'Alley', 'LotShape', 'LandContour',\n",
       "       'Utilities', 'LotConfig', 'LandSlope', 'Neighborhood', 'Condition1',\n",
       "       'Condition2', 'BldgType', 'HouseStyle', 'OverallQual', 'OverallCond',\n",
       "       'YearBuilt', 'YearRemodAdd', 'RoofStyle', 'RoofMatl', 'Exterior1st',\n",
       "       'Exterior2nd', 'MasVnrType', 'MasVnrArea', 'ExterQual', 'ExterCond',\n",
       "       'Foundation', 'BsmtQual', 'BsmtCond', 'BsmtExposure', 'BsmtFinType1',\n",
       "       'BsmtFinSF1', 'BsmtFinType2', 'BsmtFinSF2', 'BsmtUnfSF', 'TotalBsmtSF',\n",
       "       'Heating', 'HeatingQC', 'CentralAir', 'Electrical', '1stFlrSF',\n",
       "       '2ndFlrSF', 'LowQualFinSF', 'BsmtFullBath', 'BsmtHalfBath', 'FullBath',\n",
       "       'HalfBath', 'BedroomAbvGr', 'KitchenAbvGr', 'KitchenQual',\n",
       "       'TotRmsAbvGrd', 'Functional', 'Fireplaces', 'FireplaceQu', 'GarageType',\n",
       "       'GarageFinish', 'GarageCars', 'GarageArea', 'GarageQual', 'GarageCond',\n",
       "       'PavedDrive', 'WoodDeckSF', 'OpenPorchSF', 'EnclosedPorch', '3SsnPorch',\n",
       "       'ScreenPorch', 'PoolArea', 'PoolQC', 'Fence', 'MiscFeature', 'MiscVal',\n",
       "       'MoSold', 'YrSold', 'SaleType', 'SaleCondition', 'ExteriorSF',\n",
       "       'AgeAtSale', 'TotalFullBath', 'TotalHalfBath', 'GarageAgeAtSale',\n",
       "       'Prop_Addr', 'MA_Ownr1', 'MA_Ownr2', 'Latitude', 'Longitude'],\n",
       "      dtype='object')"
      ]
     },
     "execution_count": 5,
     "metadata": {},
     "output_type": "execute_result"
    }
   ],
   "source": [
    "housedf_raw = pd.read_csv('data/Ames_HousePrice_processed.csv', index_col=0)\n",
    "print(housedf_raw.shape)\n",
    "housedf_raw.columns"
   ]
  },
  {
   "cell_type": "markdown",
   "id": "802931aa",
   "metadata": {},
   "source": [
    "**2.1.c.** Check to see if dataframe has been read as intended."
   ]
  },
  {
   "cell_type": "code",
   "execution_count": 6,
   "id": "ebd54d97",
   "metadata": {
    "scrolled": true
   },
   "outputs": [
    {
     "data": {
      "text/html": [
       "<div>\n",
       "<style scoped>\n",
       "    .dataframe tbody tr th:only-of-type {\n",
       "        vertical-align: middle;\n",
       "    }\n",
       "\n",
       "    .dataframe tbody tr th {\n",
       "        vertical-align: top;\n",
       "    }\n",
       "\n",
       "    .dataframe thead th {\n",
       "        text-align: right;\n",
       "    }\n",
       "</style>\n",
       "<table border=\"1\" class=\"dataframe\">\n",
       "  <thead>\n",
       "    <tr style=\"text-align: right;\">\n",
       "      <th></th>\n",
       "      <th>PID</th>\n",
       "      <th>GrLivArea</th>\n",
       "      <th>SalePrice</th>\n",
       "      <th>MSSubClass</th>\n",
       "      <th>MSZoning</th>\n",
       "      <th>LotFrontage</th>\n",
       "      <th>LotArea</th>\n",
       "      <th>Street</th>\n",
       "      <th>Alley</th>\n",
       "      <th>LotShape</th>\n",
       "      <th>...</th>\n",
       "      <th>ExteriorSF</th>\n",
       "      <th>AgeAtSale</th>\n",
       "      <th>TotalFullBath</th>\n",
       "      <th>TotalHalfBath</th>\n",
       "      <th>GarageAgeAtSale</th>\n",
       "      <th>Prop_Addr</th>\n",
       "      <th>MA_Ownr1</th>\n",
       "      <th>MA_Ownr2</th>\n",
       "      <th>Latitude</th>\n",
       "      <th>Longitude</th>\n",
       "    </tr>\n",
       "  </thead>\n",
       "  <tbody>\n",
       "    <tr>\n",
       "      <th>0</th>\n",
       "      <td>909176150</td>\n",
       "      <td>856</td>\n",
       "      <td>126000</td>\n",
       "      <td>30</td>\n",
       "      <td>RL</td>\n",
       "      <td>0.0</td>\n",
       "      <td>7890</td>\n",
       "      <td>Pave</td>\n",
       "      <td>No alley</td>\n",
       "      <td>Reg</td>\n",
       "      <td>...</td>\n",
       "      <td>7034</td>\n",
       "      <td>71</td>\n",
       "      <td>2.0</td>\n",
       "      <td>0.0</td>\n",
       "      <td>71.0</td>\n",
       "      <td>436 HAYWARD AVE</td>\n",
       "      <td>GREINER, RODNEY &amp; CELIA</td>\n",
       "      <td>NaN</td>\n",
       "      <td>42.018564</td>\n",
       "      <td>-93.651619</td>\n",
       "    </tr>\n",
       "    <tr>\n",
       "      <th>1</th>\n",
       "      <td>905476230</td>\n",
       "      <td>1049</td>\n",
       "      <td>139500</td>\n",
       "      <td>120</td>\n",
       "      <td>RL</td>\n",
       "      <td>42.0</td>\n",
       "      <td>4235</td>\n",
       "      <td>Pave</td>\n",
       "      <td>No alley</td>\n",
       "      <td>Reg</td>\n",
       "      <td>...</td>\n",
       "      <td>3186</td>\n",
       "      <td>25</td>\n",
       "      <td>3.0</td>\n",
       "      <td>0.0</td>\n",
       "      <td>25.0</td>\n",
       "      <td>3416 WEST ST</td>\n",
       "      <td>HUBERT, JOHN F &amp; GRETTA R</td>\n",
       "      <td>NaN</td>\n",
       "      <td>42.024855</td>\n",
       "      <td>-93.663671</td>\n",
       "    </tr>\n",
       "    <tr>\n",
       "      <th>2</th>\n",
       "      <td>911128020</td>\n",
       "      <td>1001</td>\n",
       "      <td>124900</td>\n",
       "      <td>30</td>\n",
       "      <td>C (all)</td>\n",
       "      <td>60.0</td>\n",
       "      <td>6060</td>\n",
       "      <td>Pave</td>\n",
       "      <td>No alley</td>\n",
       "      <td>Reg</td>\n",
       "      <td>...</td>\n",
       "      <td>5059</td>\n",
       "      <td>77</td>\n",
       "      <td>1.0</td>\n",
       "      <td>0.0</td>\n",
       "      <td>77.0</td>\n",
       "      <td>320 S 2ND ST</td>\n",
       "      <td>SKLENAR, TIM</td>\n",
       "      <td>CARNEY, SARAH</td>\n",
       "      <td>42.021548</td>\n",
       "      <td>-93.614068</td>\n",
       "    </tr>\n",
       "    <tr>\n",
       "      <th>3</th>\n",
       "      <td>535377150</td>\n",
       "      <td>1039</td>\n",
       "      <td>114000</td>\n",
       "      <td>70</td>\n",
       "      <td>RL</td>\n",
       "      <td>80.0</td>\n",
       "      <td>8146</td>\n",
       "      <td>Pave</td>\n",
       "      <td>No alley</td>\n",
       "      <td>Reg</td>\n",
       "      <td>...</td>\n",
       "      <td>7429</td>\n",
       "      <td>109</td>\n",
       "      <td>1.0</td>\n",
       "      <td>0.0</td>\n",
       "      <td>69.0</td>\n",
       "      <td>1524 DOUGLAS AVE</td>\n",
       "      <td>MILLARD, TAMMY</td>\n",
       "      <td>NaN</td>\n",
       "      <td>42.037391</td>\n",
       "      <td>-93.612207</td>\n",
       "    </tr>\n",
       "    <tr>\n",
       "      <th>4</th>\n",
       "      <td>534177230</td>\n",
       "      <td>1665</td>\n",
       "      <td>227000</td>\n",
       "      <td>60</td>\n",
       "      <td>RL</td>\n",
       "      <td>70.0</td>\n",
       "      <td>8400</td>\n",
       "      <td>Pave</td>\n",
       "      <td>No alley</td>\n",
       "      <td>Reg</td>\n",
       "      <td>...</td>\n",
       "      <td>7590</td>\n",
       "      <td>8</td>\n",
       "      <td>3.0</td>\n",
       "      <td>1.0</td>\n",
       "      <td>8.0</td>\n",
       "      <td>2304 FILLMORE AVE</td>\n",
       "      <td>SEBBAG, LIONEL</td>\n",
       "      <td>LEVIN, ALISON P</td>\n",
       "      <td>42.044554</td>\n",
       "      <td>-93.631818</td>\n",
       "    </tr>\n",
       "  </tbody>\n",
       "</table>\n",
       "<p>5 rows × 90 columns</p>\n",
       "</div>"
      ],
      "text/plain": [
       "         PID  GrLivArea  SalePrice  MSSubClass MSZoning  LotFrontage  LotArea  \\\n",
       "0  909176150        856     126000          30       RL          0.0     7890   \n",
       "1  905476230       1049     139500         120       RL         42.0     4235   \n",
       "2  911128020       1001     124900          30  C (all)         60.0     6060   \n",
       "3  535377150       1039     114000          70       RL         80.0     8146   \n",
       "4  534177230       1665     227000          60       RL         70.0     8400   \n",
       "\n",
       "  Street     Alley LotShape  ... ExteriorSF AgeAtSale TotalFullBath  \\\n",
       "0   Pave  No alley      Reg  ...       7034        71           2.0   \n",
       "1   Pave  No alley      Reg  ...       3186        25           3.0   \n",
       "2   Pave  No alley      Reg  ...       5059        77           1.0   \n",
       "3   Pave  No alley      Reg  ...       7429       109           1.0   \n",
       "4   Pave  No alley      Reg  ...       7590         8           3.0   \n",
       "\n",
       "  TotalHalfBath GarageAgeAtSale          Prop_Addr                   MA_Ownr1  \\\n",
       "0           0.0            71.0    436 HAYWARD AVE    GREINER, RODNEY & CELIA   \n",
       "1           0.0            25.0       3416 WEST ST  HUBERT, JOHN F & GRETTA R   \n",
       "2           0.0            77.0       320 S 2ND ST               SKLENAR, TIM   \n",
       "3           0.0            69.0   1524 DOUGLAS AVE             MILLARD, TAMMY   \n",
       "4           1.0             8.0  2304 FILLMORE AVE             SEBBAG, LIONEL   \n",
       "\n",
       "          MA_Ownr2   Latitude  Longitude  \n",
       "0              NaN  42.018564 -93.651619  \n",
       "1              NaN  42.024855 -93.663671  \n",
       "2    CARNEY, SARAH  42.021548 -93.614068  \n",
       "3              NaN  42.037391 -93.612207  \n",
       "4  LEVIN, ALISON P  42.044554 -93.631818  \n",
       "\n",
       "[5 rows x 90 columns]"
      ]
     },
     "execution_count": 6,
     "metadata": {},
     "output_type": "execute_result"
    }
   ],
   "source": [
    "housedf_raw.head()"
   ]
  },
  {
   "cell_type": "code",
   "execution_count": 7,
   "id": "e713ff6f",
   "metadata": {},
   "outputs": [
    {
     "data": {
      "text/plain": [
       "(2579, 90)"
      ]
     },
     "execution_count": 7,
     "metadata": {},
     "output_type": "execute_result"
    }
   ],
   "source": [
    "housedf_raw.shape"
   ]
  },
  {
   "cell_type": "code",
   "execution_count": 8,
   "id": "97aaf15a",
   "metadata": {},
   "outputs": [
    {
     "data": {
      "text/plain": [
       "True"
      ]
     },
     "execution_count": 8,
     "metadata": {},
     "output_type": "execute_result"
    }
   ],
   "source": [
    "housedf_raw.isnull().values.any()"
   ]
  },
  {
   "cell_type": "markdown",
   "id": "23a813f2",
   "metadata": {},
   "source": [
    "**2.1.d.** Make a copy of the dataframe for additional pre-processing for modeling purposes."
   ]
  },
  {
   "cell_type": "code",
   "execution_count": 9,
   "id": "9f822fe6",
   "metadata": {},
   "outputs": [],
   "source": [
    "housedf = housedf_raw.copy()"
   ]
  },
  {
   "cell_type": "code",
   "execution_count": 10,
   "id": "1aed8d6c",
   "metadata": {},
   "outputs": [
    {
     "data": {
      "text/plain": [
       "(2579, 90)"
      ]
     },
     "execution_count": 10,
     "metadata": {},
     "output_type": "execute_result"
    }
   ],
   "source": [
    "housedf.shape"
   ]
  },
  {
   "cell_type": "markdown",
   "id": "fcf7671f",
   "metadata": {},
   "source": [
    "Remove Nulls"
   ]
  },
  {
   "cell_type": "markdown",
   "id": "9a6f49d7",
   "metadata": {},
   "source": [
    "**2.1.e.** Drop `PID`, `MA_Ownr1`, `MA_Ownr2`, `Prop_Addr` columns from dataframe:\n",
    "\n",
    "- `PID` is an identification number that was used to join with `Real Estate Data` in the data preprocessing notebook. Since it adds no value in the modeling step, we need to drop.\n",
    "- `MA_Ownr1` and `MA_Ownr2` are not expected to add value to the modeling step, we need to drop. \n",
    "- `Prop_Addr` has multiple missing values, and we can capture this information with `Neighborhood`.\n",
    "- `Latitude` and `Longitude` have multiple missing values, and we can capture this information with `Neighborhood`."
   ]
  },
  {
   "cell_type": "code",
   "execution_count": 11,
   "id": "bbc18848",
   "metadata": {},
   "outputs": [],
   "source": [
    "housedf = housedf.drop(labels = [\"PID\", \"MA_Ownr1\", \"MA_Ownr2\", 'Prop_Addr', \"Latitude\", \"Longitude\"], axis = 1)"
   ]
  },
  {
   "cell_type": "markdown",
   "id": "66fcb1d1",
   "metadata": {},
   "source": [
    "**2.1.f.** Drop `PID`, `MA_Ownr1`, `MA_Ownr2`, `Prop_Addr` columns from dataframe:\n",
    " Check to see if all null values have been removed prior to modeling."
   ]
  },
  {
   "cell_type": "code",
   "execution_count": 12,
   "id": "822963ea",
   "metadata": {
    "scrolled": true
   },
   "outputs": [
    {
     "data": {
      "text/plain": [
       "False"
      ]
     },
     "execution_count": 12,
     "metadata": {},
     "output_type": "execute_result"
    }
   ],
   "source": [
    "housedf.isnull().values.any()"
   ]
  },
  {
   "cell_type": "markdown",
   "id": "88b8f08c",
   "metadata": {},
   "source": [
    "### 2.2. Label Encoding, Define Variables, & Split Data"
   ]
  },
  {
   "cell_type": "markdown",
   "id": "8f2dfcf8",
   "metadata": {},
   "source": [
    "**2.2.a.** Find the `Object` dtype features to label encode."
   ]
  },
  {
   "cell_type": "code",
   "execution_count": 13,
   "id": "22d62e90",
   "metadata": {
    "scrolled": true
   },
   "outputs": [
    {
     "name": "stdout",
     "output_type": "stream",
     "text": [
      "{dtype('int64'): Index(['GrLivArea', 'SalePrice', 'MSSubClass', 'LotArea', 'OverallQual',\n",
      "       'OverallCond', 'YearBuilt', 'YearRemodAdd', '1stFlrSF', '2ndFlrSF',\n",
      "       'LowQualFinSF', 'FullBath', 'HalfBath', 'BedroomAbvGr', 'KitchenAbvGr',\n",
      "       'TotRmsAbvGrd', 'Fireplaces', 'WoodDeckSF', 'OpenPorchSF',\n",
      "       'EnclosedPorch', '3SsnPorch', 'ScreenPorch', 'PoolArea', 'MiscVal',\n",
      "       'MoSold', 'YrSold', 'ExteriorSF', 'AgeAtSale'],\n",
      "      dtype='object'),\n",
      " dtype('float64'): Index(['LotFrontage', 'MasVnrArea', 'BsmtFinSF1', 'BsmtFinSF2', 'BsmtUnfSF',\n",
      "       'TotalBsmtSF', 'BsmtFullBath', 'BsmtHalfBath', 'GarageCars',\n",
      "       'GarageArea', 'TotalFullBath', 'TotalHalfBath', 'GarageAgeAtSale'],\n",
      "      dtype='object'),\n",
      " dtype('O'): Index(['MSZoning', 'Street', 'Alley', 'LotShape', 'LandContour', 'Utilities',\n",
      "       'LotConfig', 'LandSlope', 'Neighborhood', 'Condition1', 'Condition2',\n",
      "       'BldgType', 'HouseStyle', 'RoofStyle', 'RoofMatl', 'Exterior1st',\n",
      "       'Exterior2nd', 'MasVnrType', 'ExterQual', 'ExterCond', 'Foundation',\n",
      "       'BsmtQual', 'BsmtCond', 'BsmtExposure', 'BsmtFinType1', 'BsmtFinType2',\n",
      "       'Heating', 'HeatingQC', 'CentralAir', 'Electrical', 'KitchenQual',\n",
      "       'Functional', 'FireplaceQu', 'GarageType', 'GarageFinish', 'GarageQual',\n",
      "       'GarageCond', 'PavedDrive', 'PoolQC', 'Fence', 'MiscFeature',\n",
      "       'SaleType', 'SaleCondition'],\n",
      "      dtype='object')}\n"
     ]
    }
   ],
   "source": [
    "import pprint\n",
    "\n",
    "dtypecols = housedf.columns.to_series().groupby(housedf.dtypes).groups\n",
    "\n",
    "pprint.pprint(dtypecols)"
   ]
  },
  {
   "cell_type": "markdown",
   "id": "6b18f118",
   "metadata": {},
   "source": [
    "**2.2.b.** Use `LabelEncoder` from Sci-Kit Learn to label encode dtype `Object` features."
   ]
  },
  {
   "cell_type": "code",
   "execution_count": 14,
   "id": "0557b32c",
   "metadata": {},
   "outputs": [],
   "source": [
    "from sklearn.preprocessing import LabelEncoder\n",
    "\n",
    "housedf[['MSZoning', 'Street', 'Alley', 'LotShape', 'LandContour', 'Utilities', \n",
    "            'LotConfig', 'LandSlope', 'Neighborhood', 'Condition1', 'Condition2', 'BldgType', \n",
    "            'HouseStyle', 'RoofStyle', 'RoofMatl', 'Exterior1st', 'Exterior2nd', 'MasVnrType', \n",
    "            'ExterQual', 'ExterCond', 'Foundation', 'BsmtQual', 'BsmtCond', 'BsmtExposure', \n",
    "            'BsmtFinType1', 'BsmtFinType2', 'Heating', 'HeatingQC', 'CentralAir', 'Electrical', 'KitchenQual', \n",
    "            'Functional', 'FireplaceQu', 'GarageType', 'GarageFinish', 'GarageQual', 'GarageCond', \n",
    "            'PavedDrive', 'PoolQC', 'Fence', 'MiscFeature', 'SaleType', \n",
    "             'SaleCondition']] = housedf[['MSZoning', 'Street', 'Alley', 'LotShape', 'LandContour', \n",
    "                                              'Utilities', 'LotConfig', 'LandSlope', 'Neighborhood', \n",
    "                                              'Condition1', 'Condition2', 'BldgType', 'HouseStyle', 'RoofStyle', \n",
    "                                              'RoofMatl', 'Exterior1st', 'Exterior2nd', 'MasVnrType', 'ExterQual', \n",
    "                                              'ExterCond', 'Foundation', 'BsmtQual', 'BsmtCond', 'BsmtExposure', \n",
    "                                              'BsmtFinType1', 'BsmtFinType2', 'Heating', 'HeatingQC', 'CentralAir', \n",
    "                                              'Electrical', 'KitchenQual', 'Functional', 'FireplaceQu', 'GarageType', \n",
    "                                              'GarageFinish', 'GarageQual', 'GarageCond', 'PavedDrive', 'PoolQC', \n",
    "                                              'Fence', 'MiscFeature', 'SaleType', \n",
    "                                              'SaleCondition']].apply(LabelEncoder().fit_transform)"
   ]
  },
  {
   "cell_type": "markdown",
   "id": "dda703ba",
   "metadata": {},
   "source": [
    "**2.2.c.** Check to see if `Object` features have been label encoded."
   ]
  },
  {
   "cell_type": "code",
   "execution_count": 15,
   "id": "82b43ac7",
   "metadata": {},
   "outputs": [
    {
     "data": {
      "text/html": [
       "<div>\n",
       "<style scoped>\n",
       "    .dataframe tbody tr th:only-of-type {\n",
       "        vertical-align: middle;\n",
       "    }\n",
       "\n",
       "    .dataframe tbody tr th {\n",
       "        vertical-align: top;\n",
       "    }\n",
       "\n",
       "    .dataframe thead th {\n",
       "        text-align: right;\n",
       "    }\n",
       "</style>\n",
       "<table border=\"1\" class=\"dataframe\">\n",
       "  <thead>\n",
       "    <tr style=\"text-align: right;\">\n",
       "      <th></th>\n",
       "      <th>MSZoning</th>\n",
       "      <th>Street</th>\n",
       "      <th>Alley</th>\n",
       "      <th>LotShape</th>\n",
       "      <th>LandContour</th>\n",
       "      <th>Utilities</th>\n",
       "      <th>LotConfig</th>\n",
       "      <th>LandSlope</th>\n",
       "      <th>Neighborhood</th>\n",
       "      <th>Condition1</th>\n",
       "      <th>...</th>\n",
       "      <th>GarageType</th>\n",
       "      <th>GarageFinish</th>\n",
       "      <th>GarageQual</th>\n",
       "      <th>GarageCond</th>\n",
       "      <th>PavedDrive</th>\n",
       "      <th>PoolQC</th>\n",
       "      <th>Fence</th>\n",
       "      <th>MiscFeature</th>\n",
       "      <th>SaleType</th>\n",
       "      <th>SaleCondition</th>\n",
       "    </tr>\n",
       "  </thead>\n",
       "  <tbody>\n",
       "    <tr>\n",
       "      <th>0</th>\n",
       "      <td>5</td>\n",
       "      <td>1</td>\n",
       "      <td>1</td>\n",
       "      <td>3</td>\n",
       "      <td>3</td>\n",
       "      <td>0</td>\n",
       "      <td>0</td>\n",
       "      <td>0</td>\n",
       "      <td>21</td>\n",
       "      <td>2</td>\n",
       "      <td>...</td>\n",
       "      <td>5</td>\n",
       "      <td>2</td>\n",
       "      <td>5</td>\n",
       "      <td>5</td>\n",
       "      <td>2</td>\n",
       "      <td>3</td>\n",
       "      <td>4</td>\n",
       "      <td>1</td>\n",
       "      <td>9</td>\n",
       "      <td>4</td>\n",
       "    </tr>\n",
       "    <tr>\n",
       "      <th>1</th>\n",
       "      <td>5</td>\n",
       "      <td>1</td>\n",
       "      <td>1</td>\n",
       "      <td>3</td>\n",
       "      <td>3</td>\n",
       "      <td>0</td>\n",
       "      <td>4</td>\n",
       "      <td>0</td>\n",
       "      <td>7</td>\n",
       "      <td>2</td>\n",
       "      <td>...</td>\n",
       "      <td>1</td>\n",
       "      <td>0</td>\n",
       "      <td>5</td>\n",
       "      <td>5</td>\n",
       "      <td>2</td>\n",
       "      <td>3</td>\n",
       "      <td>4</td>\n",
       "      <td>1</td>\n",
       "      <td>9</td>\n",
       "      <td>4</td>\n",
       "    </tr>\n",
       "    <tr>\n",
       "      <th>2</th>\n",
       "      <td>1</td>\n",
       "      <td>1</td>\n",
       "      <td>1</td>\n",
       "      <td>3</td>\n",
       "      <td>3</td>\n",
       "      <td>0</td>\n",
       "      <td>4</td>\n",
       "      <td>0</td>\n",
       "      <td>11</td>\n",
       "      <td>2</td>\n",
       "      <td>...</td>\n",
       "      <td>5</td>\n",
       "      <td>2</td>\n",
       "      <td>5</td>\n",
       "      <td>4</td>\n",
       "      <td>0</td>\n",
       "      <td>3</td>\n",
       "      <td>4</td>\n",
       "      <td>1</td>\n",
       "      <td>9</td>\n",
       "      <td>4</td>\n",
       "    </tr>\n",
       "    <tr>\n",
       "      <th>3</th>\n",
       "      <td>5</td>\n",
       "      <td>1</td>\n",
       "      <td>1</td>\n",
       "      <td>3</td>\n",
       "      <td>3</td>\n",
       "      <td>0</td>\n",
       "      <td>0</td>\n",
       "      <td>0</td>\n",
       "      <td>20</td>\n",
       "      <td>2</td>\n",
       "      <td>...</td>\n",
       "      <td>5</td>\n",
       "      <td>2</td>\n",
       "      <td>5</td>\n",
       "      <td>5</td>\n",
       "      <td>0</td>\n",
       "      <td>3</td>\n",
       "      <td>4</td>\n",
       "      <td>1</td>\n",
       "      <td>9</td>\n",
       "      <td>4</td>\n",
       "    </tr>\n",
       "    <tr>\n",
       "      <th>4</th>\n",
       "      <td>5</td>\n",
       "      <td>1</td>\n",
       "      <td>1</td>\n",
       "      <td>3</td>\n",
       "      <td>3</td>\n",
       "      <td>0</td>\n",
       "      <td>4</td>\n",
       "      <td>0</td>\n",
       "      <td>17</td>\n",
       "      <td>2</td>\n",
       "      <td>...</td>\n",
       "      <td>1</td>\n",
       "      <td>0</td>\n",
       "      <td>5</td>\n",
       "      <td>5</td>\n",
       "      <td>2</td>\n",
       "      <td>3</td>\n",
       "      <td>4</td>\n",
       "      <td>1</td>\n",
       "      <td>9</td>\n",
       "      <td>4</td>\n",
       "    </tr>\n",
       "  </tbody>\n",
       "</table>\n",
       "<p>5 rows × 43 columns</p>\n",
       "</div>"
      ],
      "text/plain": [
       "   MSZoning  Street  Alley  LotShape  LandContour  Utilities  LotConfig  \\\n",
       "0         5       1      1         3            3          0          0   \n",
       "1         5       1      1         3            3          0          4   \n",
       "2         1       1      1         3            3          0          4   \n",
       "3         5       1      1         3            3          0          0   \n",
       "4         5       1      1         3            3          0          4   \n",
       "\n",
       "   LandSlope  Neighborhood  Condition1  ...  GarageType  GarageFinish  \\\n",
       "0          0            21           2  ...           5             2   \n",
       "1          0             7           2  ...           1             0   \n",
       "2          0            11           2  ...           5             2   \n",
       "3          0            20           2  ...           5             2   \n",
       "4          0            17           2  ...           1             0   \n",
       "\n",
       "   GarageQual  GarageCond  PavedDrive  PoolQC  Fence  MiscFeature  SaleType  \\\n",
       "0           5           5           2       3      4            1         9   \n",
       "1           5           5           2       3      4            1         9   \n",
       "2           5           4           0       3      4            1         9   \n",
       "3           5           5           0       3      4            1         9   \n",
       "4           5           5           2       3      4            1         9   \n",
       "\n",
       "   SaleCondition  \n",
       "0              4  \n",
       "1              4  \n",
       "2              4  \n",
       "3              4  \n",
       "4              4  \n",
       "\n",
       "[5 rows x 43 columns]"
      ]
     },
     "execution_count": 15,
     "metadata": {},
     "output_type": "execute_result"
    }
   ],
   "source": [
    "housedf[['MSZoning', 'Street', 'Alley', 'LotShape', 'LandContour', 'Utilities', \n",
    "            'LotConfig', 'LandSlope', 'Neighborhood', 'Condition1', 'Condition2', 'BldgType', \n",
    "            'HouseStyle', 'RoofStyle', 'RoofMatl', 'Exterior1st', 'Exterior2nd', 'MasVnrType', \n",
    "            'ExterQual', 'ExterCond', 'Foundation', 'BsmtQual', 'BsmtCond', 'BsmtExposure', \n",
    "            'BsmtFinType1', 'BsmtFinType2', 'Heating', 'HeatingQC', 'CentralAir', 'Electrical', 'KitchenQual', \n",
    "            'Functional', 'FireplaceQu', 'GarageType', 'GarageFinish', 'GarageQual', 'GarageCond', \n",
    "            'PavedDrive', 'PoolQC', 'Fence', 'MiscFeature', 'SaleType', \n",
    "             'SaleCondition']].head()"
   ]
  },
  {
   "cell_type": "markdown",
   "id": "f9c24f79",
   "metadata": {},
   "source": [
    "**2.2.d.** Define `y` and `X` for feature exploration and modeling.\n",
    "\n",
    "- `SalesPrice` is defined as our dependent variable `y`.\n",
    "- All other variables are the indepedent variables `X`. "
   ]
  },
  {
   "cell_type": "code",
   "execution_count": 16,
   "id": "effd5eef",
   "metadata": {},
   "outputs": [],
   "source": [
    "y = housedf[\"SalePrice\"]\n",
    "X = housedf.drop(\"SalePrice\", axis = 1)"
   ]
  },
  {
   "cell_type": "code",
   "execution_count": 17,
   "id": "7109182c",
   "metadata": {},
   "outputs": [
    {
     "data": {
      "text/plain": [
       "(2579,)"
      ]
     },
     "execution_count": 17,
     "metadata": {},
     "output_type": "execute_result"
    }
   ],
   "source": [
    "y.shape"
   ]
  },
  {
   "cell_type": "code",
   "execution_count": 18,
   "id": "13b45ed3",
   "metadata": {},
   "outputs": [
    {
     "data": {
      "text/plain": [
       "(2579, 83)"
      ]
     },
     "execution_count": 18,
     "metadata": {},
     "output_type": "execute_result"
    }
   ],
   "source": [
    "X.shape"
   ]
  },
  {
   "cell_type": "code",
   "execution_count": 19,
   "id": "f46561b2",
   "metadata": {},
   "outputs": [
    {
     "data": {
      "text/html": [
       "<div>\n",
       "<style scoped>\n",
       "    .dataframe tbody tr th:only-of-type {\n",
       "        vertical-align: middle;\n",
       "    }\n",
       "\n",
       "    .dataframe tbody tr th {\n",
       "        vertical-align: top;\n",
       "    }\n",
       "\n",
       "    .dataframe thead th {\n",
       "        text-align: right;\n",
       "    }\n",
       "</style>\n",
       "<table border=\"1\" class=\"dataframe\">\n",
       "  <thead>\n",
       "    <tr style=\"text-align: right;\">\n",
       "      <th></th>\n",
       "      <th>GrLivArea</th>\n",
       "      <th>MSSubClass</th>\n",
       "      <th>MSZoning</th>\n",
       "      <th>LotFrontage</th>\n",
       "      <th>LotArea</th>\n",
       "      <th>Street</th>\n",
       "      <th>Alley</th>\n",
       "      <th>LotShape</th>\n",
       "      <th>LandContour</th>\n",
       "      <th>Utilities</th>\n",
       "      <th>...</th>\n",
       "      <th>MiscVal</th>\n",
       "      <th>MoSold</th>\n",
       "      <th>YrSold</th>\n",
       "      <th>SaleType</th>\n",
       "      <th>SaleCondition</th>\n",
       "      <th>ExteriorSF</th>\n",
       "      <th>AgeAtSale</th>\n",
       "      <th>TotalFullBath</th>\n",
       "      <th>TotalHalfBath</th>\n",
       "      <th>GarageAgeAtSale</th>\n",
       "    </tr>\n",
       "  </thead>\n",
       "  <tbody>\n",
       "    <tr>\n",
       "      <th>0</th>\n",
       "      <td>856</td>\n",
       "      <td>30</td>\n",
       "      <td>5</td>\n",
       "      <td>0.0</td>\n",
       "      <td>7890</td>\n",
       "      <td>1</td>\n",
       "      <td>1</td>\n",
       "      <td>3</td>\n",
       "      <td>3</td>\n",
       "      <td>0</td>\n",
       "      <td>...</td>\n",
       "      <td>0</td>\n",
       "      <td>3</td>\n",
       "      <td>2010</td>\n",
       "      <td>9</td>\n",
       "      <td>4</td>\n",
       "      <td>7034</td>\n",
       "      <td>71</td>\n",
       "      <td>2.0</td>\n",
       "      <td>0.0</td>\n",
       "      <td>71.0</td>\n",
       "    </tr>\n",
       "    <tr>\n",
       "      <th>1</th>\n",
       "      <td>1049</td>\n",
       "      <td>120</td>\n",
       "      <td>5</td>\n",
       "      <td>42.0</td>\n",
       "      <td>4235</td>\n",
       "      <td>1</td>\n",
       "      <td>1</td>\n",
       "      <td>3</td>\n",
       "      <td>3</td>\n",
       "      <td>0</td>\n",
       "      <td>...</td>\n",
       "      <td>0</td>\n",
       "      <td>2</td>\n",
       "      <td>2009</td>\n",
       "      <td>9</td>\n",
       "      <td>4</td>\n",
       "      <td>3186</td>\n",
       "      <td>25</td>\n",
       "      <td>3.0</td>\n",
       "      <td>0.0</td>\n",
       "      <td>25.0</td>\n",
       "    </tr>\n",
       "    <tr>\n",
       "      <th>2</th>\n",
       "      <td>1001</td>\n",
       "      <td>30</td>\n",
       "      <td>1</td>\n",
       "      <td>60.0</td>\n",
       "      <td>6060</td>\n",
       "      <td>1</td>\n",
       "      <td>1</td>\n",
       "      <td>3</td>\n",
       "      <td>3</td>\n",
       "      <td>0</td>\n",
       "      <td>...</td>\n",
       "      <td>0</td>\n",
       "      <td>11</td>\n",
       "      <td>2007</td>\n",
       "      <td>9</td>\n",
       "      <td>4</td>\n",
       "      <td>5059</td>\n",
       "      <td>77</td>\n",
       "      <td>1.0</td>\n",
       "      <td>0.0</td>\n",
       "      <td>77.0</td>\n",
       "    </tr>\n",
       "    <tr>\n",
       "      <th>3</th>\n",
       "      <td>1039</td>\n",
       "      <td>70</td>\n",
       "      <td>5</td>\n",
       "      <td>80.0</td>\n",
       "      <td>8146</td>\n",
       "      <td>1</td>\n",
       "      <td>1</td>\n",
       "      <td>3</td>\n",
       "      <td>3</td>\n",
       "      <td>0</td>\n",
       "      <td>...</td>\n",
       "      <td>0</td>\n",
       "      <td>5</td>\n",
       "      <td>2009</td>\n",
       "      <td>9</td>\n",
       "      <td>4</td>\n",
       "      <td>7429</td>\n",
       "      <td>109</td>\n",
       "      <td>1.0</td>\n",
       "      <td>0.0</td>\n",
       "      <td>69.0</td>\n",
       "    </tr>\n",
       "    <tr>\n",
       "      <th>4</th>\n",
       "      <td>1665</td>\n",
       "      <td>60</td>\n",
       "      <td>5</td>\n",
       "      <td>70.0</td>\n",
       "      <td>8400</td>\n",
       "      <td>1</td>\n",
       "      <td>1</td>\n",
       "      <td>3</td>\n",
       "      <td>3</td>\n",
       "      <td>0</td>\n",
       "      <td>...</td>\n",
       "      <td>0</td>\n",
       "      <td>11</td>\n",
       "      <td>2009</td>\n",
       "      <td>9</td>\n",
       "      <td>4</td>\n",
       "      <td>7590</td>\n",
       "      <td>8</td>\n",
       "      <td>3.0</td>\n",
       "      <td>1.0</td>\n",
       "      <td>8.0</td>\n",
       "    </tr>\n",
       "  </tbody>\n",
       "</table>\n",
       "<p>5 rows × 83 columns</p>\n",
       "</div>"
      ],
      "text/plain": [
       "   GrLivArea  MSSubClass  MSZoning  LotFrontage  LotArea  Street  Alley  \\\n",
       "0        856          30         5          0.0     7890       1      1   \n",
       "1       1049         120         5         42.0     4235       1      1   \n",
       "2       1001          30         1         60.0     6060       1      1   \n",
       "3       1039          70         5         80.0     8146       1      1   \n",
       "4       1665          60         5         70.0     8400       1      1   \n",
       "\n",
       "   LotShape  LandContour  Utilities  ...  MiscVal  MoSold  YrSold  SaleType  \\\n",
       "0         3            3          0  ...        0       3    2010         9   \n",
       "1         3            3          0  ...        0       2    2009         9   \n",
       "2         3            3          0  ...        0      11    2007         9   \n",
       "3         3            3          0  ...        0       5    2009         9   \n",
       "4         3            3          0  ...        0      11    2009         9   \n",
       "\n",
       "   SaleCondition  ExteriorSF  AgeAtSale  TotalFullBath  TotalHalfBath  \\\n",
       "0              4        7034         71            2.0            0.0   \n",
       "1              4        3186         25            3.0            0.0   \n",
       "2              4        5059         77            1.0            0.0   \n",
       "3              4        7429        109            1.0            0.0   \n",
       "4              4        7590          8            3.0            1.0   \n",
       "\n",
       "   GarageAgeAtSale  \n",
       "0             71.0  \n",
       "1             25.0  \n",
       "2             77.0  \n",
       "3             69.0  \n",
       "4              8.0  \n",
       "\n",
       "[5 rows x 83 columns]"
      ]
     },
     "execution_count": 19,
     "metadata": {},
     "output_type": "execute_result"
    }
   ],
   "source": [
    "X.head()"
   ]
  },
  {
   "cell_type": "markdown",
   "id": "9ab62c6b",
   "metadata": {},
   "source": [
    "**2.2.e.** Split data using train-test-split to prevent an unbiased estimate of the true performance of our model and data leakage. References:\n",
    "\n",
    "- https://scikit-learn.org/stable/common_pitfalls.html#data-leakage\n",
    "- https://betatim.github.io/posts/cross-validation-gone-wrong/\n",
    "- https://stackoverflow.com/questions/56308116/should-feature-selection-be-done-before-train-test-split-or-after\n",
    "- https://twitter.com/jmschreiber91/status/1137464236156702720\n",
    "- https://gijopeter.medium.com/cross-validation-for-ml-feature-selection"
   ]
  },
  {
   "cell_type": "code",
   "execution_count": 20,
   "id": "c32ea239",
   "metadata": {},
   "outputs": [],
   "source": [
    "from sklearn.model_selection import train_test_split\n",
    "X_trainvalidate, X_test, y_trainvalidate, y_test = train_test_split(X, y, test_size=0.2)\n",
    "X_train, X_validate, y_train, y_validate = train_test_split(X_trainvalidate, y_trainvalidate, test_size=0.875) # yields 70%/10%/20% split"
   ]
  },
  {
   "cell_type": "code",
   "execution_count": 21,
   "id": "0eaa79dc",
   "metadata": {
    "scrolled": true
   },
   "outputs": [
    {
     "name": "stdout",
     "output_type": "stream",
     "text": [
      "(257, 83)\n",
      "(1806, 83)\n",
      "(516, 83)\n",
      "(257,)\n",
      "(1806,)\n",
      "(516,)\n"
     ]
    }
   ],
   "source": [
    "print(X_train.shape)\n",
    "print(X_validate.shape)\n",
    "print(X_test.shape)\n",
    "print(y_train.shape)\n",
    "print(y_validate.shape)\n",
    "print(y_test.shape)"
   ]
  },
  {
   "cell_type": "markdown",
   "id": "c0701402",
   "metadata": {},
   "source": [
    "## 2.3. Saturated Model Testing"
   ]
  },
  {
   "cell_type": "markdown",
   "id": "97744e23",
   "metadata": {},
   "source": [
    "- We will first see how a random forest regressor performs on the dataset with  just the minimal feature engineering obtained from preprocessing."
   ]
  },
  {
   "cell_type": "code",
   "execution_count": 22,
   "id": "4fff758f",
   "metadata": {},
   "outputs": [
    {
     "data": {
      "text/plain": [
       "0.8681929780147812"
      ]
     },
     "execution_count": 22,
     "metadata": {},
     "output_type": "execute_result"
    }
   ],
   "source": [
    "rf = RandomForestRegressor()\n",
    "\n",
    "rf.fit(X_train, y_train)\n",
    "rf.score(X_validate, y_validate)"
   ]
  },
  {
   "cell_type": "code",
   "execution_count": 23,
   "id": "9e0da55e",
   "metadata": {
    "scrolled": false
   },
   "outputs": [
    {
     "data": {
      "text/plain": [
       "<AxesSubplot:>"
      ]
     },
     "execution_count": 23,
     "metadata": {},
     "output_type": "execute_result"
    },
    {
     "data": {
      "image/png": "[encoded data removed]",
      "text/plain": [
       "<Figure size 640x480 with 1 Axes>"
      ]
     },
     "metadata": {},
     "output_type": "display_data"
    }
   ],
   "source": [
    "featureimportances = pd.Series(rf.feature_importances_, index = X_train.columns)\n",
    "featureimportances.nlargest(30).plot(kind = 'barh')"
   ]
  },
  {
   "cell_type": "code",
   "execution_count": 24,
   "id": "45a60076",
   "metadata": {
    "scrolled": true
   },
   "outputs": [
    {
     "data": {
      "text/plain": [
       "GrLivArea          0.134642\n",
       "MSSubClass         0.002664\n",
       "MSZoning           0.000817\n",
       "LotFrontage        0.003433\n",
       "LotArea            0.010131\n",
       "                     ...   \n",
       "ExteriorSF         0.008864\n",
       "AgeAtSale          0.012261\n",
       "TotalFullBath      0.006991\n",
       "TotalHalfBath      0.000955\n",
       "GarageAgeAtSale    0.004119\n",
       "Length: 83, dtype: float64"
      ]
     },
     "execution_count": 24,
     "metadata": {},
     "output_type": "execute_result"
    }
   ],
   "source": [
    "featureimportances"
   ]
  },
  {
   "cell_type": "code",
   "execution_count": 25,
   "id": "b0dde45f",
   "metadata": {},
   "outputs": [
    {
     "data": {
      "text/plain": [
       "<AxesSubplot:ylabel='Frequency'>"
      ]
     },
     "execution_count": 25,
     "metadata": {},
     "output_type": "execute_result"
    },
    {
     "data": {
      "image/png": "[encoded data removed]",
      "text/plain": [
       "<Figure size 640x480 with 1 Axes>"
      ]
     },
     "metadata": {},
     "output_type": "display_data"
    }
   ],
   "source": [
    "residuals = y_validate - rf.predict(X_validate)\n",
    "residuals.plot.hist(bins=100)"
   ]
  },
  {
   "cell_type": "code",
   "execution_count": 26,
   "id": "b51c9ead",
   "metadata": {},
   "outputs": [
    {
     "data": {
      "text/plain": [
       "756415836.0155805"
      ]
     },
     "execution_count": 26,
     "metadata": {},
     "output_type": "execute_result"
    }
   ],
   "source": [
    "np.mean(residuals**2)"
   ]
  },
  {
   "cell_type": "code",
   "execution_count": 27,
   "id": "e4393c86",
   "metadata": {
    "scrolled": true
   },
   "outputs": [
    {
     "data": {
      "text/plain": [
       "27503.015035002627"
      ]
     },
     "execution_count": 27,
     "metadata": {},
     "output_type": "execute_result"
    }
   ],
   "source": [
    "np.sqrt(np.mean(residuals**2))"
   ]
  },
  {
   "cell_type": "markdown",
   "id": "49a3315a",
   "metadata": {},
   "source": [
    "**2.3.a.** Observations:\n",
    "- We already have good R^2, but the feature importances suggest that this is primarily being driven by an indicator of overall quality of the house's material and finish and features tracking square footage. \n",
    "- We will try to engineer the features to yield a model that has more insight into how fungible features impact sale price.\n",
    "- Our overall approach will be to keep track of the features that we cannot change, but try to discretize them so that the model cannot simply encode the solution into (combinations of) continuous variables."
   ]
  },
  {
   "cell_type": "code",
   "execution_count": 28,
   "id": "36074865",
   "metadata": {},
   "outputs": [
    {
     "data": {
      "text/plain": [
       "Index(['GrLivArea', 'MSSubClass', 'MSZoning', 'LotFrontage', 'LotArea',\n",
       "       'Street', 'Alley', 'LotShape', 'LandContour', 'Utilities', 'LotConfig',\n",
       "       'LandSlope', 'Neighborhood', 'Condition1', 'Condition2', 'BldgType',\n",
       "       'HouseStyle', 'OverallQual', 'OverallCond', 'YearBuilt', 'YearRemodAdd',\n",
       "       'RoofStyle', 'RoofMatl', 'Exterior1st', 'Exterior2nd', 'MasVnrType',\n",
       "       'MasVnrArea', 'ExterQual', 'ExterCond', 'Foundation', 'BsmtQual',\n",
       "       'BsmtCond', 'BsmtExposure', 'BsmtFinType1', 'BsmtFinSF1',\n",
       "       'BsmtFinType2', 'BsmtFinSF2', 'BsmtUnfSF', 'TotalBsmtSF', 'Heating',\n",
       "       'HeatingQC', 'CentralAir', 'Electrical', '1stFlrSF', '2ndFlrSF',\n",
       "       'LowQualFinSF', 'BsmtFullBath', 'BsmtHalfBath', 'FullBath', 'HalfBath',\n",
       "       'BedroomAbvGr', 'KitchenAbvGr', 'KitchenQual', 'TotRmsAbvGrd',\n",
       "       'Functional', 'Fireplaces', 'FireplaceQu', 'GarageType', 'GarageFinish',\n",
       "       'GarageCars', 'GarageArea', 'GarageQual', 'GarageCond', 'PavedDrive',\n",
       "       'WoodDeckSF', 'OpenPorchSF', 'EnclosedPorch', '3SsnPorch',\n",
       "       'ScreenPorch', 'PoolArea', 'PoolQC', 'Fence', 'MiscFeature', 'MiscVal',\n",
       "       'MoSold', 'YrSold', 'SaleType', 'SaleCondition', 'ExteriorSF',\n",
       "       'AgeAtSale', 'TotalFullBath', 'TotalHalfBath', 'GarageAgeAtSale'],\n",
       "      dtype='object')"
      ]
     },
     "execution_count": 28,
     "metadata": {},
     "output_type": "execute_result"
    }
   ],
   "source": [
    "X_train.columns"
   ]
  },
  {
   "cell_type": "markdown",
   "id": "69e147ba",
   "metadata": {},
   "source": [
    "## 2.4. Feature Engineering"
   ]
  },
  {
   "cell_type": "markdown",
   "id": "f6fc0f74",
   "metadata": {},
   "source": [
    "- Combine features and drop combined features to include in feature analysis."
   ]
  },
  {
   "cell_type": "markdown",
   "id": "ee24c6d4",
   "metadata": {},
   "source": [
    "**2.4.a.** Time since last remodel. "
   ]
  },
  {
   "cell_type": "code",
   "execution_count": 29,
   "id": "512d8beb",
   "metadata": {},
   "outputs": [],
   "source": [
    "housedf['TimeSinceLastWork'] = housedf['YrSold'] - housedf['YearRemodAdd']"
   ]
  },
  {
   "cell_type": "markdown",
   "id": "a86695b5",
   "metadata": {},
   "source": [
    "**2.4.b.** Total SqFt & 2 Stories"
   ]
  },
  {
   "cell_type": "code",
   "execution_count": 30,
   "id": "b33f3237",
   "metadata": {},
   "outputs": [],
   "source": [
    "housedf['TotalSF'] = housedf['GrLivArea'] + housedf['TotalBsmtSF']\n",
    "housedf['2Stories'] = housedf['2ndFlrSF'] > 0"
   ]
  },
  {
   "cell_type": "markdown",
   "id": "e6b06f8e",
   "metadata": {},
   "source": [
    "**2.4.c.** Basement"
   ]
  },
  {
   "cell_type": "code",
   "execution_count": 31,
   "id": "b2c36b38",
   "metadata": {},
   "outputs": [],
   "source": [
    "housedf['FinBsmt'] = (housedf.TotalBsmtSF - housedf.BsmtUnfSF) > 0\n",
    "housedf['UnfBsmt'] = housedf['BsmtUnfSF'] > 0"
   ]
  },
  {
   "cell_type": "code",
   "execution_count": 32,
   "id": "c03322b9",
   "metadata": {},
   "outputs": [],
   "source": [
    "housedf.drop(['BsmtFinSF1', 'BsmtFinSF2', 'TotalBsmtSF', 'BsmtUnfSF'], axis = 1, inplace = True)"
   ]
  },
  {
   "cell_type": "markdown",
   "id": "f1cb1410",
   "metadata": {},
   "source": [
    "**2.4.d.** Bathrooms\n",
    "\n",
    "- (`Halfbaths` / 2) + `FullBaths` = `TotalFullBath`\n",
    "     - Where `Halfbaths` = `BsmtHalfBath` + `HalfBath`"
   ]
  },
  {
   "cell_type": "code",
   "execution_count": 33,
   "id": "ee4f75ae",
   "metadata": {},
   "outputs": [],
   "source": [
    "housedf['TotalBathrooms'] = ((housedf['BsmtHalfBath'] + housedf['HalfBath']) / 2) + housedf['BsmtFullBath'] + housedf['FullBath']\n",
    "\n",
    "housedf.drop(['BsmtHalfBath', 'HalfBath', 'BsmtFullBath', 'FullBath', 'TotalFullBath', 'TotalHalfBath'], axis = 1, inplace = True)"
   ]
  },
  {
   "cell_type": "markdown",
   "id": "6d9abd00",
   "metadata": {},
   "source": [
    "**2.4.e.** Outdoor Living\n",
    "\n",
    "- `WoodDeckSF` + `OpenPorchSF` + `EnclosedPorch` + `3SsnPorch` + `ScreenPorch` = `OutdoorLiving`\n",
    "- Convert to boolean."
   ]
  },
  {
   "cell_type": "code",
   "execution_count": 34,
   "id": "fa0493a8",
   "metadata": {},
   "outputs": [],
   "source": [
    "housedf['OutdoorLiving'] = housedf['WoodDeckSF'] + housedf['OpenPorchSF'] + housedf['EnclosedPorch'] + housedf['3SsnPorch'] + housedf['ScreenPorch']\n",
    "housedf['OutdoorLiving'] = housedf['OutdoorLiving'] > 0\n",
    "\n",
    "housedf.drop(['WoodDeckSF', 'OpenPorchSF', 'EnclosedPorch', '3SsnPorch', 'ScreenPorch'], axis = 1, inplace = True)"
   ]
  },
  {
   "cell_type": "markdown",
   "id": "77ed1c23",
   "metadata": {},
   "source": [
    "**2.4.f.**  Pool Area\n",
    "\n",
    "- `HasPool` is the boolean value of `PoolArea`."
   ]
  },
  {
   "cell_type": "code",
   "execution_count": 35,
   "id": "9278adcd",
   "metadata": {},
   "outputs": [
    {
     "data": {
      "text/plain": [
       "0      2570\n",
       "144       1\n",
       "800       1\n",
       "519       1\n",
       "444       1\n",
       "648       1\n",
       "228       1\n",
       "561       1\n",
       "576       1\n",
       "368       1\n",
       "Name: PoolArea, dtype: int64"
      ]
     },
     "execution_count": 35,
     "metadata": {},
     "output_type": "execute_result"
    }
   ],
   "source": [
    "housedf['PoolArea'].value_counts()"
   ]
  },
  {
   "cell_type": "code",
   "execution_count": 36,
   "id": "8b400f34",
   "metadata": {},
   "outputs": [],
   "source": [
    "housedf['HasPool'] = housedf['PoolArea'] > 0\n",
    "\n",
    "housedf.drop(['PoolArea', 'PoolQC'], axis = 1, inplace = True)"
   ]
  },
  {
   "cell_type": "markdown",
   "id": "0b7fb233",
   "metadata": {},
   "source": [
    "**2.4.g.** Fireplaces"
   ]
  },
  {
   "cell_type": "code",
   "execution_count": 37,
   "id": "33e14eed",
   "metadata": {},
   "outputs": [],
   "source": [
    "housedf['HasFireplace'] = housedf['Fireplaces'] > 0\n",
    "\n",
    "housedf.drop(['FireplaceQu', 'Fireplaces'], axis = 1, inplace = True)"
   ]
  },
  {
   "cell_type": "code",
   "execution_count": 38,
   "id": "2c48d586",
   "metadata": {},
   "outputs": [
    {
     "data": {
      "text/plain": [
       "(2579, 74)"
      ]
     },
     "execution_count": 38,
     "metadata": {},
     "output_type": "execute_result"
    }
   ],
   "source": [
    "housedf.shape"
   ]
  },
  {
   "cell_type": "code",
   "execution_count": 39,
   "id": "38648f1a",
   "metadata": {
    "scrolled": true
   },
   "outputs": [
    {
     "data": {
      "text/plain": [
       "Index(['GrLivArea', 'SalePrice', 'MSSubClass', 'MSZoning', 'LotFrontage',\n",
       "       'LotArea', 'Street', 'Alley', 'LotShape', 'LandContour', 'Utilities',\n",
       "       'LotConfig', 'LandSlope', 'Neighborhood', 'Condition1', 'Condition2',\n",
       "       'BldgType', 'HouseStyle', 'OverallQual', 'OverallCond', 'YearBuilt',\n",
       "       'YearRemodAdd', 'RoofStyle', 'RoofMatl', 'Exterior1st', 'Exterior2nd',\n",
       "       'MasVnrType', 'MasVnrArea', 'ExterQual', 'ExterCond', 'Foundation',\n",
       "       'BsmtQual', 'BsmtCond', 'BsmtExposure', 'BsmtFinType1', 'BsmtFinType2',\n",
       "       'Heating', 'HeatingQC', 'CentralAir', 'Electrical', '1stFlrSF',\n",
       "       '2ndFlrSF', 'LowQualFinSF', 'BedroomAbvGr', 'KitchenAbvGr',\n",
       "       'KitchenQual', 'TotRmsAbvGrd', 'Functional', 'GarageType',\n",
       "       'GarageFinish', 'GarageCars', 'GarageArea', 'GarageQual', 'GarageCond',\n",
       "       'PavedDrive', 'Fence', 'MiscFeature', 'MiscVal', 'MoSold', 'YrSold',\n",
       "       'SaleType', 'SaleCondition', 'ExteriorSF', 'AgeAtSale',\n",
       "       'GarageAgeAtSale', 'TimeSinceLastWork', 'TotalSF', '2Stories',\n",
       "       'FinBsmt', 'UnfBsmt', 'TotalBathrooms', 'OutdoorLiving', 'HasPool',\n",
       "       'HasFireplace'],\n",
       "      dtype='object')"
      ]
     },
     "execution_count": 39,
     "metadata": {},
     "output_type": "execute_result"
    }
   ],
   "source": [
    "housedf.columns"
   ]
  },
  {
   "cell_type": "markdown",
   "id": "baff95f3",
   "metadata": {},
   "source": [
    "## 2.5. Feature Analysis"
   ]
  },
  {
   "cell_type": "markdown",
   "id": "4323a5bc",
   "metadata": {},
   "source": [
    "**2.5.a.** Use the following methods for feature exploration and discovery of which are more important:\n",
    "\n",
    "- Random Feature Subset Analysis: Use a random subset of features to train and score models to see if there is a combination of features that gives a high R Squared. \n",
    "- `VarianceThreshold()`: Discover features with the least amount of variance with `VarianceThreshold()`. If the feature has low variance, this feature may not help us identify an increase in `SalePrice`.\n",
    "\n",
    "- `KChooseBest`: Univariate feature selection with F test with `f_regression`. If the feature has a high F value and low p-value, that may be an indicator that feature will have a statistically significant effect on `y`.\n",
    "\n",
    "- `SequentialFeatureSelector`: Forward selection of features to form a feature subset in a greedy fashion. The random forest estimmator is used to choose the best feature to add or remove based on the cross-validation score, R-Squared."
   ]
  },
  {
   "cell_type": "markdown",
   "id": "6b18f399",
   "metadata": {},
   "source": [
    "**Note:** We will use `X_train` to do all analysis on feature selection to prevent bias."
   ]
  },
  {
   "cell_type": "markdown",
   "id": "9cc66fc2",
   "metadata": {},
   "source": [
    "#### 2.5.b. Random Feature Subset Analysis\n",
    " - Besides the saturated un-engineered model, in order to benchmark our feature selection process we will train and score models on random subsets of the features."
   ]
  },
  {
   "cell_type": "code",
   "execution_count": 40,
   "id": "ad7dbbc4",
   "metadata": {},
   "outputs": [],
   "source": [
    "from sklearn.model_selection import train_test_split\n",
    "X_trainvalidate, X_test, y_trainvalidate, y_test = train_test_split(X, y, test_size=0.2)\n",
    "X_train, X_validate, y_train, y_validate = train_test_split(X_trainvalidate, y_trainvalidate, test_size=0.875) # yields 70%/10%/20% split"
   ]
  },
  {
   "cell_type": "code",
   "execution_count": 41,
   "id": "8a414123",
   "metadata": {},
   "outputs": [
    {
     "name": "stdout",
     "output_type": "stream",
     "text": [
      "[['OverallCond', 'Fence', '1stFlrSF', 'Exterior1st', 'TotalBsmtSF', '2ndFlrSF', 'KitchenAbvGr', 'RoofMatl', 'BldgType', 'Functional', 'TotRmsAbvGrd', 'Condition1', 'PavedDrive', 'TotalHalfBath', 'YrSold'], 0.7158490144006262]\n",
      "[['BldgType', 'OpenPorchSF', 'Utilities', 'GarageAgeAtSale', 'BsmtFinType1', 'Neighborhood', 'MasVnrArea', 'KitchenAbvGr', 'LotShape', 'ExterCond', 'ExteriorSF', 'YrSold', 'BsmtFinSF2', 'RoofMatl', '1stFlrSF'], 0.6440576288352364]\n",
      "[['1stFlrSF', 'Condition2', 'Exterior2nd', 'LandSlope', 'HouseStyle', 'CentralAir', 'BsmtCond', 'GarageType', 'MiscVal', 'FullBath', 'Functional', 'LotArea', 'MSZoning', 'HalfBath', 'MasVnrType'], 0.6459541127998483]\n",
      "[['YearBuilt', 'LandSlope', 'MoSold', 'SaleType', 'TotalFullBath', 'ExteriorSF', 'HouseStyle', 'SaleCondition', 'OverallCond', 'ExterCond', 'FireplaceQu', 'YearRemodAdd', 'MSSubClass', 'BedroomAbvGr', '1stFlrSF'], 0.7395539297938277]\n",
      "[['FireplaceQu', 'Fireplaces', '1stFlrSF', 'GarageFinish', 'TotalFullBath', 'LowQualFinSF', 'Utilities', 'MiscFeature', 'BsmtFinSF2', 'YrSold', 'MiscVal', 'AgeAtSale', 'KitchenAbvGr', 'BsmtFullBath', 'BsmtFinType1'], 0.7067164682699794]\n",
      "[['GarageQual', 'EnclosedPorch', 'BsmtExposure', 'HalfBath', 'YearRemodAdd', 'FireplaceQu', 'TotalBsmtSF', 'GrLivArea', 'BsmtFinSF1', 'ExteriorSF', 'Fireplaces', 'MasVnrArea', 'Electrical', 'OverallCond', 'TotRmsAbvGrd'], 0.7846361416510467]\n",
      "[['GarageCars', 'ScreenPorch', 'SaleType', 'LotShape', 'Fireplaces', 'TotalHalfBath', 'Heating', 'SaleCondition', 'MiscFeature', 'Street', 'Neighborhood', 'Alley', 'Condition1', 'MoSold', 'OverallCond'], 0.590757416019333]\n",
      "[['BsmtFinSF1', 'YrSold', 'Utilities', 'Exterior1st', 'CentralAir', 'LowQualFinSF', 'PoolArea', 'Fence', 'Alley', 'GarageArea', 'LandSlope', 'FullBath', 'TotalFullBath', 'GarageFinish', 'TotalHalfBath'], 0.64860815692973]\n",
      "[['GarageArea', 'MasVnrArea', 'Heating', 'SaleType', 'Functional', 'HalfBath', 'HouseStyle', 'BsmtCond', 'Fireplaces', 'YearBuilt', 'GarageAgeAtSale', 'WoodDeckSF', 'MoSold', 'LotFrontage', 'MSZoning'], 0.6799325719888908]\n",
      "[['Heating', 'RoofMatl', '1stFlrSF', 'BsmtExposure', 'BedroomAbvGr', 'GarageFinish', 'MiscFeature', 'EnclosedPorch', 'BsmtFullBath', 'Fence', 'OverallQual', 'GarageType', 'SaleType', 'HeatingQC', '3SsnPorch'], 0.7564149197474387]\n"
     ]
    }
   ],
   "source": [
    "import random\n",
    "featurelist = X_train.columns.to_list()\n",
    "rf = RandomForestRegressor()\n",
    "subsetsize = 15\n",
    "\n",
    "subsetscores = []\n",
    "\n",
    "for _ in range(10):\n",
    "    featuresubset = random.sample(featurelist, subsetsize)\n",
    "    rf.fit(X_train[featuresubset], y_train)\n",
    "    score = rf.score(X_validate[featuresubset], y_validate)\n",
    "    subsetscores.append([featuresubset, score])\n",
    "\n",
    "for featscore in subsetscores:\n",
    "    print(featscore)"
   ]
  },
  {
   "cell_type": "code",
   "execution_count": 42,
   "id": "134ff73e",
   "metadata": {},
   "outputs": [],
   "source": [
    "y = housedf[\"SalePrice\"]\n",
    "X = housedf.drop(\"SalePrice\", axis = 1)"
   ]
  },
  {
   "cell_type": "code",
   "execution_count": 43,
   "id": "3da2e50a",
   "metadata": {},
   "outputs": [],
   "source": [
    "from sklearn.model_selection import train_test_split\n",
    "X_trainvalidate, X_test, y_trainvalidate, y_test = train_test_split(X, y, test_size=0.2)\n",
    "X_train, X_validate, y_train, y_validate = train_test_split(X_trainvalidate, y_trainvalidate, test_size=0.875) # yields 70%/10%/20% split"
   ]
  },
  {
   "cell_type": "code",
   "execution_count": 44,
   "id": "87a14e33",
   "metadata": {},
   "outputs": [
    {
     "name": "stdout",
     "output_type": "stream",
     "text": [
      "(257, 73)\n",
      "(1806, 73)\n",
      "(516, 73)\n"
     ]
    }
   ],
   "source": [
    "print(X_train.shape)\n",
    "print(X_validate.shape)\n",
    "print(X_test.shape)"
   ]
  },
  {
   "cell_type": "code",
   "execution_count": 45,
   "id": "2e77e257",
   "metadata": {},
   "outputs": [],
   "source": [
    "# pickle df to use in ML Project - 3. Modeling\n",
    "housedf.to_pickle(\"housedf.pkl\")"
   ]
  },
  {
   "cell_type": "markdown",
   "id": "40b14f40",
   "metadata": {},
   "source": [
    "#### **2.5.c.** `VarianceThreshold()`"
   ]
  },
  {
   "cell_type": "code",
   "execution_count": 46,
   "id": "13f40449",
   "metadata": {},
   "outputs": [
    {
     "data": {
      "text/plain": [
       "(257, 57)"
      ]
     },
     "execution_count": 46,
     "metadata": {},
     "output_type": "execute_result"
    }
   ],
   "source": [
    "import sklearn.feature_selection as fs\n",
    "varied_features = fs.VarianceThreshold(threshold = 0.25)\n",
    "x_varied = varied_features.fit_transform(X_train)\n",
    "x_varied.shape"
   ]
  },
  {
   "cell_type": "markdown",
   "id": "793c7862",
   "metadata": {},
   "source": [
    "- `get_support` returns a boolean array.\n",
    "    - If `True`, that feature has a variance greater than 0.25 indicating high variance and would be a meaningful predictor.  \n",
    "    - If `False`, that feature has a variance less than 0.25 indicating low variance and would not be a meaningful predictor."
   ]
  },
  {
   "cell_type": "code",
   "execution_count": 47,
   "id": "b6d7c81c",
   "metadata": {
    "scrolled": true
   },
   "outputs": [
    {
     "data": {
      "text/plain": [
       "array([ True,  True,  True,  True,  True, False, False,  True,  True,\n",
       "       False,  True, False,  True,  True, False,  True,  True,  True,\n",
       "        True,  True,  True,  True,  True,  True,  True,  True,  True,\n",
       "        True,  True,  True,  True,  True,  True,  True,  True, False,\n",
       "        True, False,  True,  True,  True,  True,  True, False,  True,\n",
       "        True,  True,  True,  True,  True,  True,  True,  True, False,\n",
       "        True, False,  True,  True,  True,  True,  True,  True,  True,\n",
       "        True,  True,  True, False, False, False,  True, False, False,\n",
       "       False])"
      ]
     },
     "execution_count": 47,
     "metadata": {},
     "output_type": "execute_result"
    }
   ],
   "source": [
    "fs.VarianceThreshold.get_support(varied_features)"
   ]
  },
  {
   "cell_type": "markdown",
   "id": "ab39be39",
   "metadata": {},
   "source": [
    "- Find the features that have low variance, values that have a variance less than 0.25 and returned `False` in the above boolean array."
   ]
  },
  {
   "cell_type": "code",
   "execution_count": 48,
   "id": "f3c4f4f1",
   "metadata": {},
   "outputs": [
    {
     "name": "stdout",
     "output_type": "stream",
     "text": [
      "Street\n",
      "Alley\n",
      "Utilities\n",
      "LandSlope\n",
      "Condition2\n",
      "Heating\n",
      "CentralAir\n",
      "KitchenAbvGr\n",
      "PavedDrive\n",
      "MiscFeature\n",
      "2Stories\n",
      "FinBsmt\n",
      "UnfBsmt\n",
      "OutdoorLiving\n",
      "HasPool\n",
      "HasFireplace\n"
     ]
    }
   ],
   "source": [
    "concol = [column for column in X_train.columns \n",
    "          if column not in X_train.columns[varied_features.get_support()]]\n",
    "\n",
    "for features in concol:\n",
    "    print(features)"
   ]
  },
  {
   "cell_type": "code",
   "execution_count": 49,
   "id": "c87f413c",
   "metadata": {},
   "outputs": [
    {
     "data": {
      "text/plain": [
       "False    1464\n",
       "True     1115\n",
       "Name: 2Stories, dtype: int64"
      ]
     },
     "execution_count": 49,
     "metadata": {},
     "output_type": "execute_result"
    }
   ],
   "source": [
    "housedf['2Stories'].value_counts()"
   ]
  },
  {
   "cell_type": "markdown",
   "id": "31037524",
   "metadata": {},
   "source": [
    "Observations from feature `VarianceThreshold` analysis:\n",
    "\n",
    "The following features have low variance and may not have a distinguishable effect on `SalePrice`:\n",
    "\n",
    "- Features Regarding Location:\n",
    "    - `Street`, `Condition2`\n",
    "- Features Regarding Lot:\n",
    "    - `Alley`, `LandSlope`\n",
    "- Features Regarding Utilities:\n",
    "    - `Utilities`, `Heating`, `CentralAir`\n",
    "- Features Regrading Basement:\n",
    "    - `FinBsmt`, `UnfBsmt`\n",
    "- Features Regarding Bathrooms:\n",
    "    - `BsmtHalfBath`, `Halfbath`\n",
    "- Features Regarding Misc:\n",
    "    - `HasPool`, `HasFirePlace`, `OutdoorLiving`, `KitchAbvGr`, `MiscFeature`,`2Stories`\n",
    "    \n",
    "This indicates we may want to drop these features or combine them with another feature. "
   ]
  },
  {
   "cell_type": "markdown",
   "id": "ca87e82f",
   "metadata": {},
   "source": [
    "#### **2.5.d.** `f_regression`"
   ]
  },
  {
   "cell_type": "markdown",
   "id": "bd0d3660",
   "metadata": {},
   "source": [
    "   - Univariate feature selection with F test with `f_regression`. If the feature has a high F value and low p-value, that may be an indicator that feature will have a statistically significant effect on `y`.\n",
    "   - **Note:** This is a linear model for testing the effect of a single independent feature on the dependent variable. It assumes linearity, and therefore this is used for feature analysis. "
   ]
  },
  {
   "cell_type": "markdown",
   "id": "acf23b90",
   "metadata": {},
   "source": [
    "   - Use `k` equal to `all` to select all features instead of top `k` features that score best for exploratory purposes."
   ]
  },
  {
   "cell_type": "code",
   "execution_count": 50,
   "id": "896ceee4",
   "metadata": {},
   "outputs": [],
   "source": [
    "skb = fs.SelectKBest(score_func = fs.f_regression, k = 'all')"
   ]
  },
  {
   "cell_type": "code",
   "execution_count": 51,
   "id": "48a9ef14",
   "metadata": {},
   "outputs": [],
   "source": [
    "best_feats = skb.fit_transform(X_train, y_train)"
   ]
  },
  {
   "cell_type": "code",
   "execution_count": 52,
   "id": "ef37fa6c",
   "metadata": {},
   "outputs": [],
   "source": [
    "p_vals = skb.pvalues_"
   ]
  },
  {
   "cell_type": "markdown",
   "id": "519e2b97",
   "metadata": {},
   "source": [
    "- Print all `pvalues_` to explore which features are significant (< 0.05) and which are not (> 0.05)."
   ]
  },
  {
   "cell_type": "code",
   "execution_count": 53,
   "id": "e5b2ed65",
   "metadata": {},
   "outputs": [
    {
     "name": "stdout",
     "output_type": "stream",
     "text": [
      "GrLivArea: 0.000000\n",
      "MSSubClass: 0.103913\n",
      "MSZoning: 0.000166\n",
      "LotFrontage: 0.000773\n",
      "LotArea: 0.000000\n",
      "Street: 0.280504\n",
      "Alley: 0.026267\n",
      "LotShape: 0.000022\n",
      "LandContour: 0.597905\n",
      "Utilities: 1.000000\n",
      "LotConfig: 0.453040\n",
      "LandSlope: 0.074309\n",
      "Neighborhood: 0.001587\n",
      "Condition1: 0.430599\n",
      "Condition2: 0.277374\n",
      "BldgType: 0.262656\n",
      "HouseStyle: 0.025375\n",
      "OverallQual: 0.000000\n",
      "OverallCond: 0.151414\n",
      "YearBuilt: 0.000000\n",
      "YearRemodAdd: 0.000000\n",
      "RoofStyle: 0.000449\n",
      "RoofMatl: 0.000000\n",
      "Exterior1st: 0.099040\n",
      "Exterior2nd: 0.098560\n",
      "MasVnrType: 0.001889\n",
      "MasVnrArea: 0.000000\n",
      "ExterQual: 0.000000\n",
      "ExterCond: 0.044883\n",
      "Foundation: 0.000000\n",
      "BsmtQual: 0.000000\n",
      "BsmtCond: 0.090361\n",
      "BsmtExposure: 0.000000\n",
      "BsmtFinType1: 0.001314\n",
      "BsmtFinType2: 0.291918\n",
      "Heating: 0.150626\n",
      "HeatingQC: 0.000000\n",
      "CentralAir: 0.000004\n",
      "Electrical: 0.000023\n",
      "1stFlrSF: 0.000000\n",
      "2ndFlrSF: 0.000000\n",
      "LowQualFinSF: 0.197803\n",
      "BedroomAbvGr: 0.000054\n",
      "KitchenAbvGr: 0.093161\n",
      "KitchenQual: 0.000000\n",
      "TotRmsAbvGrd: 0.000000\n",
      "Functional: 0.075077\n",
      "GarageType: 0.000000\n",
      "GarageFinish: 0.000000\n",
      "GarageCars: 0.000000\n",
      "GarageArea: 0.000000\n",
      "GarageQual: 0.001843\n",
      "GarageCond: 0.000173\n",
      "PavedDrive: 0.000201\n",
      "Fence: 0.026951\n",
      "MiscFeature: 0.475662\n",
      "MiscVal: 0.211248\n",
      "MoSold: 0.155907\n",
      "YrSold: 0.839025\n",
      "SaleType: 0.953791\n",
      "SaleCondition: 0.709138\n",
      "ExteriorSF: 0.000001\n",
      "AgeAtSale: 0.000000\n",
      "GarageAgeAtSale: 0.000000\n",
      "TimeSinceLastWork: 0.000000\n",
      "TotalSF: 0.000000\n",
      "2Stories: 0.086716\n",
      "FinBsmt: 0.000858\n",
      "UnfBsmt: 0.005182\n",
      "TotalBathrooms: 0.000000\n",
      "OutdoorLiving: 0.000007\n",
      "HasPool: 0.677684\n",
      "HasFireplace: 0.000000\n"
     ]
    }
   ],
   "source": [
    "for i in range(len(skb.pvalues_)):\n",
    " print('%s: %f' % (X_train.columns[i], skb.pvalues_[i]))"
   ]
  },
  {
   "cell_type": "markdown",
   "id": "406194c1",
   "metadata": {},
   "source": [
    "Observations from `f_regression` p-values.\n",
    "\n",
    "The following features have a `p-value_` of 0.05 or higher, so these will not have a significant effect on prediciting `SalePrice`:\n",
    "\n",
    "- `LandContour`: 0.446418\n",
    "- `Utilities`: 0.088177\n",
    "- `Condition2`: 0.202088\n",
    "- `MiscVal`: 0.323951\n",
    "- `MoSold`: 0.640976\n",
    "- `YrSold`: 0.818901\n",
    "- `SaleType`: 0.792826"
   ]
  },
  {
   "cell_type": "markdown",
   "id": "0fbcdf21",
   "metadata": {},
   "source": [
    "- Now use `SelectKBest` using `k = 10` to select the top 10 features that have the highest F-score and lowest p-values."
   ]
  },
  {
   "cell_type": "code",
   "execution_count": 54,
   "id": "d97ea1ad",
   "metadata": {},
   "outputs": [],
   "source": [
    "skb = fs.SelectKBest(score_func = fs.f_regression, k = 10)"
   ]
  },
  {
   "cell_type": "code",
   "execution_count": 55,
   "id": "303c5981",
   "metadata": {},
   "outputs": [],
   "source": [
    "best_feats = skb.fit_transform(X_train, y_train)"
   ]
  },
  {
   "cell_type": "code",
   "execution_count": 56,
   "id": "93edc893",
   "metadata": {},
   "outputs": [
    {
     "name": "stdout",
     "output_type": "stream",
     "text": [
      "GrLivArea\n",
      "OverallQual\n",
      "MasVnrArea\n",
      "ExterQual\n",
      "1stFlrSF\n",
      "KitchenQual\n",
      "GarageCars\n",
      "GarageArea\n",
      "TotalSF\n",
      "TotalBathrooms\n"
     ]
    }
   ],
   "source": [
    "concol = [column for column in X.columns \n",
    "          if column in X.columns[skb.get_support()]]\n",
    "\n",
    "for features in concol:\n",
    "    print(features)"
   ]
  },
  {
   "cell_type": "markdown",
   "id": "471af7b5",
   "metadata": {},
   "source": [
    "#### **2.5.c.** `SequentialFeatureSelector`"
   ]
  },
  {
   "cell_type": "code",
   "execution_count": 57,
   "id": "f1fcc444",
   "metadata": {},
   "outputs": [],
   "source": [
    "from sklearn.feature_selection import SequentialFeatureSelector\n",
    "from sklearn.ensemble import RandomForestRegressor"
   ]
  },
  {
   "cell_type": "code",
   "execution_count": 58,
   "id": "63d3e33c",
   "metadata": {},
   "outputs": [],
   "source": [
    "rf = RandomForestRegressor()"
   ]
  },
  {
   "cell_type": "code",
   "execution_count": 59,
   "id": "bf53b5f2",
   "metadata": {},
   "outputs": [],
   "source": [
    "sfs = SequentialFeatureSelector(estimator = rf, n_features_to_select = 'auto', tol=0.005, \n",
    "                                direction = 'backward', scoring = \"r2\", cv = 5)"
   ]
  },
  {
   "cell_type": "code",
   "execution_count": 60,
   "id": "839af36a",
   "metadata": {},
   "outputs": [
    {
     "data": {
      "text/html": [
       "<style>#sk-container-id-1 {color: black;background-color: white;}#sk-container-id-1 pre{padding: 0;}#sk-container-id-1 div.sk-toggleable {background-color: white;}#sk-container-id-1 label.sk-toggleable__label {cursor: pointer;display: block;width: 100%;margin-bottom: 0;padding: 0.3em;box-sizing: border-box;text-align: center;}#sk-container-id-1 label.sk-toggleable__label-arrow:before {content: \"▸\";float: left;margin-right: 0.25em;color: #696969;}#sk-container-id-1 label.sk-toggleable__label-arrow:hover:before {color: black;}#sk-container-id-1 div.sk-estimator:hover label.sk-toggleable__label-arrow:before {color: black;}#sk-container-id-1 div.sk-toggleable__content {max-height: 0;max-width: 0;overflow: hidden;text-align: left;background-color: #f0f8ff;}#sk-container-id-1 div.sk-toggleable__content pre {margin: 0.2em;color: black;border-radius: 0.25em;background-color: #f0f8ff;}#sk-container-id-1 input.sk-toggleable__control:checked~div.sk-toggleable__content {max-height: 200px;max-width: 100%;overflow: auto;}#sk-container-id-1 input.sk-toggleable__control:checked~label.sk-toggleable__label-arrow:before {content: \"▾\";}#sk-container-id-1 div.sk-estimator input.sk-toggleable__control:checked~label.sk-toggleable__label {background-color: #d4ebff;}#sk-container-id-1 div.sk-label input.sk-toggleable__control:checked~label.sk-toggleable__label {background-color: #d4ebff;}#sk-container-id-1 input.sk-hidden--visually {border: 0;clip: rect(1px 1px 1px 1px);clip: rect(1px, 1px, 1px, 1px);height: 1px;margin: -1px;overflow: hidden;padding: 0;position: absolute;width: 1px;}#sk-container-id-1 div.sk-estimator {font-family: monospace;background-color: #f0f8ff;border: 1px dotted black;border-radius: 0.25em;box-sizing: border-box;margin-bottom: 0.5em;}#sk-container-id-1 div.sk-estimator:hover {background-color: #d4ebff;}#sk-container-id-1 div.sk-parallel-item::after {content: \"\";width: 100%;border-bottom: 1px solid gray;flex-grow: 1;}#sk-container-id-1 div.sk-label:hover label.sk-toggleable__label {background-color: #d4ebff;}#sk-container-id-1 div.sk-serial::before {content: \"\";position: absolute;border-left: 1px solid gray;box-sizing: border-box;top: 0;bottom: 0;left: 50%;z-index: 0;}#sk-container-id-1 div.sk-serial {display: flex;flex-direction: column;align-items: center;background-color: white;padding-right: 0.2em;padding-left: 0.2em;position: relative;}#sk-container-id-1 div.sk-item {position: relative;z-index: 1;}#sk-container-id-1 div.sk-parallel {display: flex;align-items: stretch;justify-content: center;background-color: white;position: relative;}#sk-container-id-1 div.sk-item::before, #sk-container-id-1 div.sk-parallel-item::before {content: \"\";position: absolute;border-left: 1px solid gray;box-sizing: border-box;top: 0;bottom: 0;left: 50%;z-index: -1;}#sk-container-id-1 div.sk-parallel-item {display: flex;flex-direction: column;z-index: 1;position: relative;background-color: white;}#sk-container-id-1 div.sk-parallel-item:first-child::after {align-self: flex-end;width: 50%;}#sk-container-id-1 div.sk-parallel-item:last-child::after {align-self: flex-start;width: 50%;}#sk-container-id-1 div.sk-parallel-item:only-child::after {width: 0;}#sk-container-id-1 div.sk-dashed-wrapped {border: 1px dashed gray;margin: 0 0.4em 0.5em 0.4em;box-sizing: border-box;padding-bottom: 0.4em;background-color: white;}#sk-container-id-1 div.sk-label label {font-family: monospace;font-weight: bold;display: inline-block;line-height: 1.2em;}#sk-container-id-1 div.sk-label-container {text-align: center;}#sk-container-id-1 div.sk-container {/* jupyter's `normalize.less` sets `[hidden] { display: none; }` but bootstrap.min.css set `[hidden] { display: none !important; }` so we also need the `!important` here to be able to override the default hidden behavior on the sphinx rendered scikit-learn.org. See: https://github.com/scikit-learn/scikit-learn/issues/21755 */display: inline-block !important;position: relative;}#sk-container-id-1 div.sk-text-repr-fallback {display: none;}</style><div id=\"sk-container-id-1\" class=\"sk-top-container\"><div class=\"sk-text-repr-fallback\"><pre>SequentialFeatureSelector(direction=&#x27;backward&#x27;,\n",
       "                          estimator=RandomForestRegressor(),\n",
       "                          n_features_to_select=&#x27;auto&#x27;, scoring=&#x27;r2&#x27;, tol=0.005)</pre><b>In a Jupyter environment, please rerun this cell to show the HTML representation or trust the notebook. <br />On GitHub, the HTML representation is unable to render, please try loading this page with nbviewer.org.</b></div><div class=\"sk-container\" hidden><div class=\"sk-item sk-dashed-wrapped\"><div class=\"sk-label-container\"><div class=\"sk-label sk-toggleable\"><input class=\"sk-toggleable__control sk-hidden--visually\" id=\"sk-estimator-id-1\" type=\"checkbox\" ><label for=\"sk-estimator-id-1\" class=\"sk-toggleable__label sk-toggleable__label-arrow\">SequentialFeatureSelector</label><div class=\"sk-toggleable__content\"><pre>SequentialFeatureSelector(direction=&#x27;backward&#x27;,\n",
       "                          estimator=RandomForestRegressor(),\n",
       "                          n_features_to_select=&#x27;auto&#x27;, scoring=&#x27;r2&#x27;, tol=0.005)</pre></div></div></div><div class=\"sk-parallel\"><div class=\"sk-parallel-item\"><div class=\"sk-item\"><div class=\"sk-label-container\"><div class=\"sk-label sk-toggleable\"><input class=\"sk-toggleable__control sk-hidden--visually\" id=\"sk-estimator-id-2\" type=\"checkbox\" ><label for=\"sk-estimator-id-2\" class=\"sk-toggleable__label sk-toggleable__label-arrow\">estimator: RandomForestRegressor</label><div class=\"sk-toggleable__content\"><pre>RandomForestRegressor()</pre></div></div></div><div class=\"sk-serial\"><div class=\"sk-item\"><div class=\"sk-estimator sk-toggleable\"><input class=\"sk-toggleable__control sk-hidden--visually\" id=\"sk-estimator-id-3\" type=\"checkbox\" ><label for=\"sk-estimator-id-3\" class=\"sk-toggleable__label sk-toggleable__label-arrow\">RandomForestRegressor</label><div class=\"sk-toggleable__content\"><pre>RandomForestRegressor()</pre></div></div></div></div></div></div></div></div></div></div>"
      ],
      "text/plain": [
       "SequentialFeatureSelector(direction='backward',\n",
       "                          estimator=RandomForestRegressor(),\n",
       "                          n_features_to_select='auto', scoring='r2', tol=0.005)"
      ]
     },
     "execution_count": 60,
     "metadata": {},
     "output_type": "execute_result"
    }
   ],
   "source": [
    "sfs.fit(X_train, y_train)"
   ]
  },
  {
   "cell_type": "code",
   "execution_count": 61,
   "id": "ae7e3a43",
   "metadata": {
    "scrolled": false
   },
   "outputs": [
    {
     "data": {
      "text/plain": [
       "array([ True,  True,  True,  True,  True,  True,  True,  True,  True,\n",
       "        True,  True,  True,  True,  True,  True,  True,  True,  True,\n",
       "        True,  True,  True,  True,  True,  True,  True,  True,  True,\n",
       "        True,  True,  True,  True,  True,  True,  True,  True,  True,\n",
       "        True,  True,  True,  True,  True,  True,  True,  True,  True,\n",
       "        True,  True,  True,  True,  True,  True,  True,  True,  True,\n",
       "        True,  True,  True,  True,  True,  True,  True,  True,  True,\n",
       "        True,  True, False,  True,  True,  True,  True,  True,  True,\n",
       "        True])"
      ]
     },
     "execution_count": 61,
     "metadata": {},
     "output_type": "execute_result"
    }
   ],
   "source": [
    "sfs.get_support()"
   ]
  },
  {
   "cell_type": "code",
   "execution_count": 62,
   "id": "d03dcfe3",
   "metadata": {},
   "outputs": [
    {
     "data": {
      "text/plain": [
       "0.8459497815918791"
      ]
     },
     "execution_count": 62,
     "metadata": {},
     "output_type": "execute_result"
    }
   ],
   "source": [
    "rf.fit(sfs.transform(X_train), y_train).score(sfs.transform(X_validate), y_validate)"
   ]
  },
  {
   "cell_type": "code",
   "execution_count": 63,
   "id": "d9cfc2e8",
   "metadata": {},
   "outputs": [
    {
     "data": {
      "text/plain": [
       "(257, 72)"
      ]
     },
     "execution_count": 63,
     "metadata": {},
     "output_type": "execute_result"
    }
   ],
   "source": [
    "sfs.transform(X_train).shape"
   ]
  },
  {
   "cell_type": "code",
   "execution_count": 64,
   "id": "aa645320",
   "metadata": {
    "scrolled": true
   },
   "outputs": [
    {
     "name": "stdout",
     "output_type": "stream",
     "text": [
      "Index(['GrLivArea', 'MSSubClass', 'MSZoning', 'LotFrontage', 'LotArea',\n",
      "       'Street', 'Alley', 'LotShape', 'LandContour', 'Utilities', 'LotConfig',\n",
      "       'LandSlope', 'Neighborhood', 'Condition1', 'Condition2', 'BldgType',\n",
      "       'HouseStyle', 'OverallQual', 'OverallCond', 'YearBuilt', 'YearRemodAdd',\n",
      "       'RoofStyle', 'RoofMatl', 'Exterior1st', 'Exterior2nd', 'MasVnrType',\n",
      "       'MasVnrArea', 'ExterQual', 'ExterCond', 'Foundation', 'BsmtQual',\n",
      "       'BsmtCond', 'BsmtExposure', 'BsmtFinType1', 'BsmtFinType2', 'Heating',\n",
      "       'HeatingQC', 'CentralAir', 'Electrical', '1stFlrSF', '2ndFlrSF',\n",
      "       'LowQualFinSF', 'BedroomAbvGr', 'KitchenAbvGr', 'KitchenQual',\n",
      "       'TotRmsAbvGrd', 'Functional', 'GarageType', 'GarageFinish',\n",
      "       'GarageCars', 'GarageArea', 'GarageQual', 'GarageCond', 'PavedDrive',\n",
      "       'Fence', 'MiscFeature', 'MiscVal', 'MoSold', 'YrSold', 'SaleType',\n",
      "       'SaleCondition', 'ExteriorSF', 'AgeAtSale', 'GarageAgeAtSale',\n",
      "       'TimeSinceLastWork', '2Stories', 'FinBsmt', 'UnfBsmt', 'TotalBathrooms',\n",
      "       'OutdoorLiving', 'HasPool', 'HasFireplace'],\n",
      "      dtype='object')\n"
     ]
    }
   ],
   "source": [
    "selected_feat = X_train.columns[(sfs.get_support())]\n",
    "print(selected_feat)"
   ]
  },
  {
   "cell_type": "code",
   "execution_count": 65,
   "id": "53d76724",
   "metadata": {},
   "outputs": [
    {
     "data": {
      "text/plain": [
       "Index(['GrLivArea', 'SalePrice', 'MSSubClass', 'MSZoning', 'LotFrontage',\n",
       "       'LotArea', 'Street', 'Alley', 'LotShape', 'LandContour', 'Utilities',\n",
       "       'LotConfig', 'LandSlope', 'Neighborhood', 'Condition1', 'Condition2',\n",
       "       'BldgType', 'HouseStyle', 'OverallQual', 'OverallCond', 'YearBuilt',\n",
       "       'YearRemodAdd', 'RoofStyle', 'RoofMatl', 'Exterior1st', 'Exterior2nd',\n",
       "       'MasVnrType', 'MasVnrArea', 'ExterQual', 'ExterCond', 'Foundation',\n",
       "       'BsmtQual', 'BsmtCond', 'BsmtExposure', 'BsmtFinType1', 'BsmtFinType2',\n",
       "       'Heating', 'HeatingQC', 'CentralAir', 'Electrical', '1stFlrSF',\n",
       "       '2ndFlrSF', 'LowQualFinSF', 'BedroomAbvGr', 'KitchenAbvGr',\n",
       "       'KitchenQual', 'TotRmsAbvGrd', 'Functional', 'GarageType',\n",
       "       'GarageFinish', 'GarageCars', 'GarageArea', 'GarageQual', 'GarageCond',\n",
       "       'PavedDrive', 'Fence', 'MiscFeature', 'MiscVal', 'MoSold', 'YrSold',\n",
       "       'SaleType', 'SaleCondition', 'ExteriorSF', 'AgeAtSale',\n",
       "       'GarageAgeAtSale', 'TimeSinceLastWork', 'TotalSF', '2Stories',\n",
       "       'FinBsmt', 'UnfBsmt', 'TotalBathrooms', 'OutdoorLiving', 'HasPool',\n",
       "       'HasFireplace'],\n",
       "      dtype='object')"
      ]
     },
     "execution_count": 65,
     "metadata": {},
     "output_type": "execute_result"
    }
   ],
   "source": [
    "housedf.columns"
   ]
  },
  {
   "cell_type": "markdown",
   "id": "2651bf63",
   "metadata": {},
   "source": [
    "### 2.5.d. Feature Analysis Summary\n",
    "\n",
    "#### Feature Exclusion"
   ]
  },
  {
   "cell_type": "markdown",
   "id": "b2e8c1fe",
   "metadata": {},
   "source": [
    "`VarianceThreshold()` Features that has *LOW* variance (ones we should exclude or combine):\n",
    "\n",
    "- `Street`\n",
    "- `Alley`\n",
    "- `Utilities`\n",
    "- `LandSlope`\n",
    "- `Condition2`\n",
    "- `RoofMatl`\n",
    "- `Heating`\n",
    "- `CentralAir`\n",
    "- `KitchenAbvGr`\n",
    "- `MiscFeature`\n",
    "- `2Stories`\n",
    "- `FinBsmt`\n",
    "- `UnfBsmt`\n",
    "- `OutdoorLiving`\n",
    "- `HasPool`\n",
    "- `HasFireplace`"
   ]
  },
  {
   "cell_type": "markdown",
   "id": "fe321e96",
   "metadata": {},
   "source": [
    "`f_regression` Features that have a *HIGH* p-value (ones we should exclude or combine):\n",
    "\n",
    "- `LandContour`: 0.446418\n",
    "- `Utilities`: 0.088177\n",
    "- `Condition2`: 0.202088\n",
    "- `MiscVal`: 0.323951\n",
    "- `MoSold`: 0.640976\n",
    "- `YrSold`: 0.818901\n",
    "- `SaleType`: 0.79282"
   ]
  },
  {
   "cell_type": "markdown",
   "id": "8e88ef4d",
   "metadata": {},
   "source": [
    "Features that both `VarianceThreshold()` and `f_regression` methods told us to exclude:\n",
    "\n",
    "- `Utitities`\n",
    "- `Condition2`"
   ]
  },
  {
   "cell_type": "markdown",
   "id": "d0abd931",
   "metadata": {},
   "source": [
    "#### Feature Inclusion"
   ]
  },
  {
   "cell_type": "markdown",
   "id": "fc283cfd",
   "metadata": {},
   "source": [
    "Since `VarianceThreshold()` has multiple features with high variance that are too numerous to list, we will jump into which features `SelectKBest` with `f_regression` told us we should include."
   ]
  },
  {
   "cell_type": "markdown",
   "id": "448c23b7",
   "metadata": {},
   "source": [
    "`f_regression` Top 10 Features:\n",
    "\n",
    "- `GrLivArea`\n",
    "- `OverallQual`\n",
    "- `ExterQual`\n",
    "- `BsmtQual`\n",
    "- `TotalBsmtSF`\n",
    "- `1stFlrSF`\n",
    "- `KitchenQual`\n",
    "- `GarageCars`\n",
    "- `GarageArea`\n",
    "- `TotalFullBath`"
   ]
  },
  {
   "cell_type": "markdown",
   "id": "bd0620fb",
   "metadata": {},
   "source": [
    "`SequentialFeatureSelection` Features:\n",
    "\n",
    "- `Neighborhood` \n",
    "- `OverallQual`\n",
    "- `OverallCond` \n",
    "- `YearBuilt`\n",
    "- `BsmtFinType1`\n",
    "- `1stFlrSF`\n",
    "- `GarageCars`\n",
    "- `ExteriorSF`\n",
    "- `TotalSF`\n",
    "- `TotalFullBath`"
   ]
  },
  {
   "cell_type": "markdown",
   "id": "cbe90e4b",
   "metadata": {},
   "source": [
    "Features both methods had in common to include:\n",
    "\n",
    "- `OverallQual`\n",
    "- `1stFlrSF`\n",
    "- `GarageCars`\n",
    "- `TotalFullBath`"
   ]
  },
  {
   "cell_type": "markdown",
   "id": "f298c53b",
   "metadata": {},
   "source": [
    "### For the modeling portion, please reference `ML Project - 3. Modeling` which is the third notebook of the three part series."
   ]
  }
 ],
 "metadata": {
  "kernelspec": {
   "display_name": "Python 3 (ipykernel)",
   "language": "python",
   "name": "python3"
  },
  "language_info": {
   "codemirror_mode": {
    "name": "ipython",
    "version": 3
   },
   "file_extension": ".py",
   "mimetype": "text/x-python",
   "name": "python",
   "nbconvert_exporter": "python",
   "pygments_lexer": "ipython3",
   "version": "3.9.13"
  }
 },
 "nbformat": 4,
 "nbformat_minor": 5
}
