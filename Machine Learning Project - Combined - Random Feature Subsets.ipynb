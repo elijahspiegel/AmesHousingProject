{
 "cells": [
  {
   "cell_type": "markdown",
   "id": "b569494a",
   "metadata": {},
   "source": [
    "# Modeling"
   ]
  },
  {
   "cell_type": "markdown",
   "id": "b9ebbd41",
   "metadata": {},
   "source": [
    "## 1. Pre-Processing\n",
    "\n",
    "### 1.1. Read in Data"
   ]
  },
  {
   "cell_type": "markdown",
   "id": "b6fc40aa",
   "metadata": {},
   "source": [
    "**1.1.a.** Import required libraries."
   ]
  },
  {
   "cell_type": "code",
   "execution_count": 1,
   "id": "a81f76ea",
   "metadata": {},
   "outputs": [],
   "source": [
    "import numpy as np\n",
    "import pandas as pd\n",
    "import seaborn as sns\n",
    "from sklearn.ensemble import RandomForestRegressor\n",
    "from sklearn.model_selection import GridSearchCV\n",
    "from sklearn.tree import export_graphviz\n",
    "from sklearn import preprocessing"
   ]
  },
  {
   "cell_type": "markdown",
   "id": "6d461574",
   "metadata": {},
   "source": [
    "**1.1.b.** Read in cleaned dataframe."
   ]
  },
  {
   "cell_type": "code",
   "execution_count": 2,
   "id": "03e901d9",
   "metadata": {
    "scrolled": false
   },
   "outputs": [
    {
     "name": "stdout",
     "output_type": "stream",
     "text": [
      "(2579, 90)\n"
     ]
    },
    {
     "data": {
      "text/plain": [
       "Index(['PID', 'GrLivArea', 'SalePrice', 'MSSubClass', 'MSZoning',\n",
       "       'LotFrontage', 'LotArea', 'Street', 'Alley', 'LotShape', 'LandContour',\n",
       "       'Utilities', 'LotConfig', 'LandSlope', 'Neighborhood', 'Condition1',\n",
       "       'Condition2', 'BldgType', 'HouseStyle', 'OverallQual', 'OverallCond',\n",
       "       'YearBuilt', 'YearRemodAdd', 'RoofStyle', 'RoofMatl', 'Exterior1st',\n",
       "       'Exterior2nd', 'MasVnrType', 'MasVnrArea', 'ExterQual', 'ExterCond',\n",
       "       'Foundation', 'BsmtQual', 'BsmtCond', 'BsmtExposure', 'BsmtFinType1',\n",
       "       'BsmtFinSF1', 'BsmtFinType2', 'BsmtFinSF2', 'BsmtUnfSF', 'TotalBsmtSF',\n",
       "       'Heating', 'HeatingQC', 'CentralAir', 'Electrical', '1stFlrSF',\n",
       "       '2ndFlrSF', 'LowQualFinSF', 'BsmtFullBath', 'BsmtHalfBath', 'FullBath',\n",
       "       'HalfBath', 'BedroomAbvGr', 'KitchenAbvGr', 'KitchenQual',\n",
       "       'TotRmsAbvGrd', 'Functional', 'Fireplaces', 'FireplaceQu', 'GarageType',\n",
       "       'GarageFinish', 'GarageCars', 'GarageArea', 'GarageQual', 'GarageCond',\n",
       "       'PavedDrive', 'WoodDeckSF', 'OpenPorchSF', 'EnclosedPorch', '3SsnPorch',\n",
       "       'ScreenPorch', 'PoolArea', 'PoolQC', 'Fence', 'MiscFeature', 'MiscVal',\n",
       "       'MoSold', 'YrSold', 'SaleType', 'SaleCondition', 'ExteriorSF',\n",
       "       'AgeAtSale', 'TotalFullBath', 'TotalHalfBath', 'GarageAgeAtSale',\n",
       "       'Prop_Addr', 'MA_Ownr1', 'MA_Ownr2', 'Latitude', 'Longitude'],\n",
       "      dtype='object')"
      ]
     },
     "execution_count": 2,
     "metadata": {},
     "output_type": "execute_result"
    }
   ],
   "source": [
    "housedf_raw = pd.read_csv('./data/Ames_HousePrice_processed.csv', index_col=0)\n",
    "print(housedf_raw.shape)\n",
    "housedf_raw.columns"
   ]
  },
  {
   "cell_type": "markdown",
   "id": "802931aa",
   "metadata": {},
   "source": [
    "**1.1.c.** Check to see if dataframe has been read as intended."
   ]
  },
  {
   "cell_type": "code",
   "execution_count": 3,
   "id": "ebd54d97",
   "metadata": {
    "scrolled": true
   },
   "outputs": [
    {
     "data": {
      "text/html": [
       "<div>\n",
       "<style scoped>\n",
       "    .dataframe tbody tr th:only-of-type {\n",
       "        vertical-align: middle;\n",
       "    }\n",
       "\n",
       "    .dataframe tbody tr th {\n",
       "        vertical-align: top;\n",
       "    }\n",
       "\n",
       "    .dataframe thead th {\n",
       "        text-align: right;\n",
       "    }\n",
       "</style>\n",
       "<table border=\"1\" class=\"dataframe\">\n",
       "  <thead>\n",
       "    <tr style=\"text-align: right;\">\n",
       "      <th></th>\n",
       "      <th>PID</th>\n",
       "      <th>GrLivArea</th>\n",
       "      <th>SalePrice</th>\n",
       "      <th>MSSubClass</th>\n",
       "      <th>MSZoning</th>\n",
       "      <th>LotFrontage</th>\n",
       "      <th>LotArea</th>\n",
       "      <th>Street</th>\n",
       "      <th>Alley</th>\n",
       "      <th>LotShape</th>\n",
       "      <th>...</th>\n",
       "      <th>ExteriorSF</th>\n",
       "      <th>AgeAtSale</th>\n",
       "      <th>TotalFullBath</th>\n",
       "      <th>TotalHalfBath</th>\n",
       "      <th>GarageAgeAtSale</th>\n",
       "      <th>Prop_Addr</th>\n",
       "      <th>MA_Ownr1</th>\n",
       "      <th>MA_Ownr2</th>\n",
       "      <th>Latitude</th>\n",
       "      <th>Longitude</th>\n",
       "    </tr>\n",
       "  </thead>\n",
       "  <tbody>\n",
       "    <tr>\n",
       "      <th>0</th>\n",
       "      <td>909176150</td>\n",
       "      <td>856</td>\n",
       "      <td>126000</td>\n",
       "      <td>30</td>\n",
       "      <td>RL</td>\n",
       "      <td>0.0</td>\n",
       "      <td>7890</td>\n",
       "      <td>Pave</td>\n",
       "      <td>No alley</td>\n",
       "      <td>Reg</td>\n",
       "      <td>...</td>\n",
       "      <td>7034</td>\n",
       "      <td>71</td>\n",
       "      <td>2.0</td>\n",
       "      <td>0.0</td>\n",
       "      <td>71.0</td>\n",
       "      <td>436 HAYWARD AVE</td>\n",
       "      <td>GREINER, RODNEY &amp; CELIA</td>\n",
       "      <td>NaN</td>\n",
       "      <td>42.018564</td>\n",
       "      <td>-93.651619</td>\n",
       "    </tr>\n",
       "    <tr>\n",
       "      <th>1</th>\n",
       "      <td>905476230</td>\n",
       "      <td>1049</td>\n",
       "      <td>139500</td>\n",
       "      <td>120</td>\n",
       "      <td>RL</td>\n",
       "      <td>42.0</td>\n",
       "      <td>4235</td>\n",
       "      <td>Pave</td>\n",
       "      <td>No alley</td>\n",
       "      <td>Reg</td>\n",
       "      <td>...</td>\n",
       "      <td>3186</td>\n",
       "      <td>25</td>\n",
       "      <td>3.0</td>\n",
       "      <td>0.0</td>\n",
       "      <td>25.0</td>\n",
       "      <td>3416 WEST ST</td>\n",
       "      <td>HUBERT, JOHN F &amp; GRETTA R</td>\n",
       "      <td>NaN</td>\n",
       "      <td>42.024855</td>\n",
       "      <td>-93.663671</td>\n",
       "    </tr>\n",
       "    <tr>\n",
       "      <th>2</th>\n",
       "      <td>911128020</td>\n",
       "      <td>1001</td>\n",
       "      <td>124900</td>\n",
       "      <td>30</td>\n",
       "      <td>C (all)</td>\n",
       "      <td>60.0</td>\n",
       "      <td>6060</td>\n",
       "      <td>Pave</td>\n",
       "      <td>No alley</td>\n",
       "      <td>Reg</td>\n",
       "      <td>...</td>\n",
       "      <td>5059</td>\n",
       "      <td>77</td>\n",
       "      <td>1.0</td>\n",
       "      <td>0.0</td>\n",
       "      <td>77.0</td>\n",
       "      <td>320 S 2ND ST</td>\n",
       "      <td>SKLENAR, TIM</td>\n",
       "      <td>CARNEY, SARAH</td>\n",
       "      <td>42.021548</td>\n",
       "      <td>-93.614068</td>\n",
       "    </tr>\n",
       "    <tr>\n",
       "      <th>3</th>\n",
       "      <td>535377150</td>\n",
       "      <td>1039</td>\n",
       "      <td>114000</td>\n",
       "      <td>70</td>\n",
       "      <td>RL</td>\n",
       "      <td>80.0</td>\n",
       "      <td>8146</td>\n",
       "      <td>Pave</td>\n",
       "      <td>No alley</td>\n",
       "      <td>Reg</td>\n",
       "      <td>...</td>\n",
       "      <td>7429</td>\n",
       "      <td>109</td>\n",
       "      <td>1.0</td>\n",
       "      <td>0.0</td>\n",
       "      <td>69.0</td>\n",
       "      <td>1524 DOUGLAS AVE</td>\n",
       "      <td>MILLARD, TAMMY</td>\n",
       "      <td>NaN</td>\n",
       "      <td>42.037391</td>\n",
       "      <td>-93.612207</td>\n",
       "    </tr>\n",
       "    <tr>\n",
       "      <th>4</th>\n",
       "      <td>534177230</td>\n",
       "      <td>1665</td>\n",
       "      <td>227000</td>\n",
       "      <td>60</td>\n",
       "      <td>RL</td>\n",
       "      <td>70.0</td>\n",
       "      <td>8400</td>\n",
       "      <td>Pave</td>\n",
       "      <td>No alley</td>\n",
       "      <td>Reg</td>\n",
       "      <td>...</td>\n",
       "      <td>7590</td>\n",
       "      <td>8</td>\n",
       "      <td>3.0</td>\n",
       "      <td>1.0</td>\n",
       "      <td>8.0</td>\n",
       "      <td>2304 FILLMORE AVE</td>\n",
       "      <td>SEBBAG, LIONEL</td>\n",
       "      <td>LEVIN, ALISON P</td>\n",
       "      <td>42.044554</td>\n",
       "      <td>-93.631818</td>\n",
       "    </tr>\n",
       "  </tbody>\n",
       "</table>\n",
       "<p>5 rows × 90 columns</p>\n",
       "</div>"
      ],
      "text/plain": [
       "         PID  GrLivArea  SalePrice  MSSubClass MSZoning  LotFrontage  LotArea  \\\n",
       "0  909176150        856     126000          30       RL          0.0     7890   \n",
       "1  905476230       1049     139500         120       RL         42.0     4235   \n",
       "2  911128020       1001     124900          30  C (all)         60.0     6060   \n",
       "3  535377150       1039     114000          70       RL         80.0     8146   \n",
       "4  534177230       1665     227000          60       RL         70.0     8400   \n",
       "\n",
       "  Street     Alley LotShape  ... ExteriorSF AgeAtSale TotalFullBath  \\\n",
       "0   Pave  No alley      Reg  ...       7034        71           2.0   \n",
       "1   Pave  No alley      Reg  ...       3186        25           3.0   \n",
       "2   Pave  No alley      Reg  ...       5059        77           1.0   \n",
       "3   Pave  No alley      Reg  ...       7429       109           1.0   \n",
       "4   Pave  No alley      Reg  ...       7590         8           3.0   \n",
       "\n",
       "  TotalHalfBath GarageAgeAtSale          Prop_Addr                   MA_Ownr1  \\\n",
       "0           0.0            71.0    436 HAYWARD AVE    GREINER, RODNEY & CELIA   \n",
       "1           0.0            25.0       3416 WEST ST  HUBERT, JOHN F & GRETTA R   \n",
       "2           0.0            77.0       320 S 2ND ST               SKLENAR, TIM   \n",
       "3           0.0            69.0   1524 DOUGLAS AVE             MILLARD, TAMMY   \n",
       "4           1.0             8.0  2304 FILLMORE AVE             SEBBAG, LIONEL   \n",
       "\n",
       "          MA_Ownr2   Latitude  Longitude  \n",
       "0              NaN  42.018564 -93.651619  \n",
       "1              NaN  42.024855 -93.663671  \n",
       "2    CARNEY, SARAH  42.021548 -93.614068  \n",
       "3              NaN  42.037391 -93.612207  \n",
       "4  LEVIN, ALISON P  42.044554 -93.631818  \n",
       "\n",
       "[5 rows x 90 columns]"
      ]
     },
     "execution_count": 3,
     "metadata": {},
     "output_type": "execute_result"
    }
   ],
   "source": [
    "housedf_raw.head()"
   ]
  },
  {
   "cell_type": "code",
   "execution_count": 4,
   "id": "e713ff6f",
   "metadata": {},
   "outputs": [
    {
     "data": {
      "text/plain": [
       "(2579, 90)"
      ]
     },
     "execution_count": 4,
     "metadata": {},
     "output_type": "execute_result"
    }
   ],
   "source": [
    "housedf_raw.shape"
   ]
  },
  {
   "cell_type": "code",
   "execution_count": 5,
   "id": "97aaf15a",
   "metadata": {},
   "outputs": [
    {
     "data": {
      "text/plain": [
       "True"
      ]
     },
     "execution_count": 5,
     "metadata": {},
     "output_type": "execute_result"
    }
   ],
   "source": [
    "housedf_raw.isnull().values.any()"
   ]
  },
  {
   "cell_type": "markdown",
   "id": "23a813f2",
   "metadata": {},
   "source": [
    "**1.1.d.** Make a copy of the dataframe for additional pre-processing for modeling purposes."
   ]
  },
  {
   "cell_type": "code",
   "execution_count": 6,
   "id": "9f822fe6",
   "metadata": {},
   "outputs": [],
   "source": [
    "housedf = housedf_raw.copy()"
   ]
  },
  {
   "cell_type": "code",
   "execution_count": 7,
   "id": "1aed8d6c",
   "metadata": {},
   "outputs": [
    {
     "data": {
      "text/plain": [
       "(2579, 90)"
      ]
     },
     "execution_count": 7,
     "metadata": {},
     "output_type": "execute_result"
    }
   ],
   "source": [
    "housedf.shape"
   ]
  },
  {
   "cell_type": "markdown",
   "id": "52bf7553",
   "metadata": {},
   "source": [
    "#### Label Encoding"
   ]
  },
  {
   "cell_type": "markdown",
   "id": "9a6f49d7",
   "metadata": {},
   "source": [
    "**1.1.e.** Drop `PID`, `MA_Ownr1`, `MA_Ownr2`, `Prop_Addr` columns from dataframe:\n",
    "\n",
    "- `PID` is an identification number that was used to join with `Real Estate Data` in the data preprocessing notebook. Since it adds no value in the modeling step, we need to drop.\n",
    "- `MA_Ownr1` and `MA_Ownr2` are not expected to add value to the modeling step, we need to drop. \n",
    "- `Prop_Addr` has multiple missing values, and we can capture the same information with `Latitude`, `Longitude` and `Neighborhood` features, we need to drop."
   ]
  },
  {
   "cell_type": "code",
   "execution_count": 8,
   "id": "bbc18848",
   "metadata": {},
   "outputs": [],
   "source": [
    "housedf = housedf.drop(labels = [\"PID\", \"MA_Ownr1\", \"MA_Ownr2\", 'Prop_Addr', \"Latitude\", \"Longitude\"], axis = 1)"
   ]
  },
  {
   "cell_type": "markdown",
   "id": "ec39bbe0",
   "metadata": {},
   "source": [
    "**1.1.f.** `Latitude` and `Longitude` have several missing values. Impute with the most frequent values in these feature columns."
   ]
  },
  {
   "cell_type": "markdown",
   "id": "cbdfa63f",
   "metadata": {},
   "source": [
    "**Note: Discussed dropping before feature exploration due to reasoning of buying a house based on Lat/Long. May consider adding back in. Eventually is dropped in `VarianceThreshold()` method of feature selection.**"
   ]
  },
  {
   "cell_type": "code",
   "execution_count": 9,
   "id": "1d3597b4",
   "metadata": {},
   "outputs": [],
   "source": [
    "#housedf[\"Latitude\"] = housedf[\"Latitude\"].fillna(housedf[\"Latitude\"].mode()[0])\n",
    "#housedf[\"Longitude\"] = housedf[\"Longitude\"].fillna(housedf[\"Longitude\"].mode()[0])"
   ]
  },
  {
   "cell_type": "markdown",
   "id": "66fcb1d1",
   "metadata": {},
   "source": [
    "**1.1.g.** Check to see if all null values have been removed prior to modeling."
   ]
  },
  {
   "cell_type": "code",
   "execution_count": 10,
   "id": "822963ea",
   "metadata": {
    "scrolled": true
   },
   "outputs": [
    {
     "data": {
      "text/plain": [
       "False"
      ]
     },
     "execution_count": 10,
     "metadata": {},
     "output_type": "execute_result"
    }
   ],
   "source": [
    "housedf.isnull().values.any()"
   ]
  },
  {
   "cell_type": "markdown",
   "id": "88b8f08c",
   "metadata": {},
   "source": [
    "### 1.2. Label Encoding, Define Variables, & Split Data"
   ]
  },
  {
   "cell_type": "markdown",
   "id": "8f2dfcf8",
   "metadata": {},
   "source": [
    "**1.2.a.** Find the `Object` dtype features to label encode."
   ]
  },
  {
   "cell_type": "code",
   "execution_count": 11,
   "id": "22d62e90",
   "metadata": {
    "scrolled": true
   },
   "outputs": [
    {
     "name": "stdout",
     "output_type": "stream",
     "text": [
      "{dtype('int64'): Index(['GrLivArea', 'SalePrice', 'MSSubClass', 'LotArea', 'OverallQual',\n",
      "       'OverallCond', 'YearBuilt', 'YearRemodAdd', '1stFlrSF', '2ndFlrSF',\n",
      "       'LowQualFinSF', 'FullBath', 'HalfBath', 'BedroomAbvGr', 'KitchenAbvGr',\n",
      "       'TotRmsAbvGrd', 'Fireplaces', 'WoodDeckSF', 'OpenPorchSF',\n",
      "       'EnclosedPorch', '3SsnPorch', 'ScreenPorch', 'PoolArea', 'MiscVal',\n",
      "       'MoSold', 'YrSold', 'ExteriorSF', 'AgeAtSale'],\n",
      "      dtype='object'),\n",
      " dtype('float64'): Index(['LotFrontage', 'MasVnrArea', 'BsmtFinSF1', 'BsmtFinSF2', 'BsmtUnfSF',\n",
      "       'TotalBsmtSF', 'BsmtFullBath', 'BsmtHalfBath', 'GarageCars',\n",
      "       'GarageArea', 'TotalFullBath', 'TotalHalfBath', 'GarageAgeAtSale'],\n",
      "      dtype='object'),\n",
      " dtype('O'): Index(['MSZoning', 'Street', 'Alley', 'LotShape', 'LandContour', 'Utilities',\n",
      "       'LotConfig', 'LandSlope', 'Neighborhood', 'Condition1', 'Condition2',\n",
      "       'BldgType', 'HouseStyle', 'RoofStyle', 'RoofMatl', 'Exterior1st',\n",
      "       'Exterior2nd', 'MasVnrType', 'ExterQual', 'ExterCond', 'Foundation',\n",
      "       'BsmtQual', 'BsmtCond', 'BsmtExposure', 'BsmtFinType1', 'BsmtFinType2',\n",
      "       'Heating', 'HeatingQC', 'CentralAir', 'Electrical', 'KitchenQual',\n",
      "       'Functional', 'FireplaceQu', 'GarageType', 'GarageFinish', 'GarageQual',\n",
      "       'GarageCond', 'PavedDrive', 'PoolQC', 'Fence', 'MiscFeature',\n",
      "       'SaleType', 'SaleCondition'],\n",
      "      dtype='object')}\n"
     ]
    }
   ],
   "source": [
    "import pprint\n",
    "\n",
    "dtypecols = housedf.columns.to_series().groupby(housedf.dtypes).groups\n",
    "\n",
    "pprint.pprint(dtypecols)"
   ]
  },
  {
   "cell_type": "markdown",
   "id": "6b18f118",
   "metadata": {},
   "source": [
    "**1.2.b.** Use `LabelEncoder` from Sci-Kit Learn to label encode dtype `Object` features."
   ]
  },
  {
   "cell_type": "code",
   "execution_count": 12,
   "id": "0557b32c",
   "metadata": {},
   "outputs": [],
   "source": [
    "from sklearn.preprocessing import LabelEncoder\n",
    "\n",
    "housedf[['MSZoning', 'Street', 'Alley', 'LotShape', 'LandContour', 'Utilities', \n",
    "            'LotConfig', 'LandSlope', 'Neighborhood', 'Condition1', 'Condition2', 'BldgType', \n",
    "            'HouseStyle', 'RoofStyle', 'RoofMatl', 'Exterior1st', 'Exterior2nd', 'MasVnrType', \n",
    "            'ExterQual', 'ExterCond', 'Foundation', 'BsmtQual', 'BsmtCond', 'BsmtExposure', \n",
    "            'BsmtFinType1', 'BsmtFinType2', 'Heating', 'HeatingQC', 'CentralAir', 'Electrical', 'KitchenQual', \n",
    "            'Functional', 'FireplaceQu', 'GarageType', 'GarageFinish', 'GarageQual', 'GarageCond', \n",
    "            'PavedDrive', 'PoolQC', 'Fence', 'MiscFeature', 'SaleType', \n",
    "             'SaleCondition']] = housedf[['MSZoning', 'Street', 'Alley', 'LotShape', 'LandContour', \n",
    "                                              'Utilities', 'LotConfig', 'LandSlope', 'Neighborhood', \n",
    "                                              'Condition1', 'Condition2', 'BldgType', 'HouseStyle', 'RoofStyle', \n",
    "                                              'RoofMatl', 'Exterior1st', 'Exterior2nd', 'MasVnrType', 'ExterQual', \n",
    "                                              'ExterCond', 'Foundation', 'BsmtQual', 'BsmtCond', 'BsmtExposure', \n",
    "                                              'BsmtFinType1', 'BsmtFinType2', 'Heating', 'HeatingQC', 'CentralAir', \n",
    "                                              'Electrical', 'KitchenQual', 'Functional', 'FireplaceQu', 'GarageType', \n",
    "                                              'GarageFinish', 'GarageQual', 'GarageCond', 'PavedDrive', 'PoolQC', \n",
    "                                              'Fence', 'MiscFeature', 'SaleType', \n",
    "                                              'SaleCondition']].apply(LabelEncoder().fit_transform)"
   ]
  },
  {
   "cell_type": "markdown",
   "id": "dda703ba",
   "metadata": {},
   "source": [
    "**1.2.c.** Check to see if `Object` features have been label encoded."
   ]
  },
  {
   "cell_type": "code",
   "execution_count": 13,
   "id": "82b43ac7",
   "metadata": {},
   "outputs": [
    {
     "data": {
      "text/html": [
       "<div>\n",
       "<style scoped>\n",
       "    .dataframe tbody tr th:only-of-type {\n",
       "        vertical-align: middle;\n",
       "    }\n",
       "\n",
       "    .dataframe tbody tr th {\n",
       "        vertical-align: top;\n",
       "    }\n",
       "\n",
       "    .dataframe thead th {\n",
       "        text-align: right;\n",
       "    }\n",
       "</style>\n",
       "<table border=\"1\" class=\"dataframe\">\n",
       "  <thead>\n",
       "    <tr style=\"text-align: right;\">\n",
       "      <th></th>\n",
       "      <th>MSZoning</th>\n",
       "      <th>Street</th>\n",
       "      <th>Alley</th>\n",
       "      <th>LotShape</th>\n",
       "      <th>LandContour</th>\n",
       "      <th>Utilities</th>\n",
       "      <th>LotConfig</th>\n",
       "      <th>LandSlope</th>\n",
       "      <th>Neighborhood</th>\n",
       "      <th>Condition1</th>\n",
       "      <th>...</th>\n",
       "      <th>GarageType</th>\n",
       "      <th>GarageFinish</th>\n",
       "      <th>GarageQual</th>\n",
       "      <th>GarageCond</th>\n",
       "      <th>PavedDrive</th>\n",
       "      <th>PoolQC</th>\n",
       "      <th>Fence</th>\n",
       "      <th>MiscFeature</th>\n",
       "      <th>SaleType</th>\n",
       "      <th>SaleCondition</th>\n",
       "    </tr>\n",
       "  </thead>\n",
       "  <tbody>\n",
       "    <tr>\n",
       "      <th>0</th>\n",
       "      <td>5</td>\n",
       "      <td>1</td>\n",
       "      <td>1</td>\n",
       "      <td>3</td>\n",
       "      <td>3</td>\n",
       "      <td>0</td>\n",
       "      <td>0</td>\n",
       "      <td>0</td>\n",
       "      <td>21</td>\n",
       "      <td>2</td>\n",
       "      <td>...</td>\n",
       "      <td>5</td>\n",
       "      <td>2</td>\n",
       "      <td>5</td>\n",
       "      <td>5</td>\n",
       "      <td>2</td>\n",
       "      <td>3</td>\n",
       "      <td>4</td>\n",
       "      <td>1</td>\n",
       "      <td>9</td>\n",
       "      <td>4</td>\n",
       "    </tr>\n",
       "    <tr>\n",
       "      <th>1</th>\n",
       "      <td>5</td>\n",
       "      <td>1</td>\n",
       "      <td>1</td>\n",
       "      <td>3</td>\n",
       "      <td>3</td>\n",
       "      <td>0</td>\n",
       "      <td>4</td>\n",
       "      <td>0</td>\n",
       "      <td>7</td>\n",
       "      <td>2</td>\n",
       "      <td>...</td>\n",
       "      <td>1</td>\n",
       "      <td>0</td>\n",
       "      <td>5</td>\n",
       "      <td>5</td>\n",
       "      <td>2</td>\n",
       "      <td>3</td>\n",
       "      <td>4</td>\n",
       "      <td>1</td>\n",
       "      <td>9</td>\n",
       "      <td>4</td>\n",
       "    </tr>\n",
       "    <tr>\n",
       "      <th>2</th>\n",
       "      <td>1</td>\n",
       "      <td>1</td>\n",
       "      <td>1</td>\n",
       "      <td>3</td>\n",
       "      <td>3</td>\n",
       "      <td>0</td>\n",
       "      <td>4</td>\n",
       "      <td>0</td>\n",
       "      <td>11</td>\n",
       "      <td>2</td>\n",
       "      <td>...</td>\n",
       "      <td>5</td>\n",
       "      <td>2</td>\n",
       "      <td>5</td>\n",
       "      <td>4</td>\n",
       "      <td>0</td>\n",
       "      <td>3</td>\n",
       "      <td>4</td>\n",
       "      <td>1</td>\n",
       "      <td>9</td>\n",
       "      <td>4</td>\n",
       "    </tr>\n",
       "    <tr>\n",
       "      <th>3</th>\n",
       "      <td>5</td>\n",
       "      <td>1</td>\n",
       "      <td>1</td>\n",
       "      <td>3</td>\n",
       "      <td>3</td>\n",
       "      <td>0</td>\n",
       "      <td>0</td>\n",
       "      <td>0</td>\n",
       "      <td>20</td>\n",
       "      <td>2</td>\n",
       "      <td>...</td>\n",
       "      <td>5</td>\n",
       "      <td>2</td>\n",
       "      <td>5</td>\n",
       "      <td>5</td>\n",
       "      <td>0</td>\n",
       "      <td>3</td>\n",
       "      <td>4</td>\n",
       "      <td>1</td>\n",
       "      <td>9</td>\n",
       "      <td>4</td>\n",
       "    </tr>\n",
       "    <tr>\n",
       "      <th>4</th>\n",
       "      <td>5</td>\n",
       "      <td>1</td>\n",
       "      <td>1</td>\n",
       "      <td>3</td>\n",
       "      <td>3</td>\n",
       "      <td>0</td>\n",
       "      <td>4</td>\n",
       "      <td>0</td>\n",
       "      <td>17</td>\n",
       "      <td>2</td>\n",
       "      <td>...</td>\n",
       "      <td>1</td>\n",
       "      <td>0</td>\n",
       "      <td>5</td>\n",
       "      <td>5</td>\n",
       "      <td>2</td>\n",
       "      <td>3</td>\n",
       "      <td>4</td>\n",
       "      <td>1</td>\n",
       "      <td>9</td>\n",
       "      <td>4</td>\n",
       "    </tr>\n",
       "  </tbody>\n",
       "</table>\n",
       "<p>5 rows × 43 columns</p>\n",
       "</div>"
      ],
      "text/plain": [
       "   MSZoning  Street  Alley  LotShape  LandContour  Utilities  LotConfig  \\\n",
       "0         5       1      1         3            3          0          0   \n",
       "1         5       1      1         3            3          0          4   \n",
       "2         1       1      1         3            3          0          4   \n",
       "3         5       1      1         3            3          0          0   \n",
       "4         5       1      1         3            3          0          4   \n",
       "\n",
       "   LandSlope  Neighborhood  Condition1  ...  GarageType  GarageFinish  \\\n",
       "0          0            21           2  ...           5             2   \n",
       "1          0             7           2  ...           1             0   \n",
       "2          0            11           2  ...           5             2   \n",
       "3          0            20           2  ...           5             2   \n",
       "4          0            17           2  ...           1             0   \n",
       "\n",
       "   GarageQual  GarageCond  PavedDrive  PoolQC  Fence  MiscFeature  SaleType  \\\n",
       "0           5           5           2       3      4            1         9   \n",
       "1           5           5           2       3      4            1         9   \n",
       "2           5           4           0       3      4            1         9   \n",
       "3           5           5           0       3      4            1         9   \n",
       "4           5           5           2       3      4            1         9   \n",
       "\n",
       "   SaleCondition  \n",
       "0              4  \n",
       "1              4  \n",
       "2              4  \n",
       "3              4  \n",
       "4              4  \n",
       "\n",
       "[5 rows x 43 columns]"
      ]
     },
     "execution_count": 13,
     "metadata": {},
     "output_type": "execute_result"
    }
   ],
   "source": [
    "housedf[['MSZoning', 'Street', 'Alley', 'LotShape', 'LandContour', 'Utilities', \n",
    "            'LotConfig', 'LandSlope', 'Neighborhood', 'Condition1', 'Condition2', 'BldgType', \n",
    "            'HouseStyle', 'RoofStyle', 'RoofMatl', 'Exterior1st', 'Exterior2nd', 'MasVnrType', \n",
    "            'ExterQual', 'ExterCond', 'Foundation', 'BsmtQual', 'BsmtCond', 'BsmtExposure', \n",
    "            'BsmtFinType1', 'BsmtFinType2', 'Heating', 'HeatingQC', 'CentralAir', 'Electrical', 'KitchenQual', \n",
    "            'Functional', 'FireplaceQu', 'GarageType', 'GarageFinish', 'GarageQual', 'GarageCond', \n",
    "            'PavedDrive', 'PoolQC', 'Fence', 'MiscFeature', 'SaleType', \n",
    "             'SaleCondition']].head()"
   ]
  },
  {
   "cell_type": "code",
   "execution_count": 14,
   "id": "7912f926",
   "metadata": {},
   "outputs": [
    {
     "data": {
      "text/plain": [
       "3    2570\n",
       "4       3\n",
       "0       2\n",
       "2       2\n",
       "1       2\n",
       "Name: PoolQC, dtype: int64"
      ]
     },
     "execution_count": 14,
     "metadata": {},
     "output_type": "execute_result"
    }
   ],
   "source": [
    "housedf['PoolQC'].value_counts()"
   ]
  },
  {
   "cell_type": "code",
   "execution_count": 15,
   "id": "e87c2a25",
   "metadata": {},
   "outputs": [
    {
     "data": {
      "text/plain": [
       "No pool    2570\n",
       "TA            3\n",
       "Ex            2\n",
       "Gd            2\n",
       "Fa            2\n",
       "Name: PoolQC, dtype: int64"
      ]
     },
     "execution_count": 15,
     "metadata": {},
     "output_type": "execute_result"
    }
   ],
   "source": [
    "housedf_raw['PoolQC'].value_counts()"
   ]
  },
  {
   "cell_type": "markdown",
   "id": "f9c24f79",
   "metadata": {},
   "source": [
    "**1.2.c.** Define `y` and `X` for feature exploration and modeling.\n",
    "\n",
    "- `SalesPrice` is defined as our dependent variable `y`.\n",
    "- All other variables are the indepedent variables `X`. "
   ]
  },
  {
   "cell_type": "code",
   "execution_count": 16,
   "id": "effd5eef",
   "metadata": {},
   "outputs": [],
   "source": [
    "y = housedf[\"SalePrice\"]\n",
    "X = housedf.drop(\"SalePrice\", axis = 1)"
   ]
  },
  {
   "cell_type": "code",
   "execution_count": 17,
   "id": "7109182c",
   "metadata": {},
   "outputs": [
    {
     "data": {
      "text/plain": [
       "(2579,)"
      ]
     },
     "execution_count": 17,
     "metadata": {},
     "output_type": "execute_result"
    }
   ],
   "source": [
    "y.shape"
   ]
  },
  {
   "cell_type": "code",
   "execution_count": 18,
   "id": "13b45ed3",
   "metadata": {},
   "outputs": [
    {
     "data": {
      "text/plain": [
       "(2579, 83)"
      ]
     },
     "execution_count": 18,
     "metadata": {},
     "output_type": "execute_result"
    }
   ],
   "source": [
    "X.shape"
   ]
  },
  {
   "cell_type": "code",
   "execution_count": 19,
   "id": "f46561b2",
   "metadata": {},
   "outputs": [
    {
     "data": {
      "text/html": [
       "<div>\n",
       "<style scoped>\n",
       "    .dataframe tbody tr th:only-of-type {\n",
       "        vertical-align: middle;\n",
       "    }\n",
       "\n",
       "    .dataframe tbody tr th {\n",
       "        vertical-align: top;\n",
       "    }\n",
       "\n",
       "    .dataframe thead th {\n",
       "        text-align: right;\n",
       "    }\n",
       "</style>\n",
       "<table border=\"1\" class=\"dataframe\">\n",
       "  <thead>\n",
       "    <tr style=\"text-align: right;\">\n",
       "      <th></th>\n",
       "      <th>GrLivArea</th>\n",
       "      <th>MSSubClass</th>\n",
       "      <th>MSZoning</th>\n",
       "      <th>LotFrontage</th>\n",
       "      <th>LotArea</th>\n",
       "      <th>Street</th>\n",
       "      <th>Alley</th>\n",
       "      <th>LotShape</th>\n",
       "      <th>LandContour</th>\n",
       "      <th>Utilities</th>\n",
       "      <th>...</th>\n",
       "      <th>MiscVal</th>\n",
       "      <th>MoSold</th>\n",
       "      <th>YrSold</th>\n",
       "      <th>SaleType</th>\n",
       "      <th>SaleCondition</th>\n",
       "      <th>ExteriorSF</th>\n",
       "      <th>AgeAtSale</th>\n",
       "      <th>TotalFullBath</th>\n",
       "      <th>TotalHalfBath</th>\n",
       "      <th>GarageAgeAtSale</th>\n",
       "    </tr>\n",
       "  </thead>\n",
       "  <tbody>\n",
       "    <tr>\n",
       "      <th>0</th>\n",
       "      <td>856</td>\n",
       "      <td>30</td>\n",
       "      <td>5</td>\n",
       "      <td>0.0</td>\n",
       "      <td>7890</td>\n",
       "      <td>1</td>\n",
       "      <td>1</td>\n",
       "      <td>3</td>\n",
       "      <td>3</td>\n",
       "      <td>0</td>\n",
       "      <td>...</td>\n",
       "      <td>0</td>\n",
       "      <td>3</td>\n",
       "      <td>2010</td>\n",
       "      <td>9</td>\n",
       "      <td>4</td>\n",
       "      <td>7034</td>\n",
       "      <td>71</td>\n",
       "      <td>2.0</td>\n",
       "      <td>0.0</td>\n",
       "      <td>71.0</td>\n",
       "    </tr>\n",
       "    <tr>\n",
       "      <th>1</th>\n",
       "      <td>1049</td>\n",
       "      <td>120</td>\n",
       "      <td>5</td>\n",
       "      <td>42.0</td>\n",
       "      <td>4235</td>\n",
       "      <td>1</td>\n",
       "      <td>1</td>\n",
       "      <td>3</td>\n",
       "      <td>3</td>\n",
       "      <td>0</td>\n",
       "      <td>...</td>\n",
       "      <td>0</td>\n",
       "      <td>2</td>\n",
       "      <td>2009</td>\n",
       "      <td>9</td>\n",
       "      <td>4</td>\n",
       "      <td>3186</td>\n",
       "      <td>25</td>\n",
       "      <td>3.0</td>\n",
       "      <td>0.0</td>\n",
       "      <td>25.0</td>\n",
       "    </tr>\n",
       "    <tr>\n",
       "      <th>2</th>\n",
       "      <td>1001</td>\n",
       "      <td>30</td>\n",
       "      <td>1</td>\n",
       "      <td>60.0</td>\n",
       "      <td>6060</td>\n",
       "      <td>1</td>\n",
       "      <td>1</td>\n",
       "      <td>3</td>\n",
       "      <td>3</td>\n",
       "      <td>0</td>\n",
       "      <td>...</td>\n",
       "      <td>0</td>\n",
       "      <td>11</td>\n",
       "      <td>2007</td>\n",
       "      <td>9</td>\n",
       "      <td>4</td>\n",
       "      <td>5059</td>\n",
       "      <td>77</td>\n",
       "      <td>1.0</td>\n",
       "      <td>0.0</td>\n",
       "      <td>77.0</td>\n",
       "    </tr>\n",
       "    <tr>\n",
       "      <th>3</th>\n",
       "      <td>1039</td>\n",
       "      <td>70</td>\n",
       "      <td>5</td>\n",
       "      <td>80.0</td>\n",
       "      <td>8146</td>\n",
       "      <td>1</td>\n",
       "      <td>1</td>\n",
       "      <td>3</td>\n",
       "      <td>3</td>\n",
       "      <td>0</td>\n",
       "      <td>...</td>\n",
       "      <td>0</td>\n",
       "      <td>5</td>\n",
       "      <td>2009</td>\n",
       "      <td>9</td>\n",
       "      <td>4</td>\n",
       "      <td>7429</td>\n",
       "      <td>109</td>\n",
       "      <td>1.0</td>\n",
       "      <td>0.0</td>\n",
       "      <td>69.0</td>\n",
       "    </tr>\n",
       "    <tr>\n",
       "      <th>4</th>\n",
       "      <td>1665</td>\n",
       "      <td>60</td>\n",
       "      <td>5</td>\n",
       "      <td>70.0</td>\n",
       "      <td>8400</td>\n",
       "      <td>1</td>\n",
       "      <td>1</td>\n",
       "      <td>3</td>\n",
       "      <td>3</td>\n",
       "      <td>0</td>\n",
       "      <td>...</td>\n",
       "      <td>0</td>\n",
       "      <td>11</td>\n",
       "      <td>2009</td>\n",
       "      <td>9</td>\n",
       "      <td>4</td>\n",
       "      <td>7590</td>\n",
       "      <td>8</td>\n",
       "      <td>3.0</td>\n",
       "      <td>1.0</td>\n",
       "      <td>8.0</td>\n",
       "    </tr>\n",
       "  </tbody>\n",
       "</table>\n",
       "<p>5 rows × 83 columns</p>\n",
       "</div>"
      ],
      "text/plain": [
       "   GrLivArea  MSSubClass  MSZoning  LotFrontage  LotArea  Street  Alley  \\\n",
       "0        856          30         5          0.0     7890       1      1   \n",
       "1       1049         120         5         42.0     4235       1      1   \n",
       "2       1001          30         1         60.0     6060       1      1   \n",
       "3       1039          70         5         80.0     8146       1      1   \n",
       "4       1665          60         5         70.0     8400       1      1   \n",
       "\n",
       "   LotShape  LandContour  Utilities  ...  MiscVal  MoSold  YrSold  SaleType  \\\n",
       "0         3            3          0  ...        0       3    2010         9   \n",
       "1         3            3          0  ...        0       2    2009         9   \n",
       "2         3            3          0  ...        0      11    2007         9   \n",
       "3         3            3          0  ...        0       5    2009         9   \n",
       "4         3            3          0  ...        0      11    2009         9   \n",
       "\n",
       "   SaleCondition  ExteriorSF  AgeAtSale  TotalFullBath  TotalHalfBath  \\\n",
       "0              4        7034         71            2.0            0.0   \n",
       "1              4        3186         25            3.0            0.0   \n",
       "2              4        5059         77            1.0            0.0   \n",
       "3              4        7429        109            1.0            0.0   \n",
       "4              4        7590          8            3.0            1.0   \n",
       "\n",
       "   GarageAgeAtSale  \n",
       "0             71.0  \n",
       "1             25.0  \n",
       "2             77.0  \n",
       "3             69.0  \n",
       "4              8.0  \n",
       "\n",
       "[5 rows x 83 columns]"
      ]
     },
     "execution_count": 19,
     "metadata": {},
     "output_type": "execute_result"
    }
   ],
   "source": [
    "X.head()"
   ]
  },
  {
   "cell_type": "markdown",
   "id": "9ab62c6b",
   "metadata": {},
   "source": [
    "**1.2.d.** Split data using train-test-split to prevent an unbiased estimate of the true performance of our model and data leakage. References:\n",
    "\n",
    "- https://scikit-learn.org/stable/common_pitfalls.html#data-leakage\n",
    "- https://betatim.github.io/posts/cross-validation-gone-wrong/\n",
    "- https://stackoverflow.com/questions/56308116/should-feature-selection-be-done-before-train-test-split-or-after\n",
    "- https://twitter.com/jmschreiber91/status/1137464236156702720\n",
    "- https://gijopeter.medium.com/cross-validation-for-ml-feature-selection"
   ]
  },
  {
   "cell_type": "code",
   "execution_count": 20,
   "id": "c32ea239",
   "metadata": {},
   "outputs": [],
   "source": [
    "from sklearn.model_selection import train_test_split\n",
    "X_trainvalidate, X_test, y_trainvalidate, y_test = train_test_split(X, y, test_size=0.2)\n",
    "X_train, X_validate, y_train, y_validate = train_test_split(X_trainvalidate, y_trainvalidate, test_size=0.875) # yields 70%/10%/20% split"
   ]
  },
  {
   "cell_type": "code",
   "execution_count": 21,
   "id": "0eaa79dc",
   "metadata": {
    "scrolled": true
   },
   "outputs": [
    {
     "name": "stdout",
     "output_type": "stream",
     "text": [
      "(257, 83)\n",
      "(1806, 83)\n",
      "(516, 83)\n",
      "(257,)\n",
      "(1806,)\n",
      "(516,)\n"
     ]
    }
   ],
   "source": [
    "print(X_train.shape)\n",
    "print(X_validate.shape)\n",
    "print(X_test.shape)\n",
    "print(y_train.shape)\n",
    "print(y_validate.shape)\n",
    "print(y_test.shape)"
   ]
  },
  {
   "cell_type": "markdown",
   "id": "bd9b12f2",
   "metadata": {},
   "source": [
    "## Saturated Model Testing"
   ]
  },
  {
   "cell_type": "markdown",
   "id": "97744e23",
   "metadata": {},
   "source": [
    "We will first see how a random forest regressor performs on the dataset with  just the minimal feature engineering obtained from preprocessing."
   ]
  },
  {
   "cell_type": "code",
   "execution_count": 22,
   "id": "4fff758f",
   "metadata": {},
   "outputs": [
    {
     "data": {
      "text/plain": [
       "0.8217918739230311"
      ]
     },
     "execution_count": 22,
     "metadata": {},
     "output_type": "execute_result"
    }
   ],
   "source": [
    "rf = RandomForestRegressor()\n",
    "\n",
    "defaultparams = {\n",
    "    'n_estimators': [100],\n",
    "}\n",
    "\n",
    "rf_cv = GridSearchCV(rf, defaultparams)\n",
    "rf_cv.fit(X_train, y_train)\n",
    "rf_cv.score(X_validate, y_validate)"
   ]
  },
  {
   "cell_type": "code",
   "execution_count": 23,
   "id": "9e0da55e",
   "metadata": {
    "scrolled": false
   },
   "outputs": [
    {
     "data": {
      "text/plain": [
       "<AxesSubplot:>"
      ]
     },
     "execution_count": 23,
     "metadata": {},
     "output_type": "execute_result"
    },
    {
     "data": {
      "image/png": "[encoded data removed]",
      "text/plain": [
       "<Figure size 640x480 with 1 Axes>"
      ]
     },
     "metadata": {},
     "output_type": "display_data"
    }
   ],
   "source": [
    "default_rf = rf_cv.best_estimator_\n",
    "featureimportances = pd.Series(default_rf.feature_importances_, index = X_train.columns)\n",
    "featureimportances.nlargest(30).plot(kind = 'barh')"
   ]
  },
  {
   "cell_type": "code",
   "execution_count": 24,
   "id": "b0dde45f",
   "metadata": {},
   "outputs": [
    {
     "data": {
      "text/plain": [
       "<AxesSubplot:ylabel='Frequency'>"
      ]
     },
     "execution_count": 24,
     "metadata": {},
     "output_type": "execute_result"
    },
    {
     "data": {
      "image/png": "[encoded data removed]",
      "text/plain": [
       "<Figure size 640x480 with 1 Axes>"
      ]
     },
     "metadata": {},
     "output_type": "display_data"
    }
   ],
   "source": [
    "residuals = y_validate - default_rf.predict(X_validate)\n",
    "residuals.plot.hist(bins=100)\n",
    "#log axis\n",
    "#skewness"
   ]
  },
  {
   "cell_type": "code",
   "execution_count": 25,
   "id": "b51c9ead",
   "metadata": {},
   "outputs": [
    {
     "data": {
      "text/plain": [
       "1009100846.0471461"
      ]
     },
     "execution_count": 25,
     "metadata": {},
     "output_type": "execute_result"
    }
   ],
   "source": [
    "np.mean(residuals**2)"
   ]
  },
  {
   "cell_type": "code",
   "execution_count": 26,
   "id": "e4393c86",
   "metadata": {
    "scrolled": true
   },
   "outputs": [
    {
     "data": {
      "text/plain": [
       "31766.347697636662"
      ]
     },
     "execution_count": 26,
     "metadata": {},
     "output_type": "execute_result"
    }
   ],
   "source": [
    "np.sqrt(np.mean(residuals**2))"
   ]
  },
  {
   "cell_type": "markdown",
   "id": "49a3315a",
   "metadata": {},
   "source": [
    "We already have good R^2, but the feature importances suggest that this is primarily being driven by an indicator of overall quality of the house's material and finish and features tracking square footage. We will try to engineer the features to yield a model that has more insight into how fungible features impact sale price. Our overall approach will be to keep track of the features that we cannot change, but try to discretize them so that the model cannot simply encode the solution into (combinations of) continuous variables."
   ]
  },
  {
   "cell_type": "code",
   "execution_count": 27,
   "id": "bbd916f0",
   "metadata": {},
   "outputs": [
    {
     "data": {
      "text/plain": [
       "Index(['GrLivArea', 'MSSubClass', 'MSZoning', 'LotFrontage', 'LotArea',\n",
       "       'Street', 'Alley', 'LotShape', 'LandContour', 'Utilities', 'LotConfig',\n",
       "       'LandSlope', 'Neighborhood', 'Condition1', 'Condition2', 'BldgType',\n",
       "       'HouseStyle', 'OverallQual', 'OverallCond', 'YearBuilt', 'YearRemodAdd',\n",
       "       'RoofStyle', 'RoofMatl', 'Exterior1st', 'Exterior2nd', 'MasVnrType',\n",
       "       'MasVnrArea', 'ExterQual', 'ExterCond', 'Foundation', 'BsmtQual',\n",
       "       'BsmtCond', 'BsmtExposure', 'BsmtFinType1', 'BsmtFinSF1',\n",
       "       'BsmtFinType2', 'BsmtFinSF2', 'BsmtUnfSF', 'TotalBsmtSF', 'Heating',\n",
       "       'HeatingQC', 'CentralAir', 'Electrical', '1stFlrSF', '2ndFlrSF',\n",
       "       'LowQualFinSF', 'BsmtFullBath', 'BsmtHalfBath', 'FullBath', 'HalfBath',\n",
       "       'BedroomAbvGr', 'KitchenAbvGr', 'KitchenQual', 'TotRmsAbvGrd',\n",
       "       'Functional', 'Fireplaces', 'FireplaceQu', 'GarageType', 'GarageFinish',\n",
       "       'GarageCars', 'GarageArea', 'GarageQual', 'GarageCond', 'PavedDrive',\n",
       "       'WoodDeckSF', 'OpenPorchSF', 'EnclosedPorch', '3SsnPorch',\n",
       "       'ScreenPorch', 'PoolArea', 'PoolQC', 'Fence', 'MiscFeature', 'MiscVal',\n",
       "       'MoSold', 'YrSold', 'SaleType', 'SaleCondition', 'ExteriorSF',\n",
       "       'AgeAtSale', 'TotalFullBath', 'TotalHalfBath', 'GarageAgeAtSale'],\n",
       "      dtype='object')"
      ]
     },
     "execution_count": 27,
     "metadata": {},
     "output_type": "execute_result"
    }
   ],
   "source": [
    "X_train.columns"
   ]
  },
  {
   "cell_type": "markdown",
   "id": "2a67ab06",
   "metadata": {},
   "source": [
    "### Feature Engineering"
   ]
  },
  {
   "cell_type": "markdown",
   "id": "1e9c8c76",
   "metadata": {},
   "source": [
    "- Combine features and drop combined features to include in feature analysis."
   ]
  },
  {
   "cell_type": "markdown",
   "id": "8b306a8d",
   "metadata": {},
   "source": [
    "#### Time since last remodel. "
   ]
  },
  {
   "cell_type": "code",
   "execution_count": 28,
   "id": "14fdd1e7",
   "metadata": {},
   "outputs": [],
   "source": [
    "housedf['TimeSinceLastWork'] = housedf['YrSold'] - housedf['YearRemodAdd']"
   ]
  },
  {
   "cell_type": "markdown",
   "id": "59a8c164",
   "metadata": {},
   "source": [
    "#### Total SqFt"
   ]
  },
  {
   "cell_type": "code",
   "execution_count": 29,
   "id": "cf44bbf5",
   "metadata": {},
   "outputs": [],
   "source": [
    "housedf['TotalSF'] = housedf['GrLivArea'] + housedf['TotalBsmtSF']\n",
    "housedf['2Stories'] = housedf['2ndFlrSF'] > 0"
   ]
  },
  {
   "cell_type": "markdown",
   "id": "bba6614a",
   "metadata": {},
   "source": [
    "#### Basement\n",
    "\n",
    "- Fix me on iteration 2. Put all col names in one drop line."
   ]
  },
  {
   "cell_type": "code",
   "execution_count": 30,
   "id": "098fdd40",
   "metadata": {},
   "outputs": [],
   "source": [
    "housedf['FinBsmt'] = (housedf.TotalBsmtSF - housedf.BsmtUnfSF) > 0\n",
    "housedf['UnfBsmt'] = housedf['BsmtUnfSF'] > 0"
   ]
  },
  {
   "cell_type": "code",
   "execution_count": 31,
   "id": "beb2ef5a",
   "metadata": {},
   "outputs": [],
   "source": [
    "housedf.drop(['BsmtFinSF1', 'BsmtFinSF2', 'TotalBsmtSF', 'BsmtUnfSF'], axis = 1, inplace = True)"
   ]
  },
  {
   "cell_type": "markdown",
   "id": "885df209",
   "metadata": {},
   "source": [
    "#### Bathrooms\n",
    "\n",
    "- (`Halfbaths` / 2) + `FullBaths` = `TotalFullBath`\n",
    "     - Where `Halfbaths` = `BsmtHalfBath` + `HalfBath`"
   ]
  },
  {
   "cell_type": "code",
   "execution_count": 32,
   "id": "c9c7f3f4",
   "metadata": {},
   "outputs": [],
   "source": [
    "housedf['TotalBathrooms'] = ((housedf['BsmtHalfBath'] + housedf['HalfBath']) / 2) + housedf['BsmtFullBath'] + housedf['FullBath']\n",
    "\n",
    "housedf.drop(['BsmtHalfBath', 'HalfBath', 'BsmtFullBath', 'FullBath', 'TotalFullBath', 'TotalHalfBath'], axis = 1, inplace = True)"
   ]
  },
  {
   "cell_type": "markdown",
   "id": "052ed957",
   "metadata": {},
   "source": [
    "#### Outdoor Living\n",
    "\n",
    "- `WoodDeckSF` + `OpenPorchSF` + `EnclosedPorch` + `3SsnPorch` + `ScreenPorch` = `OutdoorLiving`\n",
    "- Convert to boolean."
   ]
  },
  {
   "cell_type": "code",
   "execution_count": 33,
   "id": "4e26d99e",
   "metadata": {},
   "outputs": [],
   "source": [
    "housedf['OutdoorLiving'] = housedf['WoodDeckSF'] + housedf['OpenPorchSF'] + housedf['EnclosedPorch'] + housedf['3SsnPorch'] + housedf['ScreenPorch']\n",
    "housedf['OutdoorLiving'] = housedf['OutdoorLiving'] > 0\n",
    "\n",
    "housedf.drop(['WoodDeckSF', 'OpenPorchSF', 'EnclosedPorch', '3SsnPorch', 'ScreenPorch'], axis = 1, inplace = True)"
   ]
  },
  {
   "cell_type": "markdown",
   "id": "2c129a10",
   "metadata": {},
   "source": [
    "#### Pool Area\n",
    "\n",
    "- `HasPool` is the boolean value of `PoolArea`."
   ]
  },
  {
   "cell_type": "code",
   "execution_count": 34,
   "id": "35089d2b",
   "metadata": {},
   "outputs": [],
   "source": [
    "housedf['HasPool'] = housedf['PoolArea'] > 0\n",
    "\n",
    "housedf.drop(['PoolArea', 'PoolQC'], axis = 1, inplace = True)"
   ]
  },
  {
   "cell_type": "markdown",
   "id": "011a127a",
   "metadata": {},
   "source": [
    "#### Fireplaces"
   ]
  },
  {
   "cell_type": "code",
   "execution_count": 35,
   "id": "77e8ee75",
   "metadata": {},
   "outputs": [],
   "source": [
    "housedf['HasFireplace'] = housedf['Fireplaces'] > 0\n",
    "\n",
    "housedf.drop(['FireplaceQu', 'Fireplaces'], axis = 1, inplace = True)"
   ]
  },
  {
   "cell_type": "code",
   "execution_count": 36,
   "id": "9d6dabe3",
   "metadata": {},
   "outputs": [
    {
     "data": {
      "text/plain": [
       "(2579, 74)"
      ]
     },
     "execution_count": 36,
     "metadata": {},
     "output_type": "execute_result"
    }
   ],
   "source": [
    "housedf.shape"
   ]
  },
  {
   "cell_type": "code",
   "execution_count": 37,
   "id": "3ddc75e8",
   "metadata": {
    "scrolled": false
   },
   "outputs": [
    {
     "data": {
      "text/plain": [
       "Index(['GrLivArea', 'SalePrice', 'MSSubClass', 'MSZoning', 'LotFrontage',\n",
       "       'LotArea', 'Street', 'Alley', 'LotShape', 'LandContour', 'Utilities',\n",
       "       'LotConfig', 'LandSlope', 'Neighborhood', 'Condition1', 'Condition2',\n",
       "       'BldgType', 'HouseStyle', 'OverallQual', 'OverallCond', 'YearBuilt',\n",
       "       'YearRemodAdd', 'RoofStyle', 'RoofMatl', 'Exterior1st', 'Exterior2nd',\n",
       "       'MasVnrType', 'MasVnrArea', 'ExterQual', 'ExterCond', 'Foundation',\n",
       "       'BsmtQual', 'BsmtCond', 'BsmtExposure', 'BsmtFinType1', 'BsmtFinType2',\n",
       "       'Heating', 'HeatingQC', 'CentralAir', 'Electrical', '1stFlrSF',\n",
       "       '2ndFlrSF', 'LowQualFinSF', 'BedroomAbvGr', 'KitchenAbvGr',\n",
       "       'KitchenQual', 'TotRmsAbvGrd', 'Functional', 'GarageType',\n",
       "       'GarageFinish', 'GarageCars', 'GarageArea', 'GarageQual', 'GarageCond',\n",
       "       'PavedDrive', 'Fence', 'MiscFeature', 'MiscVal', 'MoSold', 'YrSold',\n",
       "       'SaleType', 'SaleCondition', 'ExteriorSF', 'AgeAtSale',\n",
       "       'GarageAgeAtSale', 'TimeSinceLastWork', 'TotalSF', '2Stories',\n",
       "       'FinBsmt', 'UnfBsmt', 'TotalBathrooms', 'OutdoorLiving', 'HasPool',\n",
       "       'HasFireplace'],\n",
       "      dtype='object')"
      ]
     },
     "execution_count": 37,
     "metadata": {},
     "output_type": "execute_result"
    }
   ],
   "source": [
    "housedf.columns"
   ]
  },
  {
   "cell_type": "code",
   "execution_count": 38,
   "id": "07430061",
   "metadata": {},
   "outputs": [],
   "source": [
    "y = housedf[\"SalePrice\"]\n",
    "X = housedf.drop(\"SalePrice\", axis = 1)"
   ]
  },
  {
   "cell_type": "code",
   "execution_count": 39,
   "id": "e1a33b1a",
   "metadata": {},
   "outputs": [],
   "source": [
    "from sklearn.model_selection import train_test_split\n",
    "X_trainvalidate, X_test, y_trainvalidate, y_test = train_test_split(X, y, test_size=0.2)\n",
    "X_train, X_validate, y_train, y_validate = train_test_split(X_trainvalidate, y_trainvalidate, test_size=0.875) # yields 70%/10%/20% split"
   ]
  },
  {
   "cell_type": "code",
   "execution_count": 40,
   "id": "9a7a7c74",
   "metadata": {
    "scrolled": true
   },
   "outputs": [
    {
     "name": "stdout",
     "output_type": "stream",
     "text": [
      "(257, 73)\n",
      "(1806, 73)\n",
      "(516, 73)\n"
     ]
    }
   ],
   "source": [
    "print(X_train.shape)\n",
    "print(X_validate.shape)\n",
    "print(X_test.shape)"
   ]
  },
  {
   "cell_type": "markdown",
   "id": "e33cf13e",
   "metadata": {},
   "source": [
    "### 1.25. Random Feature Subset Analysis\n",
    "Besides the saturated un-engineered model, in order to benchmark our feature selection process we will train and score models on random subsets of the features."
   ]
  },
  {
   "cell_type": "code",
   "execution_count": 41,
   "id": "44da768f",
   "metadata": {},
   "outputs": [],
   "source": [
    "from sklearn.model_selection import train_test_split\n",
    "X_trainvalidate, X_test, y_trainvalidate, y_test = train_test_split(X, y, test_size=0.2)\n",
    "X_train, X_validate, y_train, y_validate = train_test_split(X_trainvalidate, y_trainvalidate, test_size=0.875) # yields 70%/10%/20% split"
   ]
  },
  {
   "cell_type": "code",
   "execution_count": 45,
   "id": "77c55f5b",
   "metadata": {},
   "outputs": [
    {
     "name": "stdout",
     "output_type": "stream",
     "text": [
      "[['1stFlrSF', 'ExteriorSF', 'BsmtExposure', 'BldgType', 'LotConfig', 'KitchenAbvGr', 'LowQualFinSF', 'SaleType', 'Functional', 'GarageArea'], 0.541279098747588]\n",
      "[['GarageArea', 'FinBsmt', 'Functional', 'MSSubClass', 'ExterCond', 'LotConfig', 'ExterQual', 'BsmtQual', 'ExteriorSF', 'LandContour'], 0.645980805733499]\n",
      "[['BedroomAbvGr', 'LotShape', 'Exterior2nd', 'KitchenAbvGr', 'Neighborhood', 'TimeSinceLastWork', 'AgeAtSale', 'FinBsmt', 'MSZoning', 'RoofMatl'], 0.5858561015779266]\n",
      "[['TimeSinceLastWork', 'TotalBathrooms', 'BldgType', 'UnfBsmt', 'GrLivArea', 'Exterior2nd', 'OutdoorLiving', 'Street', 'BsmtQual', 'LotShape'], 0.746159452331355]\n",
      "[['Exterior2nd', 'HouseStyle', 'LowQualFinSF', 'BsmtFinType2', 'MSSubClass', 'YrSold', 'MasVnrArea', '2Stories', 'Utilities', 'OverallCond'], 0.38848949738962746]\n",
      "[['SaleCondition', 'Electrical', 'TotalSF', 'HasPool', 'BsmtFinType1', 'TotRmsAbvGrd', 'TotalBathrooms', 'HouseStyle', 'TimeSinceLastWork', 'BsmtCond'], 0.7686327916241709]\n",
      "[['2ndFlrSF', 'TotRmsAbvGrd', 'BldgType', 'GarageArea', 'ExteriorSF', 'Heating', 'HasPool', 'LowQualFinSF', 'HasFireplace', 'BsmtFinType2'], 0.5644466968976969]\n",
      "[['HasPool', 'BsmtFinType2', 'CentralAir', 'Heating', 'OverallQual', 'Foundation', 'HeatingQC', 'GarageAgeAtSale', 'MiscVal', 'Exterior1st'], 0.5736406126138971]\n",
      "[['BsmtFinType1', 'Heating', 'MSSubClass', 'FinBsmt', 'BldgType', 'BedroomAbvGr', 'LandSlope', 'GrLivArea', 'ExterCond', '2ndFlrSF'], 0.7207231448962466]\n",
      "[['YearBuilt', 'LandSlope', 'KitchenQual', 'BldgType', 'ExterCond', 'TimeSinceLastWork', 'YrSold', '1stFlrSF', 'HouseStyle', 'YearRemodAdd'], 0.7133977532715573]\n"
     ]
    }
   ],
   "source": [
    "import random\n",
    "featurelist = X_train.columns.to_list()\n",
    "rf = RandomForestRegressor()\n",
    "subsetsize = 10\n",
    "\n",
    "X_train\n",
    "\n",
    "subsetscores = []\n",
    "\n",
    "for _ in range(10):\n",
    "    featuresubset = random.sample(featurelist, subsetsize)\n",
    "    rf.fit(X_train[featuresubset], y_train)\n",
    "    score = rf.score(X_validate[featuresubset], y_validate)\n",
    "    subsetscores.append([featuresubset, score])\n",
    "\n",
    "for featscore in subsetscores:\n",
    "    print(featscore)"
   ]
  },
  {
   "cell_type": "markdown",
   "id": "c491f0bd",
   "metadata": {},
   "source": [
    "### 1.3. Feature Analysis"
   ]
  },
  {
   "cell_type": "markdown",
   "id": "94bbef6c",
   "metadata": {},
   "source": [
    "**1.3.a.** Use the following methods for feature exploration and discovery of which are more important:\n",
    "\n",
    "- `VarianceThreshold()`: Discover features with the least amount of variance with `VarianceThreshold()`. If the feature has low variance, this feature may not help us identify an increase in `SalePrice`.\n",
    "\n",
    "- `KChooseBest`: Univariate feature selection with F test with `f_regression`. If the feature has a high F value and low p-value, that may be an indicator that feature will have a statistically significant effect on `y`.\n",
    "\n",
    "- `SequentialFeatureSelector`: Forward selection of features to form a feature subset in a greedy fashion. The random forest estimmator is used to choose the best feature to add or remove based on the cross-validation score, R-Squared."
   ]
  },
  {
   "cell_type": "markdown",
   "id": "228182a0",
   "metadata": {},
   "source": [
    "***Important*** Use `X_train` to do all analysis on feature selection."
   ]
  },
  {
   "cell_type": "markdown",
   "id": "40b14f40",
   "metadata": {},
   "source": [
    "#### **1.3.b.** `VarianceThreshold()`"
   ]
  },
  {
   "cell_type": "code",
   "execution_count": null,
   "id": "13f40449",
   "metadata": {},
   "outputs": [],
   "source": [
    "import sklearn.feature_selection as fs\n",
    "varied_features = fs.VarianceThreshold(threshold = 0.25)\n",
    "x_varied = varied_features.fit_transform(X_train)\n",
    "x_varied.shape"
   ]
  },
  {
   "cell_type": "markdown",
   "id": "793c7862",
   "metadata": {},
   "source": [
    "- `get_support` returns a boolean array.\n",
    "    - If `True`, that feature has a variance greater than 0.25 indicating high variance and would be a meaningful predictor.  \n",
    "    - If `False`, that feature has a variance less than 0.25 indicating low variance and would not be a meaningful predictor."
   ]
  },
  {
   "cell_type": "code",
   "execution_count": null,
   "id": "b6d7c81c",
   "metadata": {
    "scrolled": true
   },
   "outputs": [],
   "source": [
    "fs.VarianceThreshold.get_support(varied_features)"
   ]
  },
  {
   "cell_type": "markdown",
   "id": "ab39be39",
   "metadata": {},
   "source": [
    "- Find the features that have low variance, values that have a variance less than 0.25 and returned `False` in the above boolean array."
   ]
  },
  {
   "cell_type": "code",
   "execution_count": null,
   "id": "f3c4f4f1",
   "metadata": {},
   "outputs": [],
   "source": [
    "concol = [column for column in X_train.columns \n",
    "          if column not in X_train.columns[varied_features.get_support()]]\n",
    "\n",
    "for features in concol:\n",
    "    print(features)"
   ]
  },
  {
   "cell_type": "markdown",
   "id": "31037524",
   "metadata": {},
   "source": [
    "#### Observations from feature `VarianceThreshold` analysis:\n",
    "\n",
    "The following features have low variance and may not have a distinguishable effect on `SalePrice`:\n",
    "\n",
    "- Features Regarding Location:\n",
    "    - `Street`, `Latitude`, `Longitude`, `Condition2`\n",
    "- Features Regarding Lot:\n",
    "    - `Alley`, `LandSlope`\n",
    "- Features Regarding Utilities:\n",
    "    - `Utilities`, `Heating`, `CentralAir`\n",
    "- Features Regarding Bathrooms:\n",
    "    - `BsmtHalfBath`, `Halfbath`\n",
    "- Features Regarding Misc:\n",
    "    - `KitchAbvGr`, `MiscFeature`\n",
    "    \n",
    "This indicates we may want to drop these features or combine them with another feature. "
   ]
  },
  {
   "cell_type": "markdown",
   "id": "ca87e82f",
   "metadata": {},
   "source": [
    "#### **1.3.c.** `f_regression`"
   ]
  },
  {
   "cell_type": "markdown",
   "id": "bd0d3660",
   "metadata": {},
   "source": [
    "   - Univariate feature selection with F test with `f_regression`. If the feature has a high F value and low p-value, that may be an indicator that feature will have a statistically significant effect on `y`."
   ]
  },
  {
   "cell_type": "markdown",
   "id": "acf23b90",
   "metadata": {},
   "source": [
    "   - Use `k` equal to `all` to select all features instead of top `k` features that score best for exploratory purposes."
   ]
  },
  {
   "cell_type": "code",
   "execution_count": null,
   "id": "896ceee4",
   "metadata": {},
   "outputs": [],
   "source": [
    "skb = fs.SelectKBest(score_func = fs.f_regression, k = 'all')"
   ]
  },
  {
   "cell_type": "code",
   "execution_count": null,
   "id": "48a9ef14",
   "metadata": {},
   "outputs": [],
   "source": [
    "best_feats = skb.fit_transform(X_train, y_train)"
   ]
  },
  {
   "cell_type": "code",
   "execution_count": null,
   "id": "ef37fa6c",
   "metadata": {},
   "outputs": [],
   "source": [
    "p_vals = skb.pvalues_"
   ]
  },
  {
   "cell_type": "markdown",
   "id": "519e2b97",
   "metadata": {},
   "source": [
    "- Print all `pvalues_` to explore which features are significant (< 0.05) and which are not (> 0.05)."
   ]
  },
  {
   "cell_type": "code",
   "execution_count": null,
   "id": "e5b2ed65",
   "metadata": {},
   "outputs": [],
   "source": [
    "for i in range(len(skb.pvalues_)):\n",
    " print('%s: %f' % (X_train.columns[i], skb.pvalues_[i]))"
   ]
  },
  {
   "cell_type": "markdown",
   "id": "406194c1",
   "metadata": {},
   "source": [
    "#### Observations from `f_regression` p-values.\n",
    "\n",
    "The following features have a `p-value_` of 0.05 or higher, so these will not have a significant effect on prediciting `SalePrice`:\n",
    "\n",
    "- `LandContour`: 0.446418\n",
    "- `Utilities`: 0.088177\n",
    "- `Condition2`: 0.202088\n",
    "- `MiscVal`: 0.323951\n",
    "- `MoSold`: 0.640976\n",
    "- `YrSold`: 0.818901\n",
    "- `SaleType`: 0.792826"
   ]
  },
  {
   "cell_type": "markdown",
   "id": "0fbcdf21",
   "metadata": {},
   "source": [
    "- Now use `SelectKBest` using `k = 10` to select the top 10 features that have the highest F-score and lowest p-values."
   ]
  },
  {
   "cell_type": "code",
   "execution_count": null,
   "id": "d97ea1ad",
   "metadata": {},
   "outputs": [],
   "source": [
    "skb = fs.SelectKBest(score_func = fs.f_regression, k = 10)"
   ]
  },
  {
   "cell_type": "code",
   "execution_count": null,
   "id": "303c5981",
   "metadata": {},
   "outputs": [],
   "source": [
    "best_feats = skb.fit_transform(X_train, y_train)"
   ]
  },
  {
   "cell_type": "code",
   "execution_count": null,
   "id": "93edc893",
   "metadata": {},
   "outputs": [],
   "source": [
    "concol = [column for column in X.columns \n",
    "          if column in X.columns[skb.get_support()]]\n",
    "\n",
    "for features in concol:\n",
    "    print(features)"
   ]
  },
  {
   "cell_type": "markdown",
   "id": "471af7b5",
   "metadata": {},
   "source": [
    "#### **1.3.c.** `SequentialFeatureSelector`"
   ]
  },
  {
   "cell_type": "code",
   "execution_count": null,
   "id": "f1fcc444",
   "metadata": {},
   "outputs": [],
   "source": [
    "from sklearn.feature_selection import SequentialFeatureSelector\n",
    "from sklearn.ensemble import RandomForestRegressor"
   ]
  },
  {
   "cell_type": "code",
   "execution_count": null,
   "id": "63d3e33c",
   "metadata": {},
   "outputs": [],
   "source": [
    "rf = RandomForestRegressor()"
   ]
  },
  {
   "cell_type": "code",
   "execution_count": null,
   "id": "bf53b5f2",
   "metadata": {},
   "outputs": [],
   "source": [
    "sfs = SequentialFeatureSelector(estimator = rf, n_features_to_select = 10, \n",
    "                                direction = 'forward', scoring = \"r2\", cv = 10)"
   ]
  },
  {
   "cell_type": "code",
   "execution_count": null,
   "id": "839af36a",
   "metadata": {},
   "outputs": [],
   "source": [
    "sfs.fit(X_train, y_train)"
   ]
  },
  {
   "cell_type": "code",
   "execution_count": null,
   "id": "ae7e3a43",
   "metadata": {},
   "outputs": [],
   "source": [
    "sfs.get_support()"
   ]
  },
  {
   "cell_type": "code",
   "execution_count": null,
   "id": "aa645320",
   "metadata": {
    "scrolled": true
   },
   "outputs": [],
   "source": [
    "selected_feat = X_train.columns[(sfs.get_support())]\n",
    "print(selected_feat)"
   ]
  },
  {
   "cell_type": "markdown",
   "id": "2651bf63",
   "metadata": {},
   "source": [
    "### Feature Analysis Summary\n",
    "\n",
    "#### Feature Exclusion"
   ]
  },
  {
   "cell_type": "markdown",
   "id": "b2e8c1fe",
   "metadata": {},
   "source": [
    "`VarianceThreshold()` Features that has *LOW* variance (ones we should exclude or combine):\n",
    "\n",
    "- `Street`\n",
    "- `Alley`\n",
    "- `Utilities`\n",
    "- `LandSlope`\n",
    "- `Condition2`\n",
    "- `RoofMatl`\n",
    "- `Heating`\n",
    "- `CentralAir`\n",
    "- `KitchenAbvGr`\n",
    "- `MiscFeature`\n",
    "- `2Stories`\n",
    "- `FinBsmt`\n",
    "- `UnfBsmt`\n",
    "- `OutdoorLiving`\n",
    "- `HasPool`\n",
    "- `HasFireplace`"
   ]
  },
  {
   "cell_type": "markdown",
   "id": "fe321e96",
   "metadata": {},
   "source": [
    "`f_regression` Features that have a *HIGH* p-value (ones we should exclude or combine):\n",
    "\n",
    "- `Utilities`\n",
    "- `BsmtFinSF2`\n",
    "- `LowQualFinSF`\n",
    "- `BsmtHalfBath`\n",
    "- `3SsnPorch`\n",
    "- `PoolArea`\n",
    "- `MiscFeature`\n",
    "- `MiscVal`\n",
    "- `MoSold`\n",
    "- `YrSold`\n",
    "- `SaleType`"
   ]
  },
  {
   "cell_type": "markdown",
   "id": "8e88ef4d",
   "metadata": {},
   "source": [
    "Features that both `VarianceThreshold()` and `f_regression` methods told us to exclude:\n",
    "\n",
    "- `Utitities`\n",
    "- `BsmtHalfBath`\n",
    "- `MiscFeature`"
   ]
  },
  {
   "cell_type": "markdown",
   "id": "d0abd931",
   "metadata": {},
   "source": [
    "#### Feature Inclusion"
   ]
  },
  {
   "cell_type": "markdown",
   "id": "fc283cfd",
   "metadata": {},
   "source": [
    "Since `VarianceThreshold()` has multiple features with high variance that are too numerous to list, we will jump into which features `SelectKBest` with `f_regression` told us we should include."
   ]
  },
  {
   "cell_type": "markdown",
   "id": "448c23b7",
   "metadata": {},
   "source": [
    "`f_regression` Top 10 Features:\n",
    "\n",
    "- `GrLivArea`\n",
    "- `OverallQual`\n",
    "- `ExterQual`\n",
    "- `BsmtQual`\n",
    "- `TotalBsmtSF`\n",
    "- `1stFlrSF`\n",
    "- `KitchenQual`\n",
    "- `GarageCars`\n",
    "- `GarageArea`\n",
    "- `TotalFullBath`"
   ]
  },
  {
   "cell_type": "markdown",
   "id": "bd0620fb",
   "metadata": {},
   "source": [
    "`SequentialFeatureSelection` Features:\n",
    "\n",
    "- `GrLivArea`\n",
    "- `Neighborhood` \n",
    "- `OverallQual`\n",
    "- `OverallCond` \n",
    "- `YearBuilt`\n",
    "- `BsmtUnfSF`\n",
    "- `TotalBsmtSF`\n",
    "- `Fireplaces`\n",
    "- `GarageCars`\n",
    "- `TotalFullBath`"
   ]
  },
  {
   "cell_type": "markdown",
   "id": "cbe90e4b",
   "metadata": {},
   "source": [
    "Features both methods had in common to include:\n",
    "\n",
    "- `GrLivArea`\n",
    "- `OverallQual`\n",
    "- `TotalBsmtSF`\n",
    "- `GarageCars`\n",
    "- `TotalFullBath`"
   ]
  },
  {
   "cell_type": "markdown",
   "id": "f4a0ecf1",
   "metadata": {},
   "source": [
    "# Feature Engineering"
   ]
  },
  {
   "cell_type": "code",
   "execution_count": null,
   "id": "af532815",
   "metadata": {
    "scrolled": true
   },
   "outputs": [],
   "source": [
    "housedf.columns"
   ]
  },
  {
   "cell_type": "code",
   "execution_count": null,
   "id": "4d5e683d",
   "metadata": {},
   "outputs": [],
   "source": [
    "housedf.shape"
   ]
  },
  {
   "cell_type": "code",
   "execution_count": null,
   "id": "62ae6aa6",
   "metadata": {},
   "outputs": [],
   "source": [
    "housedf_reduced = housedf.copy()"
   ]
  },
  {
   "cell_type": "code",
   "execution_count": null,
   "id": "113f08b5",
   "metadata": {},
   "outputs": [],
   "source": [
    "housedf_reduced.columns"
   ]
  },
  {
   "cell_type": "code",
   "execution_count": null,
   "id": "367dfa7e",
   "metadata": {
    "scrolled": true
   },
   "outputs": [],
   "source": [
    "housedf_reduced.shape"
   ]
  },
  {
   "cell_type": "markdown",
   "id": "f7dfde10",
   "metadata": {},
   "source": [
    "### Justification of Dropping Features\n",
    "\n",
    "- `Street`: Showed as low variance. Neighborhood should capture this data.\n",
    "- `Alley`: Showed as low varaince. Neighorhood should capture this inforamtion. \n",
    "- `LandContour`: This had a p-value > 0.05. Keep LotShape.\n",
    "- `Utitilies`: P-value > 0.05 and low variance. \n",
    "- `LandSlope`: Low variance.\n",
    "- `Condition2`: Low variance.\n",
    "- `Exterior2nd`: Exterior1st should capture enough of this information.\n",
    "- `MasVnrType`: Exterior1st should capture enough of this information with MasVnrArea which has a higher F-score.\n",
    "- `BsmtQual`: Height of the basement ceiling doesn't look significant to SalePrice after EDA.\n",
    "- `BsmtFinType1`: Quality of basement captured unfinished as a category and we aleady have that in a feature.\n",
    "- `BsmtFinType2`: Quality of basement captured with combination of feautres.\n",
    "- `Heating`: Showing low variance as well as low F score.\n",
    "- `CentralAir`: Most houses have central A/C.\n",
    "- `1stFlrSF`: This is captured in `GrLivArea`.\n",
    "- `2ndFlrSF`: This is captured in `GrLivArea`.\n",
    "- `LowQualFinSF`: Showed a high p-value indicating not significant to the model.\n",
    "- `TotRmsAbvGrd`: Bedrooms is the more common listed on a house listing.\n",
    "- `Functional`: Is not listed on a common house listing and is subjective.\n",
    "- `FireplaceQu`: Number of fireplaces is sufficient.\n",
    "- `GarageArea`: `GarageCars` is sufficient.\n",
    "- `MiscFeature`: Showed low feature importance and is not known what this feature is to be changed by a flipper.\n",
    "- `MoSold`: Showed low feature importance.\n",
    "- `YrSold`: Showed low feature importance.\n",
    "- `SaleType`: Showed low feature importance.\n",
    "- `SaleCondition`: Showed low feature importance.\n",
    "- `RoofMatl`: Showed low variance.\n",
    "- `KitchenAbvGr`: Showed low variance. \n",
    "- `Latitude`: Showed low variance (likely due to imputing missing values with mode).\n",
    "- `Longitude`: Showed low variance (likely due to imputing missing values with mode)."
   ]
  },
  {
   "cell_type": "code",
   "execution_count": null,
   "id": "b15be7fc",
   "metadata": {},
   "outputs": [],
   "source": [
    "housedf_reduced.drop(['Street'], axis = 1, inplace = True)\n",
    "housedf_reduced.drop(['Alley'], axis = 1, inplace = True)\n",
    "housedf_reduced.drop(['LandContour'], axis = 1, inplace = True)\n",
    "housedf_reduced.drop(['Utilities'], axis = 1, inplace = True)\n",
    "housedf_reduced.drop(['LandSlope'], axis = 1, inplace = True)\n",
    "housedf_reduced.drop(['Condition2'], axis = 1, inplace = True)\n",
    "housedf_reduced.drop(['Exterior2nd'], axis = 1, inplace = True)\n",
    "housedf_reduced.drop(['MasVnrType'], axis = 1, inplace = True)\n",
    "housedf_reduced.drop(['BsmtQual'], axis = 1, inplace = True)\n",
    "housedf_reduced.drop(['BsmtFinType1'], axis = 1, inplace = True)\n",
    "housedf_reduced.drop(['BsmtFinType2'], axis = 1, inplace = True)\n",
    "housedf_reduced.drop(['Heating'], axis = 1, inplace = True)\n",
    "housedf_reduced.drop(['CentralAir'], axis = 1, inplace = True)\n",
    "housedf_reduced.drop(['1stFlrSF'], axis = 1, inplace = True)\n",
    "housedf_reduced.drop(['2ndFlrSF'], axis = 1, inplace = True)\n",
    "housedf_reduced.drop(['LowQualFinSF'], axis = 1, inplace = True)\n",
    "housedf_reduced.drop(['TotRmsAbvGrd'], axis = 1, inplace = True)\n",
    "housedf_reduced.drop(['Functional'], axis = 1, inplace = True)\n",
    "housedf_reduced.drop(['FireplaceQu'], axis = 1, inplace = True)\n",
    "housedf_reduced.drop(['GarageArea'], axis = 1, inplace = True)\n",
    "housedf_reduced.drop(['MiscFeature'], axis = 1, inplace = True)\n",
    "housedf_reduced.drop(['MiscVal'], axis = 1, inplace = True)\n",
    "housedf_reduced.drop(['MoSold'], axis = 1, inplace = True)\n",
    "housedf_reduced.drop(['YrSold'], axis = 1, inplace = True)\n",
    "housedf_reduced.drop(['SaleType'], axis = 1, inplace = True)\n",
    "housedf_reduced.drop(['SaleCondition'], axis = 1, inplace = True)\n",
    "housedf_reduced.drop(['RoofMatl'], axis = 1, inplace = True)\n",
    "housedf_reduced.drop(['KitchenAbvGr'], axis = 1, inplace = True)\n",
    "housedf_reduced.drop(['PoolQC'], axis = 1, inplace = True)\n",
    "housedf_reduced.drop(['Latitude'], axis = 1, inplace = True)\n",
    "housedf_reduced.drop(['Longitude'], axis = 1, inplace = True)"
   ]
  },
  {
   "cell_type": "code",
   "execution_count": null,
   "id": "7f68ae35",
   "metadata": {},
   "outputs": [],
   "source": [
    "housedf_reduced.drop(['MSSubClass'], axis = 1, inplace = True)\n",
    "housedf_reduced.drop(['MSZoning'], axis = 1, inplace = True)\n",
    "housedf_reduced.drop(['LotFrontage'], axis = 1, inplace = True)\n",
    "housedf_reduced.drop(['LotArea'], axis = 1, inplace = True)\n",
    "housedf_reduced.drop(['LotShape'], axis = 1, inplace = True)\n",
    "housedf_reduced.drop(['LotConfig'], axis = 1, inplace = True)\n",
    "\n",
    "\n",
    "housedf_reduced.drop(['Condition1'], axis = 1, inplace = True)\n",
    "housedf_reduced.drop(['BldgType'], axis = 1, inplace = True)\n",
    "housedf_reduced.drop(['HouseStyle'], axis = 1, inplace = True)\n",
    "housedf_reduced.drop(['OverallCond'], axis = 1, inplace = True)\n",
    "housedf_reduced.drop(['RoofStyle'], axis = 1, inplace = True)\n",
    "housedf_reduced.drop(['Exterior1st'], axis = 1, inplace = True)\n",
    "\n",
    "\n",
    "housedf_reduced.drop(['MasVnrArea'], axis = 1, inplace = True)\n",
    "housedf_reduced.drop(['ExterQual'], axis = 1, inplace = True)\n",
    "housedf_reduced.drop(['ExterCond'], axis = 1, inplace = True)\n",
    "housedf_reduced.drop(['BsmtCond'], axis = 1, inplace = True)\n",
    "housedf_reduced.drop(['BsmtExposure'], axis = 1, inplace = True)\n",
    "housedf_reduced.drop(['BsmtUnfSF'], axis = 1, inplace = True)\n",
    "\n",
    "\n",
    "housedf_reduced.drop(['HeatingQC'], axis = 1, inplace = True)\n",
    "housedf_reduced.drop(['Electrical'], axis = 1, inplace = True)\n",
    "housedf_reduced.drop(['GarageType'], axis = 1, inplace = True)\n",
    "housedf_reduced.drop(['GarageFinish'], axis = 1, inplace = True)\n",
    "housedf_reduced.drop(['GarageQual'], axis = 1, inplace = True)\n",
    "housedf_reduced.drop(['GarageCond'], axis = 1, inplace = True)\n",
    "\n",
    "\n",
    "housedf_reduced.drop(['PavedDrive'], axis = 1, inplace = True)\n",
    "housedf_reduced.drop(['Fence'], axis = 1, inplace = True)\n",
    "housedf_reduced.drop(['ExteriorSF'], axis = 1, inplace = True)\n",
    "housedf_reduced.drop(['AgeAtSale'], axis = 1, inplace = True)\n",
    "housedf_reduced.drop(['GarageAgeAtSale'], axis = 1, inplace = True)"
   ]
  },
  {
   "cell_type": "markdown",
   "id": "972eb3f5",
   "metadata": {},
   "source": [
    "# Modeling"
   ]
  },
  {
   "cell_type": "markdown",
   "id": "29d4b973",
   "metadata": {},
   "source": [
    "Define X and y with `housedf_reduced` and split the data for hyperparameter tuning."
   ]
  },
  {
   "cell_type": "code",
   "execution_count": null,
   "id": "9a4256ca",
   "metadata": {},
   "outputs": [],
   "source": [
    "y = housedf_reduced[\"SalePrice\"]\n",
    "X = housedf_reduced.drop(\"SalePrice\", axis = 1)"
   ]
  },
  {
   "cell_type": "code",
   "execution_count": null,
   "id": "29d5f05b",
   "metadata": {},
   "outputs": [],
   "source": [
    "from sklearn.model_selection import train_test_split\n",
    "X_train, X_test, y_train, y_test = train_test_split(X, y, test_size=0.2)"
   ]
  },
  {
   "cell_type": "markdown",
   "id": "1c7e9e65",
   "metadata": {},
   "source": [
    "#### Randomized Hyperparameter Grid to find a range of values."
   ]
  },
  {
   "cell_type": "code",
   "execution_count": null,
   "id": "e25dacb9",
   "metadata": {},
   "outputs": [],
   "source": [
    "from sklearn.model_selection import RandomizedSearchCV\n",
    "from pprint import pprint"
   ]
  },
  {
   "cell_type": "code",
   "execution_count": null,
   "id": "10aed527",
   "metadata": {},
   "outputs": [],
   "source": [
    "# Number of trees in random forest\n",
    "n_estimators = [int(x) for x in np.linspace(start = 200, stop = 2000, num = 10)]\n",
    "# Number of features to consider at every split\n",
    "max_features = ['auto', 'sqrt']\n",
    "# Maximum number of levels in tree\n",
    "max_depth = [int(x) for x in np.linspace(10, 110, num = 11)]\n",
    "max_depth.append(None)\n",
    "# Minimum number of samples required to split a node\n",
    "min_samples_split = [2, 5, 10]\n",
    "# Minimum number of samples required at each leaf node\n",
    "min_samples_leaf = [1, 2, 4]\n",
    "# Method of selecting samples for training each tree\n",
    "bootstrap = [True, False]\n",
    "# Create the random grid\n",
    "random_grid = {'n_estimators': n_estimators,\n",
    "               'max_features': max_features,\n",
    "               'max_depth': max_depth,\n",
    "               'min_samples_split': min_samples_split,\n",
    "               'min_samples_leaf': min_samples_leaf,\n",
    "               'bootstrap': bootstrap}\n",
    "pprint(random_grid)"
   ]
  },
  {
   "cell_type": "code",
   "execution_count": null,
   "id": "753fd534",
   "metadata": {},
   "outputs": [],
   "source": [
    "from sklearn.ensemble import RandomForestRegressor\n",
    "rf = RandomForestRegressor()"
   ]
  },
  {
   "cell_type": "code",
   "execution_count": null,
   "id": "e54f2caa",
   "metadata": {},
   "outputs": [],
   "source": [
    "rf_random = RandomizedSearchCV(estimator = rf, param_distributions = random_grid, \n",
    "                               n_iter = 10, cv = 5, verbose=2, random_state=42, n_jobs = -1)"
   ]
  },
  {
   "cell_type": "code",
   "execution_count": null,
   "id": "3a49acc3",
   "metadata": {},
   "outputs": [],
   "source": [
    "rf_random.fit(X_train, y_train)"
   ]
  },
  {
   "cell_type": "code",
   "execution_count": null,
   "id": "e666a3da",
   "metadata": {},
   "outputs": [],
   "source": [
    "rf_random.best_params_"
   ]
  },
  {
   "cell_type": "code",
   "execution_count": null,
   "id": "4574046a",
   "metadata": {},
   "outputs": [],
   "source": [
    "rf_random.predict(X_test)"
   ]
  },
  {
   "cell_type": "code",
   "execution_count": null,
   "id": "972fb716",
   "metadata": {},
   "outputs": [],
   "source": [
    "base_model = RandomForestRegressor()\n",
    "base_model.fit(X_train, y_train)\n",
    "base_model.predict(X_test)"
   ]
  },
  {
   "cell_type": "markdown",
   "id": "307deee1",
   "metadata": {},
   "source": [
    "### Feature Importance | Shapley Values"
   ]
  },
  {
   "cell_type": "markdown",
   "id": "14c72753",
   "metadata": {},
   "source": [
    "Find out how positive or negative features contribute to the prediction of `SalesPrice` using Shapley Values. Reference:\n",
    "https://github.com/slundberg/shap\n"
   ]
  },
  {
   "cell_type": "code",
   "execution_count": null,
   "id": "5373db7b",
   "metadata": {},
   "outputs": [],
   "source": [
    "X_train.columns"
   ]
  },
  {
   "cell_type": "code",
   "execution_count": null,
   "id": "96d97615",
   "metadata": {},
   "outputs": [],
   "source": [
    "X_test.columns"
   ]
  },
  {
   "cell_type": "code",
   "execution_count": null,
   "id": "687c5ac0",
   "metadata": {},
   "outputs": [],
   "source": [
    "X_train['OutdoorLiving'] = X_train['OutdoorLiving'].astype('int')\n",
    "X_train['HasPool'] = X_train['HasPool'].astype('int')\n",
    "X_test['OutdoorLiving'] = X_test['OutdoorLiving'].astype('int')\n",
    "X_test['HasPool'] = X_test['HasPool'].astype('int')"
   ]
  },
  {
   "cell_type": "code",
   "execution_count": null,
   "id": "43ba0672",
   "metadata": {},
   "outputs": [],
   "source": [
    "X_test.info()"
   ]
  },
  {
   "cell_type": "code",
   "execution_count": null,
   "id": "246e6853",
   "metadata": {},
   "outputs": [],
   "source": [
    "import shap"
   ]
  },
  {
   "cell_type": "code",
   "execution_count": null,
   "id": "bbceee35",
   "metadata": {
    "scrolled": true
   },
   "outputs": [],
   "source": [
    "model = RandomForestRegressor(n_estimators = 1400, min_samples_split = 5, min_samples_leaf = 2, max_features = \"sqrt\",\n",
    "                             max_depth = None, bootstrap = False, warm_start = True)"
   ]
  },
  {
   "cell_type": "code",
   "execution_count": null,
   "id": "c1823577",
   "metadata": {
    "scrolled": true
   },
   "outputs": [],
   "source": [
    "model.fit(X_train, y_train)"
   ]
  },
  {
   "cell_type": "code",
   "execution_count": null,
   "id": "fceaff01",
   "metadata": {},
   "outputs": [],
   "source": [
    "explainer = shap.Explainer(model.predict, X_test)"
   ]
  },
  {
   "cell_type": "code",
   "execution_count": null,
   "id": "27d3819c",
   "metadata": {},
   "outputs": [],
   "source": [
    "shap_values = explainer(X_test)"
   ]
  },
  {
   "cell_type": "code",
   "execution_count": null,
   "id": "4a4b9c48",
   "metadata": {},
   "outputs": [],
   "source": [
    "shap.plots.waterfall(shap_values[0])"
   ]
  },
  {
   "cell_type": "code",
   "execution_count": null,
   "id": "a301f307",
   "metadata": {},
   "outputs": [],
   "source": [
    "shap.plots.beeswarm(shap_values)"
   ]
  },
  {
   "cell_type": "code",
   "execution_count": null,
   "id": "e6f8f995",
   "metadata": {},
   "outputs": [],
   "source": [
    "shap.plots.bar(shap_values)"
   ]
  },
  {
   "cell_type": "markdown",
   "id": "df56aea3",
   "metadata": {},
   "source": [
    "---"
   ]
  },
  {
   "cell_type": "markdown",
   "id": "0bb9a82c",
   "metadata": {},
   "source": [
    "- - - "
   ]
  },
  {
   "cell_type": "markdown",
   "id": "d63ab12b",
   "metadata": {},
   "source": [
    "- - - "
   ]
  },
  {
   "cell_type": "markdown",
   "id": "8143f6b2",
   "metadata": {},
   "source": [
    "# Scratch Pad\n",
    "\n",
    "- I've included this in my notebook to document the initial feature exploration, but was not used in final modeling. "
   ]
  },
  {
   "cell_type": "markdown",
   "id": "0296471a",
   "metadata": {},
   "source": [
    "#### Iteration 1 Features"
   ]
  },
  {
   "cell_type": "code",
   "execution_count": null,
   "id": "90ae2b40",
   "metadata": {},
   "outputs": [],
   "source": [
    "X = housedf_reduced.drop(\"SalePrice\", axis = 1)\n",
    "y = housedf_reduced[\"SalePrice\"]"
   ]
  },
  {
   "cell_type": "code",
   "execution_count": null,
   "id": "71bf5db5",
   "metadata": {},
   "outputs": [],
   "source": [
    "from sklearn.model_selection import train_test_split\n",
    "X_train, X_test, y_train, y_test = train_test_split(X, y, test_size=0.2)"
   ]
  },
  {
   "cell_type": "code",
   "execution_count": null,
   "id": "903e8093",
   "metadata": {},
   "outputs": [],
   "source": [
    "print(X_train.shape)\n",
    "print(X_test.shape)\n",
    "print(y_train.shape)\n",
    "print(y_test.shape)"
   ]
  },
  {
   "cell_type": "code",
   "execution_count": null,
   "id": "3563e9d8",
   "metadata": {},
   "outputs": [],
   "source": [
    "from sklearn.ensemble import RandomForestRegressor\n",
    "rf = RandomForestRegressor()"
   ]
  },
  {
   "cell_type": "code",
   "execution_count": null,
   "id": "9eead9d8",
   "metadata": {},
   "outputs": [],
   "source": [
    "rf.fit(X_train, y_train)"
   ]
  },
  {
   "cell_type": "code",
   "execution_count": null,
   "id": "ee00f3a0",
   "metadata": {},
   "outputs": [],
   "source": [
    "score = rf.score(X_train, y_train)\n",
    "print(\"R-squared:\", score)"
   ]
  },
  {
   "cell_type": "code",
   "execution_count": null,
   "id": "a6d6c35f",
   "metadata": {},
   "outputs": [],
   "source": [
    "ypred = rf.predict(X_test)"
   ]
  },
  {
   "cell_type": "code",
   "execution_count": null,
   "id": "b8397c54",
   "metadata": {},
   "outputs": [],
   "source": [
    "from sklearn.metrics import mean_squared_error\n",
    "\n",
    "mse = mean_squared_error(y_test, ypred)\n",
    "print(\"MSE: \", mse)\n",
    "print(\"RMSE: \", mse*(1/2.0))"
   ]
  },
  {
   "cell_type": "code",
   "execution_count": null,
   "id": "3e4853fe",
   "metadata": {
    "scrolled": true
   },
   "outputs": [],
   "source": [
    "x_ax = range(len(y_test))\n",
    "plt.plot(x_ax, y_test, linewidth=1, label=\"original\")\n",
    "plt.plot(x_ax, ypred, linewidth=1.1, label=\"predicted\")\n",
    "plt.title(\"y-test and y-predicted data\")\n",
    "plt.xlabel('X-axis')\n",
    "plt.ylabel('Y-axis')\n",
    "plt.legend(loc='best',fancybox=True, shadow=True)\n",
    "plt.grid(True)\n",
    "plt.show() "
   ]
  },
  {
   "cell_type": "markdown",
   "id": "fadc5fce",
   "metadata": {},
   "source": [
    "#### Iteration 2 Features\n",
    "#### From the `f_regression` method. Keep all features that had p-values less than 0.05."
   ]
  },
  {
   "cell_type": "markdown",
   "id": "308e2bb0",
   "metadata": {},
   "source": [
    "##### Observations from `f_regression` p-values.\n",
    "\n",
    "The following features have a p-value of 0.05 or higher, so these will not be significant on prediciting `SalePrice`:\n",
    "\n",
    "- `LandContour`: 0.051559\n",
    "- `Utilities`: 0.083717\n",
    "- `BsmtFinSF2`: 0.249295\n",
    "- `LowQualFinSF`: 0.117548\n",
    "- `BsmtHalfBath`: 0.086452\n",
    "- `3SsnPorch`: 0.112386\n",
    "- `PoolArea`: 0.117289\n",
    "- `MiscVal`: 0.338131\n",
    "- `MoSold`: 0.518331\n",
    "- `YrSold`: 0.948975\n",
    "- `SaleType`: 0.962618"
   ]
  },
  {
   "cell_type": "code",
   "execution_count": null,
   "id": "f86b6942",
   "metadata": {},
   "outputs": [],
   "source": [
    "housedf_iter2 = housedfcopy.copy()"
   ]
  },
  {
   "cell_type": "code",
   "execution_count": null,
   "id": "b5a5fbef",
   "metadata": {},
   "outputs": [],
   "source": [
    "housedf_iter2.shape"
   ]
  },
  {
   "cell_type": "code",
   "execution_count": null,
   "id": "fb671cee",
   "metadata": {},
   "outputs": [],
   "source": [
    "housedf_iter2.columns"
   ]
  },
  {
   "cell_type": "code",
   "execution_count": null,
   "id": "21d28231",
   "metadata": {},
   "outputs": [],
   "source": [
    "housedf_iter2.drop(['LandContour'], axis = 1, inplace = True)\n",
    "\n",
    "housedf_iter2.drop(['Utilities'], axis = 1, inplace = True)\n",
    "\n",
    "housedf_iter2.drop(['BsmtFinSF2'], axis = 1, inplace = True)\n",
    "\n",
    "housedf_iter2.drop(['LowQualFinSF'], axis = 1, inplace = True)\n",
    "\n",
    "housedf_iter2.drop(['BsmtHalfBath'], axis = 1, inplace = True)\n",
    "\n",
    "housedf_iter2.drop(['3SsnPorch'], axis = 1, inplace = True)\n",
    "\n",
    "housedf_iter2.drop(['PoolArea'], axis = 1, inplace = True)\n",
    "\n",
    "housedf_iter2.drop(['MiscVal'], axis = 1, inplace = True)\n",
    "\n",
    "housedf_iter2.drop(['MoSold'], axis = 1, inplace = True)\n",
    "\n",
    "housedf_iter2.drop(['YrSold'], axis = 1, inplace = True)\n",
    "\n",
    "housedf_iter2.drop(['SaleType'], axis = 1, inplace = True)"
   ]
  },
  {
   "cell_type": "code",
   "execution_count": null,
   "id": "bdfd1c9f",
   "metadata": {},
   "outputs": [],
   "source": [
    "X = housedf_iter2.drop(\"SalePrice\", axis = 1)\n",
    "y = housedf_iter2[\"SalePrice\"]"
   ]
  },
  {
   "cell_type": "code",
   "execution_count": null,
   "id": "0bf4ecbd",
   "metadata": {},
   "outputs": [],
   "source": [
    "from sklearn.model_selection import train_test_split\n",
    "X_train, X_test, y_train, y_test = train_test_split(X, y, test_size=0.2)"
   ]
  },
  {
   "cell_type": "code",
   "execution_count": null,
   "id": "7d82f8c1",
   "metadata": {},
   "outputs": [],
   "source": [
    "print(X_train.shape)\n",
    "print(X_test.shape)\n",
    "print(y_train.shape)\n",
    "print(y_test.shape)"
   ]
  },
  {
   "cell_type": "code",
   "execution_count": null,
   "id": "0a7ed734",
   "metadata": {},
   "outputs": [],
   "source": [
    "from sklearn.ensemble import RandomForestRegressor\n",
    "rf = RandomForestRegressor()"
   ]
  },
  {
   "cell_type": "code",
   "execution_count": null,
   "id": "017890e7",
   "metadata": {},
   "outputs": [],
   "source": [
    "rf.fit(X_train, y_train)"
   ]
  },
  {
   "cell_type": "code",
   "execution_count": null,
   "id": "d15c08a1",
   "metadata": {},
   "outputs": [],
   "source": [
    "score = rf.score(X_train, y_train)\n",
    "print(\"R-squared:\", score)"
   ]
  },
  {
   "cell_type": "code",
   "execution_count": null,
   "id": "99b08fa8",
   "metadata": {},
   "outputs": [],
   "source": [
    "ypred = rf.predict(X_test)"
   ]
  },
  {
   "cell_type": "code",
   "execution_count": null,
   "id": "189e8557",
   "metadata": {},
   "outputs": [],
   "source": [
    "from sklearn.metrics import mean_squared_error\n",
    "\n",
    "mse = mean_squared_error(y_test, ypred)\n",
    "print(\"MSE: \", mse)\n",
    "print(\"RMSE: \", mse*(1/2.0))"
   ]
  },
  {
   "cell_type": "code",
   "execution_count": null,
   "id": "9b46ab18",
   "metadata": {},
   "outputs": [],
   "source": [
    "x_ax = range(len(y_test))\n",
    "plt.plot(x_ax, y_test, linewidth=1, label=\"original\")\n",
    "plt.plot(x_ax, ypred, linewidth=1.1, label=\"predicted\")\n",
    "plt.title(\"y-test and y-predicted data\")\n",
    "plt.xlabel('X-axis')\n",
    "plt.ylabel('Y-axis')\n",
    "plt.legend(loc='best',fancybox=True, shadow=True)\n",
    "plt.grid(True)\n",
    "plt.show()"
   ]
  },
  {
   "cell_type": "markdown",
   "id": "a66fd37c",
   "metadata": {},
   "source": [
    "#### Iteration 3\n",
    "\n",
    "#### Raw Dataset Top 10 Features.\n",
    "- GrLivArea\n",
    "- OverallQual\n",
    "- ExterQual\n",
    "- BsmtQual\n",
    "- TotalBsmtSF\n",
    "- 1stFlrSF\n",
    "- KitchenQual\n",
    "- GarageCars\n",
    "- GarageArea\n",
    "- TotalFullBath\n",
    "\n",
    "\n",
    "#### Feature Engineered Dataset Top 10 Features.\n",
    "- GrLivArea\n",
    "- OverallQual\n",
    "- YearBuilt\n",
    "- YearRemodAdd\n",
    "- ExterQual\n",
    "- TotalBsmtSF\n",
    "- KitchenQual\n",
    "- GarageFinish\n",
    "- GarageCars\n",
    "- TotalBathrooms"
   ]
  },
  {
   "cell_type": "code",
   "execution_count": null,
   "id": "f470664b",
   "metadata": {},
   "outputs": [],
   "source": [
    "housedf_iter3 = housedf_reduced[['SalePrice', 'GrLivArea', 'OverallQual', 'YearBuilt', 'YearRemodAdd', 'ExterQual', 'TotalBsmtSF', 'KitchenQual', 'GarageFinish', 'GarageCars', 'TotalBathrooms']]"
   ]
  },
  {
   "cell_type": "code",
   "execution_count": null,
   "id": "43caf0ca",
   "metadata": {},
   "outputs": [],
   "source": [
    "X = housedf_iter3.drop(\"SalePrice\", axis = 1)\n",
    "y = housedf_iter3[\"SalePrice\"]"
   ]
  },
  {
   "cell_type": "code",
   "execution_count": null,
   "id": "a998d65d",
   "metadata": {},
   "outputs": [],
   "source": [
    "from sklearn.model_selection import train_test_split\n",
    "X_train, X_test, y_train, y_test = train_test_split(X, y, test_size=0.2)"
   ]
  },
  {
   "cell_type": "code",
   "execution_count": null,
   "id": "f4cc8b3e",
   "metadata": {},
   "outputs": [],
   "source": [
    "print(X_train.shape)\n",
    "print(X_test.shape)\n",
    "print(y_train.shape)\n",
    "print(y_test.shape)"
   ]
  },
  {
   "cell_type": "code",
   "execution_count": null,
   "id": "741c09a4",
   "metadata": {},
   "outputs": [],
   "source": [
    "from sklearn.ensemble import RandomForestRegressor\n",
    "rf = RandomForestRegressor()"
   ]
  },
  {
   "cell_type": "code",
   "execution_count": null,
   "id": "31ca2013",
   "metadata": {},
   "outputs": [],
   "source": [
    "rf.fit(X_train, y_train)"
   ]
  },
  {
   "cell_type": "code",
   "execution_count": null,
   "id": "f5773294",
   "metadata": {},
   "outputs": [],
   "source": [
    "score = rf.score(X_train, y_train)\n",
    "print(\"R-squared:\", score)"
   ]
  },
  {
   "cell_type": "code",
   "execution_count": null,
   "id": "23a52305",
   "metadata": {},
   "outputs": [],
   "source": [
    "ypred = rf.predict(X_test)"
   ]
  },
  {
   "cell_type": "code",
   "execution_count": null,
   "id": "7c36404d",
   "metadata": {
    "scrolled": true
   },
   "outputs": [],
   "source": [
    "from sklearn.metrics import mean_squared_error\n",
    "\n",
    "mse = mean_squared_error(y_test, ypred)\n",
    "print(\"MSE: \", mse)\n",
    "print(\"RMSE: \", mse*(1/2.0))"
   ]
  },
  {
   "cell_type": "code",
   "execution_count": null,
   "id": "51421907",
   "metadata": {},
   "outputs": [],
   "source": [
    "x_ax = range(len(y_test))\n",
    "plt.plot(x_ax, y_test, linewidth=1, label=\"original\")\n",
    "plt.plot(x_ax, ypred, linewidth=1.1, label=\"predicted\")\n",
    "plt.title(\"y-test and y-predicted data\")\n",
    "plt.xlabel('X-axis')\n",
    "plt.ylabel('Y-axis')\n",
    "plt.legend(loc='best',fancybox=True, shadow=True)\n",
    "plt.grid(True)\n",
    "plt.show()"
   ]
  }
 ],
 "metadata": {
  "kernelspec": {
   "display_name": "Python 3 (ipykernel)",
   "language": "python",
   "name": "python3"
  },
  "language_info": {
   "codemirror_mode": {
    "name": "ipython",
    "version": 3
   },
   "file_extension": ".py",
   "mimetype": "text/x-python",
   "name": "python",
   "nbconvert_exporter": "python",
   "pygments_lexer": "ipython3",
   "version": "3.9.13"
  }
 },
 "nbformat": 4,
 "nbformat_minor": 5
}
